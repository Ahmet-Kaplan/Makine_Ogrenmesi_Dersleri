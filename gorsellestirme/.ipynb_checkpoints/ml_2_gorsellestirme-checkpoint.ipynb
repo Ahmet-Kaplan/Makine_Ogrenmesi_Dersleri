{
 "cells": [
  {
   "cell_type": "markdown",
   "metadata": {},
   "source": [
    "İlk dersimizde Python’ın pandas kütüphanesindeki temel fonksiyonlar ile telekom verisi üzerinde çeşitli sorulara cevaplar vermiştik.\n",
    "\n",
    "Bu hafta ise kalp-damar hastalıkları ile ilgili veri setimizi pandas’a ek olarak popüler matplotlib ve seaborn kütüphaneleriyle görselleştirip 11 soruya cevap vereceğiz.\n",
    "\n",
    "İlk iki haftanın derslerini ve ödevlerini makine öğrenmesinden ziyade Python diline giriş olarak düşünebilirsiniz, eksikleriniz varsa umarım bir parça faydalı olmuştur.\n",
    "\n",
    "3.hafta Karar Ağaçları (Decision Trees), En Yakın Komşu (k-NN) algoritmalarına ve model parametrelerinin seçilimi konusuna giriş yapılacak. Bu modellerle daha önce incelemiş olduğumuz telekom verisi üzerinde müşteri kayıp analizi tahmini ve el yazısıyla yazılmış rakamları tanıma çalışması yapılacak.\n",
    "\n",
    "Notlar kısmında haftaya kadar bakmanızda faydası olduğunu düşündüğüm linkleri paylaşıyorum, lafı çok uzatmadan bu haftaki sorularımıza başlayalım."
   ]
  },
  {
   "cell_type": "markdown",
   "metadata": {
    "collapsed": true
   },
   "source": [
    "# Assignment # 2\n",
    "## Kalp ve Damar Hastalığı Analizi"
   ]
  },
  {
   "cell_type": "markdown",
   "metadata": {},
   "source": [
    "# Part 1. Veri Analizi"
   ]
  },
  {
   "cell_type": "markdown",
   "metadata": {
    "collapsed": true
   },
   "source": [
    "Dostlarımızı çağıralım."
   ]
  },
  {
   "cell_type": "code",
   "execution_count": 1,
   "metadata": {
    "collapsed": true
   },
   "outputs": [],
   "source": [
    "import pandas as pd\n",
    "import numpy as np\n",
    "import warnings\n",
    "warnings.filterwarnings(\"ignore\")\n",
    "import seaborn as sns\n",
    "sns.set()\n",
    "import matplotlib\n",
    "import matplotlib.pyplot as plt\n",
    "import matplotlib.ticker\n",
    "%matplotlib inline\n",
    "from matplotlib import rcParams\n",
    "rcParams['figure.figsize'] = 11, 8"
   ]
  },
  {
   "cell_type": "markdown",
   "metadata": {},
   "source": [
    "Bu haftaki veri setimizi de lokalelimize indirmeden github'tan kolayca çekiyoruz.\n",
    "df.shape verimizde kaç satır ve kaç sütun olduğunu bize gösteriyor."
   ]
  },
  {
   "cell_type": "code",
   "execution_count": 7,
   "metadata": {
    "scrolled": false
   },
   "outputs": [
    {
     "name": "stdout",
     "output_type": "stream",
     "text": [
      "Veri setimizde 70000 satır 13 sütun var \n"
     ]
    },
    {
     "data": {
      "text/html": [
       "<div>\n",
       "<style scoped>\n",
       "    .dataframe tbody tr th:only-of-type {\n",
       "        vertical-align: middle;\n",
       "    }\n",
       "\n",
       "    .dataframe tbody tr th {\n",
       "        vertical-align: top;\n",
       "    }\n",
       "\n",
       "    .dataframe thead th {\n",
       "        text-align: right;\n",
       "    }\n",
       "</style>\n",
       "<table border=\"1\" class=\"dataframe\">\n",
       "  <thead>\n",
       "    <tr style=\"text-align: right;\">\n",
       "      <th></th>\n",
       "      <th>id</th>\n",
       "      <th>age</th>\n",
       "      <th>gender</th>\n",
       "      <th>height</th>\n",
       "      <th>weight</th>\n",
       "      <th>ap_hi</th>\n",
       "      <th>ap_lo</th>\n",
       "      <th>cholesterol</th>\n",
       "      <th>gluc</th>\n",
       "      <th>smoke</th>\n",
       "      <th>alco</th>\n",
       "      <th>active</th>\n",
       "      <th>cardio</th>\n",
       "    </tr>\n",
       "  </thead>\n",
       "  <tbody>\n",
       "    <tr>\n",
       "      <th>0</th>\n",
       "      <td>0</td>\n",
       "      <td>18393</td>\n",
       "      <td>2</td>\n",
       "      <td>168</td>\n",
       "      <td>62.0</td>\n",
       "      <td>110</td>\n",
       "      <td>80</td>\n",
       "      <td>1</td>\n",
       "      <td>1</td>\n",
       "      <td>0</td>\n",
       "      <td>0</td>\n",
       "      <td>1</td>\n",
       "      <td>0</td>\n",
       "    </tr>\n",
       "    <tr>\n",
       "      <th>1</th>\n",
       "      <td>1</td>\n",
       "      <td>20228</td>\n",
       "      <td>1</td>\n",
       "      <td>156</td>\n",
       "      <td>85.0</td>\n",
       "      <td>140</td>\n",
       "      <td>90</td>\n",
       "      <td>3</td>\n",
       "      <td>1</td>\n",
       "      <td>0</td>\n",
       "      <td>0</td>\n",
       "      <td>1</td>\n",
       "      <td>1</td>\n",
       "    </tr>\n",
       "    <tr>\n",
       "      <th>2</th>\n",
       "      <td>2</td>\n",
       "      <td>18857</td>\n",
       "      <td>1</td>\n",
       "      <td>165</td>\n",
       "      <td>64.0</td>\n",
       "      <td>130</td>\n",
       "      <td>70</td>\n",
       "      <td>3</td>\n",
       "      <td>1</td>\n",
       "      <td>0</td>\n",
       "      <td>0</td>\n",
       "      <td>0</td>\n",
       "      <td>1</td>\n",
       "    </tr>\n",
       "    <tr>\n",
       "      <th>3</th>\n",
       "      <td>3</td>\n",
       "      <td>17623</td>\n",
       "      <td>2</td>\n",
       "      <td>169</td>\n",
       "      <td>82.0</td>\n",
       "      <td>150</td>\n",
       "      <td>100</td>\n",
       "      <td>1</td>\n",
       "      <td>1</td>\n",
       "      <td>0</td>\n",
       "      <td>0</td>\n",
       "      <td>1</td>\n",
       "      <td>1</td>\n",
       "    </tr>\n",
       "    <tr>\n",
       "      <th>4</th>\n",
       "      <td>4</td>\n",
       "      <td>17474</td>\n",
       "      <td>1</td>\n",
       "      <td>156</td>\n",
       "      <td>56.0</td>\n",
       "      <td>100</td>\n",
       "      <td>60</td>\n",
       "      <td>1</td>\n",
       "      <td>1</td>\n",
       "      <td>0</td>\n",
       "      <td>0</td>\n",
       "      <td>0</td>\n",
       "      <td>0</td>\n",
       "    </tr>\n",
       "  </tbody>\n",
       "</table>\n",
       "</div>"
      ],
      "text/plain": [
       "   id    age  gender  height  weight  ap_hi  ap_lo  cholesterol  gluc  smoke  \\\n",
       "0   0  18393       2     168    62.0    110     80            1     1      0   \n",
       "1   1  20228       1     156    85.0    140     90            3     1      0   \n",
       "2   2  18857       1     165    64.0    130     70            3     1      0   \n",
       "3   3  17623       2     169    82.0    150    100            1     1      0   \n",
       "4   4  17474       1     156    56.0    100     60            1     1      0   \n",
       "\n",
       "   alco  active  cardio  \n",
       "0     0       1       0  \n",
       "1     0       1       1  \n",
       "2     0       0       1  \n",
       "3     0       1       1  \n",
       "4     0       0       0  "
      ]
     },
     "execution_count": 7,
     "metadata": {},
     "output_type": "execute_result"
    }
   ],
   "source": [
    "df = pd.read_csv('data/cardio_data.csv')\n",
    "satır = df.shape[0]\n",
    "sütun = df.shape[1]\n",
    "print('Veri setimizde {0} satır {1} sütun var '.format(satır, sütun))\n",
    "df.head()"
   ]
  },
  {
   "cell_type": "markdown",
   "metadata": {
    "collapsed": true
   },
   "source": [
    "Veri setindeki özniteliklerin tiplerini ve eksik değerlerin olup olmadığını df.info() fonksiyonuyla buluyoruz."
   ]
  },
  {
   "cell_type": "code",
   "execution_count": 3,
   "metadata": {},
   "outputs": [
    {
     "name": "stdout",
     "output_type": "stream",
     "text": [
      "<class 'pandas.core.frame.DataFrame'>\n",
      "RangeIndex: 70000 entries, 0 to 69999\n",
      "Data columns (total 13 columns):\n",
      "id             70000 non-null int64\n",
      "age            70000 non-null int64\n",
      "gender         70000 non-null int64\n",
      "height         70000 non-null int64\n",
      "weight         70000 non-null float64\n",
      "ap_hi          70000 non-null int64\n",
      "ap_lo          70000 non-null int64\n",
      "cholesterol    70000 non-null int64\n",
      "gluc           70000 non-null int64\n",
      "smoke          70000 non-null int64\n",
      "alco           70000 non-null int64\n",
      "active         70000 non-null int64\n",
      "cardio         70000 non-null int64\n",
      "dtypes: float64(1), int64(12)\n",
      "memory usage: 6.9 MB\n"
     ]
    }
   ],
   "source": [
    "df.info()"
   ]
  },
  {
   "cell_type": "markdown",
   "metadata": {},
   "source": [
    "## 1.1. Temel Gözlemler"
   ]
  },
  {
   "cell_type": "markdown",
   "metadata": {},
   "source": [
    "** Q1. Ortalamada erkeklerin boy uzunluğunun kadınlardan fazla olduğu varsayımıyla veri setindeki \n",
    "erkeklerin ve kadınların sayısını bulunuz.**\n",
    "1. 45530 women и 24470 men\n",
    "2. 45530 men и 24470 women\n",
    "3. 45470 women и 24530 men\n",
    "4. 45470 men и 24530 women"
   ]
  },
  {
   "cell_type": "markdown",
   "metadata": {
    "collapsed": true
   },
   "source": [
    "Erkeklerin boy ortalamasının kadınların boy ortalamasından daha yüksek olduğu bize yukarıda verilmiş.\n",
    "sns.barplot() fonksiyonuyla ve yukarıda verilen bilgiyle bilmediğimiz cinsiyet etiketlerini \n",
    "kolayca tahmin edebiliyoruz.\n",
    "plt.show() bize görselin üstünde <matplotlib.axes._subplots.AxesSubplot at 0x7f521ead60f0> benzeri bir bilgi\n",
    "çıkmaması için yazılıyor.\n",
    "figsize() bize görselin enini ve boyunu belirlememize imkan sağlıyor, renk seçimini palette ile yapıyoruz."
   ]
  },
  {
   "cell_type": "code",
   "execution_count": 4,
   "metadata": {
    "scrolled": false
   },
   "outputs": [
    {
     "data": {
      "image/png": "[encoded data removed]",
      "text/plain": [
       "<matplotlib.figure.Figure at 0x7feafcc050f0>"
      ]
     },
     "metadata": {},
     "output_type": "display_data"
    }
   ],
   "source": [
    "a,x = plt.subplots(figsize=(10, 4))\n",
    "sns.barplot(x = 'gender', y = 'height', data = df, palette = 'dark', ax =x) \n",
    "plt.show()"
   ]
  },
  {
   "cell_type": "markdown",
   "metadata": {
    "collapsed": true
   },
   "source": [
    "Kadınların gender == 1 erkeklerin gender == 2 indeksine sahip olduğunu öğrenmiş olduk. \n",
    "Geçen hafta öğrendiğimiz basit indeks araması ve len() fonksiyonuyla istediğimiz bilgilere ulaşıyoruz."
   ]
  },
  {
   "cell_type": "code",
   "execution_count": 5,
   "metadata": {
    "scrolled": true
   },
   "outputs": [
    {
     "name": "stdout",
     "output_type": "stream",
     "text": [
      "Veri setinde 45530 kadın var.\n",
      "Veri setinde 24470 erkek var.\n"
     ]
    }
   ],
   "source": [
    "print(\"Veri setinde {} kadın var.\". format(len(df[df.gender == 1])))\n",
    "print(\"Veri setinde {} erkek var.\".format(len(df[df.gender == 2])))"
   ]
  },
  {
   "cell_type": "markdown",
   "metadata": {},
   "source": [
    "**Q2. Erkekler mi yoksa kadınlar mı daha çok alkol tüketir?**"
   ]
  },
  {
   "cell_type": "markdown",
   "metadata": {
    "collapsed": true
   },
   "source": [
    "Yukarıdaki örnekte gördüğümüz gibi sns.barplot() bize ortalamaları veriyor. (unutanlar için 1:kadın, 2:erkek)"
   ]
  },
  {
   "cell_type": "code",
   "execution_count": 6,
   "metadata": {
    "scrolled": false
   },
   "outputs": [
    {
     "data": {
      "image/png": "[encoded data removed]",
      "text/plain": [
       "<matplotlib.figure.Figure at 0x7feafcc8ae48>"
      ]
     },
     "metadata": {},
     "output_type": "display_data"
    }
   ],
   "source": [
    "a,x = plt.subplots(figsize=(10, 5))\n",
    "sns.barplot(x = 'gender', y = 'alco', data = df, palette = 'inferno')\n",
    "plt.show()"
   ]
  },
  {
   "cell_type": "markdown",
   "metadata": {},
   "source": [
    "**Q3. Erkeklerin ve kadınların sigara içen yüzdelerinin farkı kaçtır?**\n",
    "1. 4\n",
    "2. 16\n",
    "3. 20\n",
    "4. 24"
   ]
  },
  {
   "cell_type": "markdown",
   "metadata": {
    "collapsed": true
   },
   "source": [
    "df[df.gender == 2] bize sadece erkeklerin olduğu 24470 satırı ve bütün sütunları veriyor.\n",
    "df[df.gender == 2]['smoke'] 24470 satırı ve sadece smoke sütununu veriyor.\n",
    "df[df.gender == 2]['smoke'].mean() 24470 satır ve smoke sütunun olduğu bir serinin ortalamasını veriyor.\n",
    "Aynı işlemi kadınlar için de yapıyoruz, fark yaklaşık %20.(cevaplar 0-1 arasında unutmayın.)"
   ]
  },
  {
   "cell_type": "code",
   "execution_count": 7,
   "metadata": {},
   "outputs": [
    {
     "data": {
      "text/plain": [
       "0.201"
      ]
     },
     "execution_count": 7,
     "metadata": {},
     "output_type": "execute_result"
    }
   ],
   "source": [
    "round(df[df.gender == 2]['smoke'].mean() - df[df.gender == 1]['smoke'].mean(), 4)"
   ]
  },
  {
   "cell_type": "markdown",
   "metadata": {},
   "source": [
    "**Q4. Sigara içenlerin ve içmeyenlerin medyan yaşlarının farkı kaçtır?**\n",
    "\n",
    "1. 5\n",
    "2. 10\n",
    "3. 15\n",
    "4. 20"
   ]
  },
  {
   "cell_type": "markdown",
   "metadata": {
    "collapsed": true
   },
   "source": [
    "Yaş sütunundaki değerlerde bir gariplik olduğu ilginizi çekmiş olmalı çünkü değerler gün cinsinden.\n",
    "O sebeple aklıma ilk gelen aşağıdaki yanıt üzerinde çeşitli dönüşüm işlemleri yapmak yerine basit bir map()\n",
    "fonksiyonuyla bütün değerleri 365'e bölelim."
   ]
  },
  {
   "cell_type": "code",
   "execution_count": 8,
   "metadata": {},
   "outputs": [
    {
     "data": {
      "text/plain": [
       "-597.0"
      ]
     },
     "execution_count": 8,
     "metadata": {},
     "output_type": "execute_result"
    }
   ],
   "source": [
    "df[df.smoke == 1]['age'].median() - df[df.smoke == 0]['age'].median()"
   ]
  },
  {
   "cell_type": "code",
   "execution_count": 9,
   "metadata": {
    "collapsed": true
   },
   "outputs": [],
   "source": [
    "df['age'] = df['age'].map(lambda x: x / 365)"
   ]
  },
  {
   "cell_type": "code",
   "execution_count": null,
   "metadata": {
    "collapsed": true
   },
   "outputs": [],
   "source": [
    "Cevabı yuvarlayacağımız için bu aşamada yaş sütununda yeni bir dönüşüm işlemi yapmıyorum."
   ]
  },
  {
   "cell_type": "code",
   "execution_count": 10,
   "metadata": {},
   "outputs": [
    {
     "data": {
      "text/html": [
       "<div>\n",
       "<style scoped>\n",
       "    .dataframe tbody tr th:only-of-type {\n",
       "        vertical-align: middle;\n",
       "    }\n",
       "\n",
       "    .dataframe tbody tr th {\n",
       "        vertical-align: top;\n",
       "    }\n",
       "\n",
       "    .dataframe thead th {\n",
       "        text-align: right;\n",
       "    }\n",
       "</style>\n",
       "<table border=\"1\" class=\"dataframe\">\n",
       "  <thead>\n",
       "    <tr style=\"text-align: right;\">\n",
       "      <th></th>\n",
       "      <th>id</th>\n",
       "      <th>age</th>\n",
       "      <th>gender</th>\n",
       "      <th>height</th>\n",
       "      <th>weight</th>\n",
       "      <th>ap_hi</th>\n",
       "      <th>ap_lo</th>\n",
       "      <th>cholesterol</th>\n",
       "      <th>gluc</th>\n",
       "      <th>smoke</th>\n",
       "      <th>alco</th>\n",
       "      <th>active</th>\n",
       "      <th>cardio</th>\n",
       "    </tr>\n",
       "  </thead>\n",
       "  <tbody>\n",
       "    <tr>\n",
       "      <th>0</th>\n",
       "      <td>0</td>\n",
       "      <td>50.391781</td>\n",
       "      <td>2</td>\n",
       "      <td>168</td>\n",
       "      <td>62.0</td>\n",
       "      <td>110</td>\n",
       "      <td>80</td>\n",
       "      <td>1</td>\n",
       "      <td>1</td>\n",
       "      <td>0</td>\n",
       "      <td>0</td>\n",
       "      <td>1</td>\n",
       "      <td>0</td>\n",
       "    </tr>\n",
       "    <tr>\n",
       "      <th>1</th>\n",
       "      <td>1</td>\n",
       "      <td>55.419178</td>\n",
       "      <td>1</td>\n",
       "      <td>156</td>\n",
       "      <td>85.0</td>\n",
       "      <td>140</td>\n",
       "      <td>90</td>\n",
       "      <td>3</td>\n",
       "      <td>1</td>\n",
       "      <td>0</td>\n",
       "      <td>0</td>\n",
       "      <td>1</td>\n",
       "      <td>1</td>\n",
       "    </tr>\n",
       "    <tr>\n",
       "      <th>2</th>\n",
       "      <td>2</td>\n",
       "      <td>51.663014</td>\n",
       "      <td>1</td>\n",
       "      <td>165</td>\n",
       "      <td>64.0</td>\n",
       "      <td>130</td>\n",
       "      <td>70</td>\n",
       "      <td>3</td>\n",
       "      <td>1</td>\n",
       "      <td>0</td>\n",
       "      <td>0</td>\n",
       "      <td>0</td>\n",
       "      <td>1</td>\n",
       "    </tr>\n",
       "    <tr>\n",
       "      <th>3</th>\n",
       "      <td>3</td>\n",
       "      <td>48.282192</td>\n",
       "      <td>2</td>\n",
       "      <td>169</td>\n",
       "      <td>82.0</td>\n",
       "      <td>150</td>\n",
       "      <td>100</td>\n",
       "      <td>1</td>\n",
       "      <td>1</td>\n",
       "      <td>0</td>\n",
       "      <td>0</td>\n",
       "      <td>1</td>\n",
       "      <td>1</td>\n",
       "    </tr>\n",
       "    <tr>\n",
       "      <th>4</th>\n",
       "      <td>4</td>\n",
       "      <td>47.873973</td>\n",
       "      <td>1</td>\n",
       "      <td>156</td>\n",
       "      <td>56.0</td>\n",
       "      <td>100</td>\n",
       "      <td>60</td>\n",
       "      <td>1</td>\n",
       "      <td>1</td>\n",
       "      <td>0</td>\n",
       "      <td>0</td>\n",
       "      <td>0</td>\n",
       "      <td>0</td>\n",
       "    </tr>\n",
       "  </tbody>\n",
       "</table>\n",
       "</div>"
      ],
      "text/plain": [
       "   id        age  gender  height  weight  ap_hi  ap_lo  cholesterol  gluc  \\\n",
       "0   0  50.391781       2     168    62.0    110     80            1     1   \n",
       "1   1  55.419178       1     156    85.0    140     90            3     1   \n",
       "2   2  51.663014       1     165    64.0    130     70            3     1   \n",
       "3   3  48.282192       2     169    82.0    150    100            1     1   \n",
       "4   4  47.873973       1     156    56.0    100     60            1     1   \n",
       "\n",
       "   smoke  alco  active  cardio  \n",
       "0      0     0       1       0  \n",
       "1      0     0       1       1  \n",
       "2      0     0       0       1  \n",
       "3      0     0       1       1  \n",
       "4      0     0       0       0  "
      ]
     },
     "execution_count": 10,
     "metadata": {},
     "output_type": "execute_result"
    }
   ],
   "source": [
    "df.head()"
   ]
  },
  {
   "cell_type": "code",
   "execution_count": null,
   "metadata": {
    "collapsed": true
   },
   "outputs": [],
   "source": [
    "Yukarıda detaylıca anlattığım düşünce akışını kullanarak aşağıdaki satırı yazabiliriz.\n",
    "Cevap ay cinsinden istendiği için çıkan sonucu 12 ile çarpıyoruz."
   ]
  },
  {
   "cell_type": "code",
   "execution_count": 12,
   "metadata": {
    "scrolled": false
   },
   "outputs": [
    {
     "data": {
      "text/plain": [
       "19.62739726027391"
      ]
     },
     "execution_count": 12,
     "metadata": {},
     "output_type": "execute_result"
    }
   ],
   "source": [
    "(df[df.smoke == 0]['age'].median() - df[df.smoke == 1]['age'].median()) * 12"
   ]
  },
  {
   "cell_type": "markdown",
   "metadata": {},
   "source": [
    "## 1.2. Risk haritaları\n",
    "### Task:"
   ]
  },
  {
   "cell_type": "markdown",
   "metadata": {},
   "source": [
    "**Q5. 60-65 yaş aralığında sigara içen erkeklerden kolesterol değeri 1 ve ap_hi değeri 120'den \n",
    "düşük olanların hasta olma olasılığıyla kolesterol değeri 3 ve ap_hi değeri 160-180 arasında\n",
    "olanların hasta olma olasılıklarının oranı nedir?**\n",
    "\n",
    "1. 1\n",
    "2. 2\n",
    "3. 3\n",
    "4. 4"
   ]
  },
  {
   "cell_type": "markdown",
   "metadata": {
    "collapsed": true
   },
   "source": [
    "Bizden yaşları yuvarlamamız, yaşı 60'tan 64'e kadar olan, sigara içen systolic pressure değeri belirli \n",
    "aralıklarda olan erkeklerin verisini kullanarak bu bölümü cevaplamamız bekleniyor."
   ]
  },
  {
   "cell_type": "code",
   "execution_count": null,
   "metadata": {
    "collapsed": true
   },
   "outputs": [],
   "source": [
    "df['age'] yaş sütunundaki tüm değerleri bize veriyor.\n",
    "df['age'].map(lambda x:) bütün bu değerlere bir dönüşüm uygulanacağını belirtiyor.\n",
    "df['age'].map(lambda x: round(x)) bu dönüşümün yuvarlama işlemi olduğunu bize söylüyor.\n",
    "(Yukarıdaki örnekte her değeri 365'e bölmüştük, bu ve buna benzer birçok dönüşüm map fonksiyonuyla kolayca \n",
    "yapılabilir.)"
   ]
  },
  {
   "cell_type": "code",
   "execution_count": 12,
   "metadata": {
    "collapsed": true
   },
   "outputs": [],
   "source": [
    "df['age'] = df['age'].map(lambda x: round(x))\n",
    "data = df[(df.age > 59) & (df.age < 65) & (df.gender == 2) & (df.smoke == 1)]"
   ]
  },
  {
   "cell_type": "markdown",
   "metadata": {
    "collapsed": true
   },
   "source": [
    "Belirtilen yaş grubundaki kişiler için yeni bir kopya veri oluşturmamız gerekiyor.\n",
    "Eğer df = df[(df.age > 59) & (df.age < 65)] yaparsak verinin tümüne dair herhangi bir soruyu cevaplama \n",
    "şansımızı kaybederiz."
   ]
  },
  {
   "cell_type": "markdown",
   "metadata": {},
   "source": [
    "Yukarıda gördüğünüz risk haritasının sağ üst köşesinde 60-65 yaş aralığında, sigara içen erkekler arasında\n",
    "hastalığa ('cardio') sahip olma olasılıklarının iki farklı grup için hesaplanması bizden bekleniyor."
   ]
  },
  {
   "cell_type": "code",
   "execution_count": 13,
   "metadata": {},
   "outputs": [
    {
     "name": "stdout",
     "output_type": "stream",
     "text": [
      "0.2564\n"
     ]
    }
   ],
   "source": [
    "print(round(data[(data.cholesterol == 1) & (data.ap_hi < 120)]['cardio'].mean()/ (data[(data.cholesterol == 3) \n",
    "                & ((data.ap_hi) > 160) & ((data.ap_hi) < 180)]['cardio'].mean()), 4))"
   ]
  },
  {
   "cell_type": "markdown",
   "metadata": {},
   "source": [
    "## 1.3. Vücut Kitle Indeks (BMI) Analizi"
   ]
  },
  {
   "cell_type": "markdown",
   "metadata": {
    "collapsed": true
   },
   "source": [
    "Vücut kitle endeksi(BMI) hesaplarken kişilerin kilosunu boylarının(m cinsinden) karesine bölüyoruz.\n",
    "df['x'] bize verimizde yeni bir sütun açmaya yarıyor. Yukarıdaki kitle endeksi hesabına göre de her kişinin \n",
    "o satırdaki kilo ve boyu alınıp gerekli hesaplamalar yapılıyor ve her kişinin bmi değeri yeni açılan \n",
    "sütuna ekleniyor."
   ]
  },
  {
   "cell_type": "code",
   "execution_count": 15,
   "metadata": {
    "collapsed": true
   },
   "outputs": [],
   "source": [
    "df['bmi'] = df.weight/((df.height/100) ** 2)"
   ]
  },
  {
   "cell_type": "markdown",
   "metadata": {},
   "source": [
    "**Q6. Aşağıdakilerden doğru olanları seçiniz.**\n",
    "\n",
    " - a. Örneklemdeki medyan BMI değeri normal BMI değerleri aralığındadır.\n",
    " - b. Ortalama kadın BMI değeri erkek BMI değerinden yüksektir.\n",
    " - c. Ortalamada sağlıklı insanların BMI değeri CVD hastalığına sahip insanların CVD değerinden fazladır.\n",
    " - d. Sağlıklı, alkol tüketmeyen erkeklerin BMI değeri kadınların BMI değerine kıyasla normale daha yakındır."
   ]
  },
  {
   "cell_type": "markdown",
   "metadata": {
    "collapsed": true
   },
   "source": [
    "Yukarıdaki soruları tek satırlık kodlarla kolayca cevaplayabiliriz. Daha önce yaptığım sorulara çok \n",
    "benzer olduğu için sadece \"&\" işaretinin python dilinde \"ve\" anlamına geldiğini söyleyip cevapları yazıyorum."
   ]
  },
  {
   "cell_type": "code",
   "execution_count": 16,
   "metadata": {},
   "outputs": [
    {
     "name": "stdout",
     "output_type": "stream",
     "text": [
      "False\n",
      "True\n",
      "False\n",
      "25.872638075460173\n",
      "26.845406594131518\n"
     ]
    }
   ],
   "source": [
    "print((df.bmi.median() > 18.5) & (df.bmi.median() < 25))\n",
    "print((df[df.gender == 1].bmi.mean()) > (df[df.gender == 2].bmi.mean()))\n",
    "print((df[df.cardio == 0].bmi.mean()) > (df[df.cardio == 1].bmi.mean()))\n",
    "print((df[(df.cardio == 0) & (df.gender == 2) & (df.alco == 0)].bmi.mean())) \n",
    "print((df[(df.cardio == 0) & (df.gender == 1) & (df.alco == 0)].bmi.mean())) "
   ]
  },
  {
   "cell_type": "markdown",
   "metadata": {},
   "source": [
    "## 1.4. Veri Temizleme"
   ]
  },
  {
   "cell_type": "markdown",
   "metadata": {},
   "source": [
    "** Q7. Aşağıdaki kısıtlara göre verinin yüzde kaçı atılmalı? **\n",
    "\n",
    "diastolic pressure is higher than systolic\n",
    "height is strictly less than 2.5 percentile \n",
    "height is strictly higher than 97.5 percentile\n",
    "weight is strictly less than 2.5 percentile\n",
    "height is strictly more than 97.5 percentile\n",
    "\n",
    "1. 8\n",
    "2. 9\n",
    "3. 10\n",
    "4. 11"
   ]
  },
  {
   "cell_type": "code",
   "execution_count": null,
   "metadata": {
    "collapsed": true
   },
   "outputs": [],
   "source": [
    "Veri temizleme ve veriyi modele hazır hale getirme veri bilimcilerin en çok mesai harcadığı süreçtir.\n",
    "Yukarıdaki sınırlamaları sıralama gözeterek aşağıdaki gibi yazabiliriz."
   ]
  },
  {
   "cell_type": "code",
   "execution_count": 17,
   "metadata": {},
   "outputs": [
    {
     "name": "stdout",
     "output_type": "stream",
     "text": [
      "1234\n",
      "1537\n",
      "1439\n",
      "1490\n",
      "1613\n"
     ]
    }
   ],
   "source": [
    "print(len(df[df.ap_lo > df.ap_hi]))\n",
    "print(len(df[(df.height < df.height.quantile(0.025))]))\n",
    "print(len(df[(df.height > df.height.quantile(0.975))]))\n",
    "print(len(df[(df.weight < df.weight.quantile(0.025))]))\n",
    "print(len(df[(df.weight > df.weight.quantile(0.975))]))"
   ]
  },
  {
   "cell_type": "markdown",
   "metadata": {},
   "source": [
    "Yukarıda \"&\" işaretenin python dilindeki \"ve\" olduğunu söylemiştik,\"|\" işareti ise python dilindeki \"veya\"dır."
   ]
  },
  {
   "cell_type": "code",
   "execution_count": 19,
   "metadata": {},
   "outputs": [
    {
     "data": {
      "text/plain": [
       "0.08068571428571429"
      ]
     },
     "execution_count": 19,
     "metadata": {},
     "output_type": "execute_result"
    }
   ],
   "source": [
    "len(df[(df.height < df.height.quantile(0.025)) | (df.weight < df.weight.quantile(0.025)) \\\n",
    "       | (df.height > df.height.quantile(0.975)) | (df.weight > df.weight.quantile(0.975))]) / len(df)"
   ]
  },
  {
   "cell_type": "markdown",
   "metadata": {
    "collapsed": true
   },
   "source": [
    "Yukarıdaki sınırlamalara göre verimizin %8'i \"kirli\"dir."
   ]
  },
  {
   "cell_type": "markdown",
   "metadata": {},
   "source": [
    "# Part 2. Görsel Veri Analizi\n",
    "## 2.1. Korelasyon Matrisi"
   ]
  },
  {
   "cell_type": "markdown",
   "metadata": {},
   "source": [
    "Q8. **Cinsiyet özniteliğiyle en güçlü Pearson's korelasyonu bulunan ikili nedir?**\n",
    "\n",
    "- a. Cardio, Cholesterol\n",
    "- b. Height, Smoke\n",
    "- c. Smoke, Alco\n",
    "- d. Height, Weight"
   ]
  },
  {
   "cell_type": "code",
   "execution_count": null,
   "metadata": {
    "collapsed": true
   },
   "outputs": [],
   "source": [
    "figsize = (x, y) bize çizeceğimizin görselin enini ve boyunu ayarlamamıza imkan veriyor.\n",
    "sns.heatmap() fonksiyonundaki inputların anlamlarını yazmayacağım, içerideki değerlerle oynayıp keşfetmeniz\n",
    "öğrenme sürecinizde daha faydalı olacaktır."
   ]
  },
  {
   "cell_type": "code",
   "execution_count": 19,
   "metadata": {
    "scrolled": false
   },
   "outputs": [
    {
     "data": {
      "image/png": "[encoded data removed]",
      "text/plain": [
       "<matplotlib.figure.Figure at 0x7feaf369c5f8>"
      ]
     },
     "metadata": {},
     "output_type": "display_data"
    }
   ],
   "source": [
    "a,x = plt.subplots(figsize=(12, 5))\n",
    "sns.heatmap(df.corr(), annot = True, linecolor='white',linewidths= 0.1,vmax = 1,fmt= '.2f',cmap = 'RdBu', ax =x)\n",
    "plt.show()"
   ]
  },
  {
   "cell_type": "markdown",
   "metadata": {},
   "source": [
    "## 2.2. Kadınların ve Erkeklerin Boy Uzunluklarının Dağılımları\n",
    "\n",
    "pd.melt() nümerik değerler için çok bilgilendirici bir fonksiyon. \n",
    "İlk başta verimizi cinsiyet ayrımı gözeterek boy uzunluğuna göre \"eritiriyoruz\". \n",
    "Görselleştirmeye başlamadan önce pd.melt() fonksiyonunun verimize neler yaptığını görelim."
   ]
  },
  {
   "cell_type": "code",
   "execution_count": 20,
   "metadata": {},
   "outputs": [
    {
     "data": {
      "text/html": [
       "<div>\n",
       "<style scoped>\n",
       "    .dataframe tbody tr th:only-of-type {\n",
       "        vertical-align: middle;\n",
       "    }\n",
       "\n",
       "    .dataframe tbody tr th {\n",
       "        vertical-align: top;\n",
       "    }\n",
       "\n",
       "    .dataframe thead th {\n",
       "        text-align: right;\n",
       "    }\n",
       "</style>\n",
       "<table border=\"1\" class=\"dataframe\">\n",
       "  <thead>\n",
       "    <tr style=\"text-align: right;\">\n",
       "      <th></th>\n",
       "      <th>gender</th>\n",
       "      <th>variable</th>\n",
       "      <th>value</th>\n",
       "    </tr>\n",
       "  </thead>\n",
       "  <tbody>\n",
       "    <tr>\n",
       "      <th>0</th>\n",
       "      <td>2</td>\n",
       "      <td>height</td>\n",
       "      <td>168</td>\n",
       "    </tr>\n",
       "    <tr>\n",
       "      <th>1</th>\n",
       "      <td>1</td>\n",
       "      <td>height</td>\n",
       "      <td>156</td>\n",
       "    </tr>\n",
       "  </tbody>\n",
       "</table>\n",
       "</div>"
      ],
      "text/plain": [
       "   gender variable  value\n",
       "0       2   height    168\n",
       "1       1   height    156"
      ]
     },
     "execution_count": 20,
     "metadata": {},
     "output_type": "execute_result"
    }
   ],
   "source": [
    "melt = pd.melt(df, value_vars=['height'], id_vars='gender') ; melt.head(2)"
   ]
  },
  {
   "cell_type": "markdown",
   "metadata": {
    "collapsed": true
   },
   "source": [
    "x='variable', y='value' pd.melt() fonksiyonu sayesinde sns.violinplot() içinde hazır olarak bulunan değerler. \n",
    "Sonrasında, veri setimizi ve hangi özniteliğe göre karar vereceğimizi seçiyoruz."
   ]
  },
  {
   "cell_type": "code",
   "execution_count": 21,
   "metadata": {},
   "outputs": [
    {
     "data": {
      "image/png": "[encoded data removed]",
      "text/plain": [
       "<matplotlib.figure.Figure at 0x7feaf3700780>"
      ]
     },
     "metadata": {},
     "output_type": "display_data"
    }
   ],
   "source": [
    "sns.violinplot(x='variable', y='value', hue='gender', data=melt, palette = 'spring')\n",
    "plt.show()"
   ]
  },
  {
   "cell_type": "markdown",
   "metadata": {},
   "source": [
    "## 2.4. Yaş\n"
   ]
  },
  {
   "cell_type": "markdown",
   "metadata": {
    "collapsed": true
   },
   "source": [
    "sns.countplot() fonksiyonu ismi üstünde belirlediğimiz x özniteliğine göre kaç veri (kayıt) olduğu\n",
    "bilgisini bize veriyor. hue = 'x' ise hangi değişkene göre ayrım yapacağımızı seçmemize yarıyor. Hastalığa sahip olanların (cardio = 1) sayısının olmayanlardan fazla olduğu en küçük yaşın kaç olduğu soruluyor."
   ]
  },
  {
   "cell_type": "code",
   "execution_count": 22,
   "metadata": {},
   "outputs": [
    {
     "data": {
      "image/png": "[encoded data removed]",
      "text/plain": [
       "<matplotlib.figure.Figure at 0x7feaf369c1d0>"
      ]
     },
     "metadata": {},
     "output_type": "display_data"
    }
   ],
   "source": [
    "a,x = plt.subplots(figsize=(12, 5))\n",
    "sns.countplot(x = 'age', data = df, hue = 'cardio', palette = 'Set1_r', ax = x)\n",
    "plt.show()"
   ]
  },
  {
   "cell_type": "markdown",
   "metadata": {},
   "source": [
    "Bu haftaki ders geçen haftanın devamı niteliğinde olduğu için bazı yapıları bildiğinizi varsaydım, eğer anlamadığınız veya açık olmadığını düşündüğünüz bir yer varsa öncelikle ilk derse bakmanızı öneririm. Eğer sorun devam ediyorsa muhtemelen benden kaynaklanan bir problem vardır, mutlaka yazın, elimden geldiğince anlatmaya/düzeltmeye çalışırım.\n",
    "\n",
    "Geçen haftaki yazımda söylediğim gibi Python kodlarını buradan indirip üzerinde çalışmanız, yazdığım değerleri değiştirmeniz ve bol bol hata almanız en iyi öğrenme yöntemi.\n",
    "\n",
    "Veri bilimiyle veya herhangi bir konu ile ilgili (sadece) yazılar okumak, videolar izlemek sınavdan önce cevapları olan arşiv sorularına bakmaya benzer. Arşivde kolay gözüken soruların benzerleri sınavda geldiği halde yapamayan insanlardan olmamanız ve ilk hatanızı iş görüşmesinde yapmamanız dileğiyle…\n",
    "\n",
    "## The purpose of visualization is insight, not pictures.\n",
    "―Ben Shneiderman"
   ]
  }
 ],
 "metadata": {
  "anaconda-cloud": {},
  "kernelspec": {
   "display_name": "Python 3",
   "language": "python",
   "name": "python3"
  },
  "language_info": {
   "codemirror_mode": {
    "name": "ipython",
    "version": 3
   },
   "file_extension": ".py",
   "mimetype": "text/x-python",
   "name": "python",
   "nbconvert_exporter": "python",
   "pygments_lexer": "ipython3",
   "version": "3.6.3"
  }
 },
 "nbformat": 4,
 "nbformat_minor": 2
}
