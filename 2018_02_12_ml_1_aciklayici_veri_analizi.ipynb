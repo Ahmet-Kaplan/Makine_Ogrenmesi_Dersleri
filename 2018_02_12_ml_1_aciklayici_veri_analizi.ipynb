{
 "cells": [
  {
   "cell_type": "markdown",
   "metadata": {},
   "source": [
    "## <center> Open Machine Learning Course\n"
   ]
  },
  {
   "cell_type": "markdown",
   "metadata": {},
   "source": [
    "Haftalık Medium yazıları, ödevler, Kaggle yarışmalarıyla desteklenen makine öğrenmesi kursu geçen hafta başladı. Kursu düzenleyen ekibe baktığımda kitlesel açık kurslardan (MOOC) daha eğlenceli ve interaktif bir kurs olacağa benziyor. Başvuru linkinden Slack grubuna dahil olabilirsiniz.\n",
    "\n",
    "Veri biliminde öngörülen 2018 trendlerini paylaştığım ilk yazımdan sonra makine öğrenmesi derslerinin haftalık ödevlerini Türkçe açıklamalı olarak çözmeye karar verdim.\n",
    "\n",
    "Çünkü bu alanla ilgili standart ders kitapları kişiyi fazla teknik detaya boğduğundan ya ilk ünite bitmeden “bu iş bana göre değil bunu gugıldaki, feysbuktaki, tivitırdaki adamlar anca anlar” deyip aşağılık kompleksine giriyoruz ya da youtube vidyolarının arka arkası gelmeyen pasifliğinde oradan oraya savruluyoruz. Günün sonunda big data, machine learning, deep learning, artificial intelligence diyen ama basit bir KNN algoritmasını yapamayan meraklılar haline dönüşüyoruz.\n",
    "\n",
    "Biz de amacımızdan sapmadan hemen konuya dönelim. İlk derste Python’ın Pandas kütüphanesindeki temel fonksiyonlar ile telekom verisi üzerinde müşteri kayıp analizi yapılıyor.\n",
    "\n",
    "Ödevler konu anlatımına paralel olduğu için ilk dersi çevirmedim ama ders hakkında sorularınız olursa mutlaka yazın."
   ]
  },
  {
   "cell_type": "markdown",
   "metadata": {},
   "source": [
    "# <center> Assignment #1\n",
    "## <center>  Açıklayıcı Veri Analizi\n"
   ]
  },
  {
   "cell_type": "markdown",
   "metadata": {},
   "source": [
    "Adult verisini bilgisayarınıza indirmeden aşağıdaki archive.ics sitesinden çekebilirsiniz. \n",
    "    Sitede sütunlar olmadığı için header = None yapıyoruz ki ilk satırımız yukarı kaymasın, merak edenler o kısmı atıp deneyebilir."
   ]
  },
  {
   "cell_type": "code",
   "execution_count": 3,
   "metadata": {},
   "outputs": [
    {
     "ename": "HTTPError",
     "evalue": "HTTP Error 404: Not Found",
     "output_type": "error",
     "traceback": [
      "\u001b[0;31m---------------------------------------------------------------------------\u001b[0m",
      "\u001b[0;31mHTTPError\u001b[0m                                 Traceback (most recent call last)",
      "\u001b[0;32m<ipython-input-3-127f62cc3949>\u001b[0m in \u001b[0;36m<module>\u001b[0;34m()\u001b[0m\n\u001b[1;32m      5\u001b[0m \u001b[0;32mimport\u001b[0m \u001b[0mmatplotlib\u001b[0m\u001b[0;34m.\u001b[0m\u001b[0mpyplot\u001b[0m \u001b[0;32mas\u001b[0m \u001b[0mplt\u001b[0m\u001b[0;34m\u001b[0m\u001b[0m\n\u001b[1;32m      6\u001b[0m \u001b[0;32mimport\u001b[0m \u001b[0mseaborn\u001b[0m \u001b[0;32mas\u001b[0m \u001b[0msns\u001b[0m\u001b[0;34m\u001b[0m\u001b[0m\n\u001b[0;32m----> 7\u001b[0;31m \u001b[0mdf\u001b[0m \u001b[0;34m=\u001b[0m \u001b[0mpd\u001b[0m\u001b[0;34m.\u001b[0m\u001b[0mread_csv\u001b[0m\u001b[0;34m(\u001b[0m\u001b[0;34m'https://archive.ics.uci.edu/ml/machine-learning-databases/adult.csv'\u001b[0m\u001b[0;34m,\u001b[0m \u001b[0mheader\u001b[0m \u001b[0;34m=\u001b[0m \u001b[0;32mNone\u001b[0m\u001b[0;34m)\u001b[0m\u001b[0;34m\u001b[0m\u001b[0m\n\u001b[0m\u001b[1;32m      8\u001b[0m \u001b[0mdf\u001b[0m\u001b[0;34m.\u001b[0m\u001b[0mhead\u001b[0m\u001b[0;34m(\u001b[0m\u001b[0;34m)\u001b[0m\u001b[0;34m\u001b[0m\u001b[0m\n",
      "\u001b[0;32m~/anaconda3/lib/python3.6/site-packages/pandas/io/parsers.py\u001b[0m in \u001b[0;36mparser_f\u001b[0;34m(filepath_or_buffer, sep, delimiter, header, names, index_col, usecols, squeeze, prefix, mangle_dupe_cols, dtype, engine, converters, true_values, false_values, skipinitialspace, skiprows, nrows, na_values, keep_default_na, na_filter, verbose, skip_blank_lines, parse_dates, infer_datetime_format, keep_date_col, date_parser, dayfirst, iterator, chunksize, compression, thousands, decimal, lineterminator, quotechar, quoting, escapechar, comment, encoding, dialect, tupleize_cols, error_bad_lines, warn_bad_lines, skipfooter, skip_footer, doublequote, delim_whitespace, as_recarray, compact_ints, use_unsigned, low_memory, buffer_lines, memory_map, float_precision)\u001b[0m\n\u001b[1;32m    707\u001b[0m                     skip_blank_lines=skip_blank_lines)\n\u001b[1;32m    708\u001b[0m \u001b[0;34m\u001b[0m\u001b[0m\n\u001b[0;32m--> 709\u001b[0;31m         \u001b[0;32mreturn\u001b[0m \u001b[0m_read\u001b[0m\u001b[0;34m(\u001b[0m\u001b[0mfilepath_or_buffer\u001b[0m\u001b[0;34m,\u001b[0m \u001b[0mkwds\u001b[0m\u001b[0;34m)\u001b[0m\u001b[0;34m\u001b[0m\u001b[0m\n\u001b[0m\u001b[1;32m    710\u001b[0m \u001b[0;34m\u001b[0m\u001b[0m\n\u001b[1;32m    711\u001b[0m     \u001b[0mparser_f\u001b[0m\u001b[0;34m.\u001b[0m\u001b[0m__name__\u001b[0m \u001b[0;34m=\u001b[0m \u001b[0mname\u001b[0m\u001b[0;34m\u001b[0m\u001b[0m\n",
      "\u001b[0;32m~/anaconda3/lib/python3.6/site-packages/pandas/io/parsers.py\u001b[0m in \u001b[0;36m_read\u001b[0;34m(filepath_or_buffer, kwds)\u001b[0m\n\u001b[1;32m    431\u001b[0m     \u001b[0mcompression\u001b[0m \u001b[0;34m=\u001b[0m \u001b[0m_infer_compression\u001b[0m\u001b[0;34m(\u001b[0m\u001b[0mfilepath_or_buffer\u001b[0m\u001b[0;34m,\u001b[0m \u001b[0mcompression\u001b[0m\u001b[0;34m)\u001b[0m\u001b[0;34m\u001b[0m\u001b[0m\n\u001b[1;32m    432\u001b[0m     filepath_or_buffer, _, compression = get_filepath_or_buffer(\n\u001b[0;32m--> 433\u001b[0;31m         filepath_or_buffer, encoding, compression)\n\u001b[0m\u001b[1;32m    434\u001b[0m     \u001b[0mkwds\u001b[0m\u001b[0;34m[\u001b[0m\u001b[0;34m'compression'\u001b[0m\u001b[0;34m]\u001b[0m \u001b[0;34m=\u001b[0m \u001b[0mcompression\u001b[0m\u001b[0;34m\u001b[0m\u001b[0m\n\u001b[1;32m    435\u001b[0m \u001b[0;34m\u001b[0m\u001b[0m\n",
      "\u001b[0;32m~/anaconda3/lib/python3.6/site-packages/pandas/io/common.py\u001b[0m in \u001b[0;36mget_filepath_or_buffer\u001b[0;34m(filepath_or_buffer, encoding, compression)\u001b[0m\n\u001b[1;32m    188\u001b[0m \u001b[0;34m\u001b[0m\u001b[0m\n\u001b[1;32m    189\u001b[0m     \u001b[0;32mif\u001b[0m \u001b[0m_is_url\u001b[0m\u001b[0;34m(\u001b[0m\u001b[0mfilepath_or_buffer\u001b[0m\u001b[0;34m)\u001b[0m\u001b[0;34m:\u001b[0m\u001b[0;34m\u001b[0m\u001b[0m\n\u001b[0;32m--> 190\u001b[0;31m         \u001b[0mreq\u001b[0m \u001b[0;34m=\u001b[0m \u001b[0m_urlopen\u001b[0m\u001b[0;34m(\u001b[0m\u001b[0mfilepath_or_buffer\u001b[0m\u001b[0;34m)\u001b[0m\u001b[0;34m\u001b[0m\u001b[0m\n\u001b[0m\u001b[1;32m    191\u001b[0m         \u001b[0mcontent_encoding\u001b[0m \u001b[0;34m=\u001b[0m \u001b[0mreq\u001b[0m\u001b[0;34m.\u001b[0m\u001b[0mheaders\u001b[0m\u001b[0;34m.\u001b[0m\u001b[0mget\u001b[0m\u001b[0;34m(\u001b[0m\u001b[0;34m'Content-Encoding'\u001b[0m\u001b[0;34m,\u001b[0m \u001b[0;32mNone\u001b[0m\u001b[0;34m)\u001b[0m\u001b[0;34m\u001b[0m\u001b[0m\n\u001b[1;32m    192\u001b[0m         \u001b[0;32mif\u001b[0m \u001b[0mcontent_encoding\u001b[0m \u001b[0;34m==\u001b[0m \u001b[0;34m'gzip'\u001b[0m\u001b[0;34m:\u001b[0m\u001b[0;34m\u001b[0m\u001b[0m\n",
      "\u001b[0;32m~/anaconda3/lib/python3.6/urllib/request.py\u001b[0m in \u001b[0;36murlopen\u001b[0;34m(url, data, timeout, cafile, capath, cadefault, context)\u001b[0m\n\u001b[1;32m    221\u001b[0m     \u001b[0;32melse\u001b[0m\u001b[0;34m:\u001b[0m\u001b[0;34m\u001b[0m\u001b[0m\n\u001b[1;32m    222\u001b[0m         \u001b[0mopener\u001b[0m \u001b[0;34m=\u001b[0m \u001b[0m_opener\u001b[0m\u001b[0;34m\u001b[0m\u001b[0m\n\u001b[0;32m--> 223\u001b[0;31m     \u001b[0;32mreturn\u001b[0m \u001b[0mopener\u001b[0m\u001b[0;34m.\u001b[0m\u001b[0mopen\u001b[0m\u001b[0;34m(\u001b[0m\u001b[0murl\u001b[0m\u001b[0;34m,\u001b[0m \u001b[0mdata\u001b[0m\u001b[0;34m,\u001b[0m \u001b[0mtimeout\u001b[0m\u001b[0;34m)\u001b[0m\u001b[0;34m\u001b[0m\u001b[0m\n\u001b[0m\u001b[1;32m    224\u001b[0m \u001b[0;34m\u001b[0m\u001b[0m\n\u001b[1;32m    225\u001b[0m \u001b[0;32mdef\u001b[0m \u001b[0minstall_opener\u001b[0m\u001b[0;34m(\u001b[0m\u001b[0mopener\u001b[0m\u001b[0;34m)\u001b[0m\u001b[0;34m:\u001b[0m\u001b[0;34m\u001b[0m\u001b[0m\n",
      "\u001b[0;32m~/anaconda3/lib/python3.6/urllib/request.py\u001b[0m in \u001b[0;36mopen\u001b[0;34m(self, fullurl, data, timeout)\u001b[0m\n\u001b[1;32m    530\u001b[0m         \u001b[0;32mfor\u001b[0m \u001b[0mprocessor\u001b[0m \u001b[0;32min\u001b[0m \u001b[0mself\u001b[0m\u001b[0;34m.\u001b[0m\u001b[0mprocess_response\u001b[0m\u001b[0;34m.\u001b[0m\u001b[0mget\u001b[0m\u001b[0;34m(\u001b[0m\u001b[0mprotocol\u001b[0m\u001b[0;34m,\u001b[0m \u001b[0;34m[\u001b[0m\u001b[0;34m]\u001b[0m\u001b[0;34m)\u001b[0m\u001b[0;34m:\u001b[0m\u001b[0;34m\u001b[0m\u001b[0m\n\u001b[1;32m    531\u001b[0m             \u001b[0mmeth\u001b[0m \u001b[0;34m=\u001b[0m \u001b[0mgetattr\u001b[0m\u001b[0;34m(\u001b[0m\u001b[0mprocessor\u001b[0m\u001b[0;34m,\u001b[0m \u001b[0mmeth_name\u001b[0m\u001b[0;34m)\u001b[0m\u001b[0;34m\u001b[0m\u001b[0m\n\u001b[0;32m--> 532\u001b[0;31m             \u001b[0mresponse\u001b[0m \u001b[0;34m=\u001b[0m \u001b[0mmeth\u001b[0m\u001b[0;34m(\u001b[0m\u001b[0mreq\u001b[0m\u001b[0;34m,\u001b[0m \u001b[0mresponse\u001b[0m\u001b[0;34m)\u001b[0m\u001b[0;34m\u001b[0m\u001b[0m\n\u001b[0m\u001b[1;32m    533\u001b[0m \u001b[0;34m\u001b[0m\u001b[0m\n\u001b[1;32m    534\u001b[0m         \u001b[0;32mreturn\u001b[0m \u001b[0mresponse\u001b[0m\u001b[0;34m\u001b[0m\u001b[0m\n",
      "\u001b[0;32m~/anaconda3/lib/python3.6/urllib/request.py\u001b[0m in \u001b[0;36mhttp_response\u001b[0;34m(self, request, response)\u001b[0m\n\u001b[1;32m    640\u001b[0m         \u001b[0;32mif\u001b[0m \u001b[0;32mnot\u001b[0m \u001b[0;34m(\u001b[0m\u001b[0;36m200\u001b[0m \u001b[0;34m<=\u001b[0m \u001b[0mcode\u001b[0m \u001b[0;34m<\u001b[0m \u001b[0;36m300\u001b[0m\u001b[0;34m)\u001b[0m\u001b[0;34m:\u001b[0m\u001b[0;34m\u001b[0m\u001b[0m\n\u001b[1;32m    641\u001b[0m             response = self.parent.error(\n\u001b[0;32m--> 642\u001b[0;31m                 'http', request, response, code, msg, hdrs)\n\u001b[0m\u001b[1;32m    643\u001b[0m \u001b[0;34m\u001b[0m\u001b[0m\n\u001b[1;32m    644\u001b[0m         \u001b[0;32mreturn\u001b[0m \u001b[0mresponse\u001b[0m\u001b[0;34m\u001b[0m\u001b[0m\n",
      "\u001b[0;32m~/anaconda3/lib/python3.6/urllib/request.py\u001b[0m in \u001b[0;36merror\u001b[0;34m(self, proto, *args)\u001b[0m\n\u001b[1;32m    568\u001b[0m         \u001b[0;32mif\u001b[0m \u001b[0mhttp_err\u001b[0m\u001b[0;34m:\u001b[0m\u001b[0;34m\u001b[0m\u001b[0m\n\u001b[1;32m    569\u001b[0m             \u001b[0margs\u001b[0m \u001b[0;34m=\u001b[0m \u001b[0;34m(\u001b[0m\u001b[0mdict\u001b[0m\u001b[0;34m,\u001b[0m \u001b[0;34m'default'\u001b[0m\u001b[0;34m,\u001b[0m \u001b[0;34m'http_error_default'\u001b[0m\u001b[0;34m)\u001b[0m \u001b[0;34m+\u001b[0m \u001b[0morig_args\u001b[0m\u001b[0;34m\u001b[0m\u001b[0m\n\u001b[0;32m--> 570\u001b[0;31m             \u001b[0;32mreturn\u001b[0m \u001b[0mself\u001b[0m\u001b[0;34m.\u001b[0m\u001b[0m_call_chain\u001b[0m\u001b[0;34m(\u001b[0m\u001b[0;34m*\u001b[0m\u001b[0margs\u001b[0m\u001b[0;34m)\u001b[0m\u001b[0;34m\u001b[0m\u001b[0m\n\u001b[0m\u001b[1;32m    571\u001b[0m \u001b[0;34m\u001b[0m\u001b[0m\n\u001b[1;32m    572\u001b[0m \u001b[0;31m# XXX probably also want an abstract factory that knows when it makes\u001b[0m\u001b[0;34m\u001b[0m\u001b[0;34m\u001b[0m\u001b[0m\n",
      "\u001b[0;32m~/anaconda3/lib/python3.6/urllib/request.py\u001b[0m in \u001b[0;36m_call_chain\u001b[0;34m(self, chain, kind, meth_name, *args)\u001b[0m\n\u001b[1;32m    502\u001b[0m         \u001b[0;32mfor\u001b[0m \u001b[0mhandler\u001b[0m \u001b[0;32min\u001b[0m \u001b[0mhandlers\u001b[0m\u001b[0;34m:\u001b[0m\u001b[0;34m\u001b[0m\u001b[0m\n\u001b[1;32m    503\u001b[0m             \u001b[0mfunc\u001b[0m \u001b[0;34m=\u001b[0m \u001b[0mgetattr\u001b[0m\u001b[0;34m(\u001b[0m\u001b[0mhandler\u001b[0m\u001b[0;34m,\u001b[0m \u001b[0mmeth_name\u001b[0m\u001b[0;34m)\u001b[0m\u001b[0;34m\u001b[0m\u001b[0m\n\u001b[0;32m--> 504\u001b[0;31m             \u001b[0mresult\u001b[0m \u001b[0;34m=\u001b[0m \u001b[0mfunc\u001b[0m\u001b[0;34m(\u001b[0m\u001b[0;34m*\u001b[0m\u001b[0margs\u001b[0m\u001b[0;34m)\u001b[0m\u001b[0;34m\u001b[0m\u001b[0m\n\u001b[0m\u001b[1;32m    505\u001b[0m             \u001b[0;32mif\u001b[0m \u001b[0mresult\u001b[0m \u001b[0;32mis\u001b[0m \u001b[0;32mnot\u001b[0m \u001b[0;32mNone\u001b[0m\u001b[0;34m:\u001b[0m\u001b[0;34m\u001b[0m\u001b[0m\n\u001b[1;32m    506\u001b[0m                 \u001b[0;32mreturn\u001b[0m \u001b[0mresult\u001b[0m\u001b[0;34m\u001b[0m\u001b[0m\n",
      "\u001b[0;32m~/anaconda3/lib/python3.6/urllib/request.py\u001b[0m in \u001b[0;36mhttp_error_default\u001b[0;34m(self, req, fp, code, msg, hdrs)\u001b[0m\n\u001b[1;32m    648\u001b[0m \u001b[0;32mclass\u001b[0m \u001b[0mHTTPDefaultErrorHandler\u001b[0m\u001b[0;34m(\u001b[0m\u001b[0mBaseHandler\u001b[0m\u001b[0;34m)\u001b[0m\u001b[0;34m:\u001b[0m\u001b[0;34m\u001b[0m\u001b[0m\n\u001b[1;32m    649\u001b[0m     \u001b[0;32mdef\u001b[0m \u001b[0mhttp_error_default\u001b[0m\u001b[0;34m(\u001b[0m\u001b[0mself\u001b[0m\u001b[0;34m,\u001b[0m \u001b[0mreq\u001b[0m\u001b[0;34m,\u001b[0m \u001b[0mfp\u001b[0m\u001b[0;34m,\u001b[0m \u001b[0mcode\u001b[0m\u001b[0;34m,\u001b[0m \u001b[0mmsg\u001b[0m\u001b[0;34m,\u001b[0m \u001b[0mhdrs\u001b[0m\u001b[0;34m)\u001b[0m\u001b[0;34m:\u001b[0m\u001b[0;34m\u001b[0m\u001b[0m\n\u001b[0;32m--> 650\u001b[0;31m         \u001b[0;32mraise\u001b[0m \u001b[0mHTTPError\u001b[0m\u001b[0;34m(\u001b[0m\u001b[0mreq\u001b[0m\u001b[0;34m.\u001b[0m\u001b[0mfull_url\u001b[0m\u001b[0;34m,\u001b[0m \u001b[0mcode\u001b[0m\u001b[0;34m,\u001b[0m \u001b[0mmsg\u001b[0m\u001b[0;34m,\u001b[0m \u001b[0mhdrs\u001b[0m\u001b[0;34m,\u001b[0m \u001b[0mfp\u001b[0m\u001b[0;34m)\u001b[0m\u001b[0;34m\u001b[0m\u001b[0m\n\u001b[0m\u001b[1;32m    651\u001b[0m \u001b[0;34m\u001b[0m\u001b[0m\n\u001b[1;32m    652\u001b[0m \u001b[0;32mclass\u001b[0m \u001b[0mHTTPRedirectHandler\u001b[0m\u001b[0;34m(\u001b[0m\u001b[0mBaseHandler\u001b[0m\u001b[0;34m)\u001b[0m\u001b[0;34m:\u001b[0m\u001b[0;34m\u001b[0m\u001b[0m\n",
      "\u001b[0;31mHTTPError\u001b[0m: HTTP Error 404: Not Found"
     ]
    }
   ],
   "source": [
    "import pandas as pd\n",
    "import numpy as np\n",
    "pd.set_option('display.max.columns', 100)\n",
    "%matplotlib inline \n",
    "import matplotlib.pyplot as plt\n",
    "import seaborn as sns\n",
    "df = pd.read_csv('https://archive.ics.uci.edu/ml/machine-learning-databases/adult/adult.data', header = None)\n",
    "df.head()"
   ]
  },
  {
   "cell_type": "markdown",
   "metadata": {
    "collapsed": true
   },
   "source": [
    "Şimdi sütunları ekleyip tekrar bakıyoruz. Her şey yolunda gözüküyor."
   ]
  },
  {
   "cell_type": "code",
   "execution_count": 2,
   "metadata": {},
   "outputs": [
    {
     "data": {
      "text/html": [
       "<div>\n",
       "<style scoped>\n",
       "    .dataframe tbody tr th:only-of-type {\n",
       "        vertical-align: middle;\n",
       "    }\n",
       "\n",
       "    .dataframe tbody tr th {\n",
       "        vertical-align: top;\n",
       "    }\n",
       "\n",
       "    .dataframe thead th {\n",
       "        text-align: right;\n",
       "    }\n",
       "</style>\n",
       "<table border=\"1\" class=\"dataframe\">\n",
       "  <thead>\n",
       "    <tr style=\"text-align: right;\">\n",
       "      <th></th>\n",
       "      <th>age</th>\n",
       "      <th>workclass</th>\n",
       "      <th>fnlwgt</th>\n",
       "      <th>education</th>\n",
       "      <th>education-num</th>\n",
       "      <th>marital-status</th>\n",
       "      <th>occupation</th>\n",
       "      <th>relationship</th>\n",
       "      <th>race</th>\n",
       "      <th>sex</th>\n",
       "      <th>capital-gain</th>\n",
       "      <th>capital-loss</th>\n",
       "      <th>hours-per-week</th>\n",
       "      <th>native-country</th>\n",
       "      <th>salary</th>\n",
       "    </tr>\n",
       "  </thead>\n",
       "  <tbody>\n",
       "    <tr>\n",
       "      <th>0</th>\n",
       "      <td>39</td>\n",
       "      <td>State-gov</td>\n",
       "      <td>77516</td>\n",
       "      <td>Bachelors</td>\n",
       "      <td>13</td>\n",
       "      <td>Never-married</td>\n",
       "      <td>Adm-clerical</td>\n",
       "      <td>Not-in-family</td>\n",
       "      <td>White</td>\n",
       "      <td>Male</td>\n",
       "      <td>2174</td>\n",
       "      <td>0</td>\n",
       "      <td>40</td>\n",
       "      <td>United-States</td>\n",
       "      <td>&lt;=50K</td>\n",
       "    </tr>\n",
       "    <tr>\n",
       "      <th>1</th>\n",
       "      <td>50</td>\n",
       "      <td>Self-emp-not-inc</td>\n",
       "      <td>83311</td>\n",
       "      <td>Bachelors</td>\n",
       "      <td>13</td>\n",
       "      <td>Married-civ-spouse</td>\n",
       "      <td>Exec-managerial</td>\n",
       "      <td>Husband</td>\n",
       "      <td>White</td>\n",
       "      <td>Male</td>\n",
       "      <td>0</td>\n",
       "      <td>0</td>\n",
       "      <td>13</td>\n",
       "      <td>United-States</td>\n",
       "      <td>&lt;=50K</td>\n",
       "    </tr>\n",
       "    <tr>\n",
       "      <th>2</th>\n",
       "      <td>38</td>\n",
       "      <td>Private</td>\n",
       "      <td>215646</td>\n",
       "      <td>HS-grad</td>\n",
       "      <td>9</td>\n",
       "      <td>Divorced</td>\n",
       "      <td>Handlers-cleaners</td>\n",
       "      <td>Not-in-family</td>\n",
       "      <td>White</td>\n",
       "      <td>Male</td>\n",
       "      <td>0</td>\n",
       "      <td>0</td>\n",
       "      <td>40</td>\n",
       "      <td>United-States</td>\n",
       "      <td>&lt;=50K</td>\n",
       "    </tr>\n",
       "    <tr>\n",
       "      <th>3</th>\n",
       "      <td>53</td>\n",
       "      <td>Private</td>\n",
       "      <td>234721</td>\n",
       "      <td>11th</td>\n",
       "      <td>7</td>\n",
       "      <td>Married-civ-spouse</td>\n",
       "      <td>Handlers-cleaners</td>\n",
       "      <td>Husband</td>\n",
       "      <td>Black</td>\n",
       "      <td>Male</td>\n",
       "      <td>0</td>\n",
       "      <td>0</td>\n",
       "      <td>40</td>\n",
       "      <td>United-States</td>\n",
       "      <td>&lt;=50K</td>\n",
       "    </tr>\n",
       "    <tr>\n",
       "      <th>4</th>\n",
       "      <td>28</td>\n",
       "      <td>Private</td>\n",
       "      <td>338409</td>\n",
       "      <td>Bachelors</td>\n",
       "      <td>13</td>\n",
       "      <td>Married-civ-spouse</td>\n",
       "      <td>Prof-specialty</td>\n",
       "      <td>Wife</td>\n",
       "      <td>Black</td>\n",
       "      <td>Female</td>\n",
       "      <td>0</td>\n",
       "      <td>0</td>\n",
       "      <td>40</td>\n",
       "      <td>Cuba</td>\n",
       "      <td>&lt;=50K</td>\n",
       "    </tr>\n",
       "  </tbody>\n",
       "</table>\n",
       "</div>"
      ],
      "text/plain": [
       "   age          workclass  fnlwgt   education  education-num  \\\n",
       "0   39          State-gov   77516   Bachelors             13   \n",
       "1   50   Self-emp-not-inc   83311   Bachelors             13   \n",
       "2   38            Private  215646     HS-grad              9   \n",
       "3   53            Private  234721        11th              7   \n",
       "4   28            Private  338409   Bachelors             13   \n",
       "\n",
       "        marital-status          occupation    relationship    race      sex  \\\n",
       "0        Never-married        Adm-clerical   Not-in-family   White     Male   \n",
       "1   Married-civ-spouse     Exec-managerial         Husband   White     Male   \n",
       "2             Divorced   Handlers-cleaners   Not-in-family   White     Male   \n",
       "3   Married-civ-spouse   Handlers-cleaners         Husband   Black     Male   \n",
       "4   Married-civ-spouse      Prof-specialty            Wife   Black   Female   \n",
       "\n",
       "   capital-gain  capital-loss  hours-per-week  native-country  salary  \n",
       "0          2174             0              40   United-States   <=50K  \n",
       "1             0             0              13   United-States   <=50K  \n",
       "2             0             0              40   United-States   <=50K  \n",
       "3             0             0              40   United-States   <=50K  \n",
       "4             0             0              40            Cuba   <=50K  "
      ]
     },
     "execution_count": 2,
     "metadata": {},
     "output_type": "execute_result"
    }
   ],
   "source": [
    "df.columns = ['age', 'workclass', 'fnlwgt', 'education', 'education-num', 'marital-status', 'occupation', \n",
    "              'relationship','race', 'sex', 'capital-gain', 'capital-loss', 'hours-per-week', \n",
    "              'native-country', 'salary']\n",
    "df.head()"
   ]
  },
  {
   "cell_type": "markdown",
   "metadata": {},
   "source": [
    "**1. Veri setinde kaç erkek ve kadın vardır?** "
   ]
  },
  {
   "cell_type": "markdown",
   "metadata": {},
   "source": [
    "Veri tipi cinsiyet gibi kategori olan öznitelikleri value_counts() fonksiyonuyla kolayca sayabiliyoruz."
   ]
  },
  {
   "cell_type": "code",
   "execution_count": 3,
   "metadata": {},
   "outputs": [
    {
     "data": {
      "text/plain": [
       " Male      21790\n",
       " Female    10771\n",
       "Name: sex, dtype: int64"
      ]
     },
     "execution_count": 3,
     "metadata": {},
     "output_type": "execute_result"
    }
   ],
   "source": [
    "df['sex'].value_counts()"
   ]
  },
  {
   "cell_type": "markdown",
   "metadata": {},
   "source": [
    "**2. Kadınların yaş ortalaması kaçtır?**"
   ]
  },
  {
   "cell_type": "markdown",
   "metadata": {},
   "source": [
    "df.sex == ' Female' bize boolean cinsinden (True veya False) bir kadın indeksi oluşturuyor.\n",
    "Başa gelen df o indekse göre arama yapıyor ve mean fonksiyonuyla istediğimizi kolayca buluyoruz."
   ]
  },
  {
   "cell_type": "code",
   "execution_count": 5,
   "metadata": {},
   "outputs": [
    {
     "data": {
      "text/plain": [
       "36.858"
      ]
     },
     "execution_count": 5,
     "metadata": {},
     "output_type": "execute_result"
    }
   ],
   "source": [
    "round(df[df.sex == ' Female']['age'].mean(),3)"
   ]
  },
  {
   "cell_type": "markdown",
   "metadata": {},
   "source": [
    "**3. Almanların veri setindeki oranı nedir?**"
   ]
  },
  {
   "cell_type": "markdown",
   "metadata": {},
   "source": [
    "Yukarıdaki kadın indeksine benzer olarak bir Alman indeksi oluşturduk ve yine o indekse göre arama yaptık.\n",
    "len() fonksiyonu bize seçtiğimiz data frame'in kaç satırdan oluştuğunu veriyor."
   ]
  },
  {
   "cell_type": "code",
   "execution_count": 6,
   "metadata": {},
   "outputs": [
    {
     "data": {
      "text/plain": [
       "0.0042"
      ]
     },
     "execution_count": 6,
     "metadata": {},
     "output_type": "execute_result"
    }
   ],
   "source": [
    "round(len(df[df['native-country'] == ' Germany'])/ len(df), 4)"
   ]
  },
  {
   "cell_type": "markdown",
   "metadata": {},
   "source": [
    "**4. Eğitim özniteliğine göre histogram çizin.**"
   ]
  },
  {
   "cell_type": "markdown",
   "metadata": {},
   "source": [
    "x eksenine eğitim seviyelerini tekrar olmaksızın (unique) koyuyoruz. \n",
    "y ekseninde de bildiğimiz value_counts() fonksiyonuyla her eğitim seviyesinde kaç kişinin olduğunu buluyoruz.\n",
    "rotation x eksenindeki yazılar iç içe geçmesin diye mutlaka yapılmalı."
   ]
  },
  {
   "cell_type": "code",
   "execution_count": 7,
   "metadata": {
    "scrolled": true
   },
   "outputs": [
    {
     "data": {
      "image/png": "[encoded data removed]",
      "text/plain": [
       "<matplotlib.figure.Figure at 0x7fe306cb96d8>"
      ]
     },
     "metadata": {},
     "output_type": "display_data"
    }
   ],
   "source": [
    "from matplotlib.pylab import rcParams\n",
    "rcParams['figure.figsize'] = 11, 4\n",
    "sns.barplot(x=df.education.unique(), y=df.education.value_counts())\n",
    "plt.xticks(rotation=70)\n",
    "plt.show()"
   ]
  },
  {
   "cell_type": "markdown",
   "metadata": {},
   "source": [
    "**5. Yıllık 50 binden fazla ve az kazananların yaşlarının ortalama ve std. sapma değerleri nedir?**"
   ]
  },
  {
   "cell_type": "markdown",
   "metadata": {},
   "source": [
    "Indeks fikri yukarıdakilerle aynı olduğu için tekrar yazma gereği duymuyorum, describe() fonksiyonu ortalama, standart sapma ve percentile değerlerini bize veriyor."
   ]
  },
  {
   "cell_type": "code",
   "execution_count": 8,
   "metadata": {},
   "outputs": [
    {
     "name": "stdout",
     "output_type": "stream",
     "text": [
      "count    24720.000000\n",
      "mean        36.783738\n",
      "std         14.020088\n",
      "min         17.000000\n",
      "25%         25.000000\n",
      "50%         34.000000\n",
      "75%         46.000000\n",
      "max         90.000000\n",
      "Name: age, dtype: float64\n",
      "\n",
      "count    7841.000000\n",
      "mean       44.249841\n",
      "std        10.519028\n",
      "min        19.000000\n",
      "25%        36.000000\n",
      "50%        44.000000\n",
      "75%        51.000000\n",
      "max        90.000000\n",
      "Name: age, dtype: float64\n"
     ]
    }
   ],
   "source": [
    "print(df[df.salary == ' <=50K'].age.describe())\n",
    "print('')\n",
    "print(df[df.salary == ' >50K'].age.describe())"
   ]
  },
  {
   "cell_type": "markdown",
   "metadata": {},
   "source": [
    "**6. Yıllık 50 binden fazla kazananlar en az lise mezunu mudur?**"
   ]
  },
  {
   "cell_type": "markdown",
   "metadata": {},
   "source": [
    "Yıllık 50K'dan fazla kazanan insanların eğitim seviyelerini yine basit bir index ve unique() fonksiyonuyla buluyoruz ve hemen her eğitim seviyesinden insanın olduğunu görüyoruz."
   ]
  },
  {
   "cell_type": "code",
   "execution_count": 9,
   "metadata": {},
   "outputs": [
    {
     "data": {
      "text/plain": [
       "array([' HS-grad', ' Masters', ' Bachelors', ' Some-college',\n",
       "       ' Assoc-voc', ' Doctorate', ' Prof-school', ' Assoc-acdm',\n",
       "       ' 7th-8th', ' 12th', ' 10th', ' 11th', ' 9th', ' 5th-6th',\n",
       "       ' 1st-4th'], dtype=object)"
      ]
     },
     "execution_count": 9,
     "metadata": {},
     "output_type": "execute_result"
    }
   ],
   "source": [
    "df[df.salary == ' >50K'].education.unique()"
   ]
  },
  {
   "cell_type": "markdown",
   "metadata": {},
   "source": [
    "**7. Irk ve cinsiyet özniteliklerini gruplandırarak bu grupların yaş istatiklerini bulunuz.\n",
    "Ayrıca Amer-Indian-Eskimo ırkının en yaşlı üyesinin yaşını bulunuz.**"
   ]
  },
  {
   "cell_type": "markdown",
   "metadata": {},
   "source": [
    "groupby() fonksiyonu tahmin edileceği gibi verimizi istediğimiz özniteliklerle göre gruplara ayırıyor, sonrasında basitçe describe() fonksiyonunu kullanıyoruz. "
   ]
  },
  {
   "cell_type": "code",
   "execution_count": 10,
   "metadata": {},
   "outputs": [
    {
     "name": "stdout",
     "output_type": "stream",
     "text": [
      "                       count       mean        std   min   25%   50%   75%  \\\n",
      "race                                                                         \n",
      " Amer-Indian-Eskimo    311.0  37.173633  12.447130  17.0  28.0  35.0  45.5   \n",
      " Asian-Pac-Islander   1039.0  37.746872  12.825133  17.0  28.0  36.0  45.0   \n",
      " Black                3124.0  37.767926  12.759290  17.0  28.0  36.0  46.0   \n",
      " Other                 271.0  33.457565  11.538865  17.0  25.0  31.0  41.0   \n",
      " White               27816.0  38.769881  13.782306  17.0  28.0  37.0  48.0   \n",
      "\n",
      "                      max  \n",
      "race                       \n",
      " Amer-Indian-Eskimo  82.0  \n",
      " Asian-Pac-Islander  90.0  \n",
      " Black               90.0  \n",
      " Other               77.0  \n",
      " White               90.0  \n",
      "\n",
      "           count       mean        std   min   25%   50%   75%   max\n",
      "sex                                                                 \n",
      " Female  10771.0  36.858230  14.013697  17.0  25.0  35.0  46.0  90.0\n",
      " Male    21790.0  39.433547  13.370630  17.0  29.0  38.0  48.0  90.0\n",
      "\n"
     ]
    },
    {
     "data": {
      "text/plain": [
       "'Amer-Indian-Eskimoların en yaşlısı 82 yaşında. '"
      ]
     },
     "execution_count": 10,
     "metadata": {},
     "output_type": "execute_result"
    }
   ],
   "source": [
    "print(df.groupby('race')['age'].describe())\n",
    "print('')\n",
    "print(df.groupby('sex')['age'].describe())\n",
    "print('')\n",
    "\"Amer-Indian-Eskimoların en yaşlısı {0} yaşında. \".format(df[df.race == ' Amer-Indian-Eskimo']['age'].max())"
   ]
  },
  {
   "cell_type": "markdown",
   "metadata": {},
   "source": [
    "**8 Yıllık 50 binden fazlanan kişiler arasında evlilerin mi yoksa bekarların mı oranı daha fazla?\n",
    "**"
   ]
  },
  {
   "cell_type": "markdown",
   "metadata": {},
   "source": [
    "Bildiğimiz fonksiyonları kullandığımız cevapta başında married olanlar evli diğerleri bekar olarak sayılıyor ve evlilerin ezici üstünlüğünü görüyoruz."
   ]
  },
  {
   "cell_type": "code",
   "execution_count": 11,
   "metadata": {},
   "outputs": [
    {
     "data": {
      "text/plain": [
       " Married-civ-spouse       6692\n",
       " Never-married             491\n",
       " Divorced                  463\n",
       " Widowed                    85\n",
       " Separated                  66\n",
       " Married-spouse-absent      34\n",
       " Married-AF-spouse          10\n",
       "Name: marital-status, dtype: int64"
      ]
     },
     "execution_count": 11,
     "metadata": {},
     "output_type": "execute_result"
    }
   ],
   "source": [
    "df[df.salary == ' >50K']['marital-status'].value_counts()"
   ]
  },
  {
   "cell_type": "markdown",
   "metadata": {},
   "source": [
    "**9. a. Haftalık en çok çalışan kişi kaç saat çalışmış?\n",
    "b. En çok çalışan grup kaç kişiden oluşuyor?\n",
    "c. Bu grubun içinde yıllık 50 binden fazla kazananların oranı nedir?**"
   ]
  },
  {
   "cell_type": "code",
   "execution_count": 12,
   "metadata": {},
   "outputs": [
    {
     "name": "stdout",
     "output_type": "stream",
     "text": [
      "Haftalık en çok çalışan grup 99 saat çalışmış.\n",
      "\n",
      "Bu grup 85 kişiden oluşuyor.\n",
      "\n",
      "Grubun maaş dağılımı şöyle:\n",
      "\n",
      " <=50K    60\n",
      " >50K     25\n",
      "Name: salary, dtype: int64\n",
      "\n",
      "Bu grubun içinde yıllık 50K'dan fazla kazananların oranı 0.2941.\n"
     ]
    }
   ],
   "source": [
    "print(\"Haftalık en çok çalışan grup {0} saat çalışmış.\".format(df['hours-per-week'].max()))\n",
    "print('')\n",
    "print(\"Bu grup {0} kişiden oluşuyor.\".format(len(df[df['hours-per-week'] == df['hours-per-week'].max()])))\n",
    "print('')\n",
    "print('Grubun maaş dağılımı şöyle:')\n",
    "print('')\n",
    "print(df[df['hours-per-week'] == df['hours-per-week'].max()].salary.value_counts())\n",
    "print('')\n",
    "print(\"Bu grubun içinde yıllık 50K'dan fazla kazananların oranı {0:.4f}.\".format(25/85))"
   ]
  },
  {
   "cell_type": "markdown",
   "metadata": {},
   "source": [
    "**10. Her ülke için az ve çok (>50K veya <=50K) maaş kazan insanların haftalık ortalama çalışma sürelerini hesaplayınız.\n",
    "**"
   ]
  },
  {
   "cell_type": "markdown",
   "metadata": {},
   "source": [
    "Buraya kadar beni okuyan sevgili okuruma teşekkür ediyor aşağıdaki kodu şimdiye kadar anlattıklarımla anlayacağını ümit ediyorum."
   ]
  },
  {
   "cell_type": "code",
   "execution_count": 13,
   "metadata": {},
   "outputs": [
    {
     "name": "stdout",
     "output_type": "stream",
     "text": [
      "native-country\n",
      " ?                     45.547945\n",
      " Cambodia              40.000000\n",
      " Canada                45.641026\n",
      " China                 38.900000\n",
      " Columbia              50.000000\n",
      " Cuba                  42.440000\n",
      " Dominican-Republic    47.000000\n",
      " Ecuador               48.750000\n",
      " El-Salvador           45.000000\n",
      " England               44.533333\n",
      " France                50.750000\n",
      " Germany               44.977273\n",
      " Greece                50.625000\n",
      " Guatemala             36.666667\n",
      " Haiti                 42.750000\n",
      " Honduras              60.000000\n",
      " Hong                  45.000000\n",
      " Hungary               50.000000\n",
      " India                 46.475000\n",
      " Iran                  47.500000\n",
      " Ireland               48.000000\n",
      " Italy                 45.400000\n",
      " Jamaica               41.100000\n",
      " Japan                 47.958333\n",
      " Laos                  40.000000\n",
      " Mexico                46.575758\n",
      " Nicaragua             37.500000\n",
      " Peru                  40.000000\n",
      " Philippines           43.032787\n",
      " Poland                39.000000\n",
      " Portugal              41.500000\n",
      " Puerto-Rico           39.416667\n",
      " Scotland              46.666667\n",
      " South                 51.437500\n",
      " Taiwan                46.800000\n",
      " Thailand              58.333333\n",
      " Trinadad&Tobago       40.000000\n",
      " United-States         45.505369\n",
      " Vietnam               39.200000\n",
      " Yugoslavia            49.500000\n",
      "Name: hours-per-week, dtype: float64\n",
      "\n",
      "native-country\n",
      " ?                             40.164760\n",
      " Cambodia                      41.416667\n",
      " Canada                        37.914634\n",
      " China                         37.381818\n",
      " Columbia                      38.684211\n",
      " Cuba                          37.985714\n",
      " Dominican-Republic            42.338235\n",
      " Ecuador                       38.041667\n",
      " El-Salvador                   36.030928\n",
      " England                       40.483333\n",
      " France                        41.058824\n",
      " Germany                       39.139785\n",
      " Greece                        41.809524\n",
      " Guatemala                     39.360656\n",
      " Haiti                         36.325000\n",
      " Holand-Netherlands            40.000000\n",
      " Honduras                      34.333333\n",
      " Hong                          39.142857\n",
      " Hungary                       31.300000\n",
      " India                         38.233333\n",
      " Iran                          41.440000\n",
      " Ireland                       40.947368\n",
      " Italy                         39.625000\n",
      " Jamaica                       38.239437\n",
      " Japan                         41.000000\n",
      " Laos                          40.375000\n",
      " Mexico                        40.003279\n",
      " Nicaragua                     36.093750\n",
      " Outlying-US(Guam-USVI-etc)    41.857143\n",
      " Peru                          35.068966\n",
      " Philippines                   38.065693\n",
      " Poland                        38.166667\n",
      " Portugal                      41.939394\n",
      " Puerto-Rico                   38.470588\n",
      " Scotland                      39.444444\n",
      " South                         40.156250\n",
      " Taiwan                        33.774194\n",
      " Thailand                      42.866667\n",
      " Trinadad&Tobago               37.058824\n",
      " United-States                 38.799127\n",
      " Vietnam                       37.193548\n",
      " Yugoslavia                    41.600000\n",
      "Name: hours-per-week, dtype: float64\n"
     ]
    }
   ],
   "source": [
    "print(df[df.salary == ' >50K'].groupby('native-country')['hours-per-week'].mean())\n",
    "print('')\n",
    "print(df[df.salary == ' <=50K'].groupby('native-country')['hours-per-week'].mean())"
   ]
  },
  {
   "cell_type": "markdown",
   "metadata": {},
   "source": [
    "İlk ders Python’a veya başka bir programlama diline hakim olan insanlar için kolay gelebilir. Onlar için hızlı bir tekrar olmuştur umarım, derslerin zorluğu her hafta artacak aman rehavete kapılmayın. İlk defa programlamaya giriş yapanlar için de keyifli bir başlangıç olmuştur umarım.\n",
    "\n",
    "Tekrara boğmadan elimden geldiğince basit yazmaya çalıştım ama açık olmayan kısımlar olabilir, bana yazarsanız gerekli eklemeleri/düzenlemeleri yaparım.\n",
    "\n",
    "Haftaya ikinci derse kadar herkesin kodları kendi bilgisayarında denemesini tavsiye ederim. Emin olun bilgisayarınızda yapıp düzelteceğiniz 1 hata, buna benzer 20 yazı okuyup 15 video izlemekten çok daha faydalı olacaktır.\n",
    "\n",
    "Her ne kadar ağır teori kitaplarıyla makine öğrenmesine başlamanızı tavsiye etmesem de bütün bu çalışmaları yaparken veri biliminin temelinde istatistik olduğunu unutmamak gerekiyor. Kolay konuların ve ödevlerin olduğu ilk üç hafta giriş düzeyinde bir istatistik kitabına başlamanızı tavsiye ederim.\n",
    "\n",
    "Bitirmeden Josh Wills’in veri bilimcisi tanımını da sizinle paylaşayım.\n",
    "\n",
    "## Data Scientist (n.): Person who is better at statistics than any software engineer and better at software engineering than any statistician."
   ]
  }
 ],
 "metadata": {
  "anaconda-cloud": {},
  "kernelspec": {
   "display_name": "Python 3",
   "language": "python",
   "name": "python3"
  },
  "language_info": {
   "codemirror_mode": {
    "name": "ipython",
    "version": 3
   },
   "file_extension": ".py",
   "mimetype": "text/x-python",
   "name": "python",
   "nbconvert_exporter": "python",
   "pygments_lexer": "ipython3",
   "version": "3.6.4"
  }
 },
 "nbformat": 4,
 "nbformat_minor": 1
}
