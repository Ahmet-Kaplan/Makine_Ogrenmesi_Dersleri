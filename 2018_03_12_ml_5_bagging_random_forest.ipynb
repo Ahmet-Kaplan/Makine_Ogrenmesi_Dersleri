{
 "cells": [
  {
   "cell_type": "markdown",
   "metadata": {},
   "source": [
    "Geçen haftalarda önümüzdeki bir problem için farklı modeller kurmuştuk. Bu modellerin hiper-parametrelerini seçip başarı oranlarını kıyaslayıp uygun modelle yolumuza devam etmiştik.\n",
    "\n",
    "Eğer en iyi modeli ve en iyi parametreleri seçmek bize yetmiyorsa modelimizi daha da geliştirmek istiyorsak bir üst aşamaya ensemble modellere geçme zamanımız gelmiş demektir.\n",
    "\n",
    "Ensemble model birçok modelin uyum içinde birbirlerinin eksiklerini tamamlayarak daha başarılı bir model oluşturmasıdır.\n",
    "\n",
    "Bununla ilgili güzel bir anekdot var: İstatistikçi Francis Galton 1907 yılında Plymouth festivalinde bir boğanın ağırlığının tahmin edildiği bir yarışma denk gelir. 800 kişinin hiçbiri 1198 pound ağırlığındaki boğayı doğru tahmin edemez fakat tahminlerin ortalaması 1197'dir. (The Wisdom of Crowds!)"
   ]
  },
  {
   "cell_type": "markdown",
   "metadata": {},
   "source": [
    "ASSIGNMENT 5\n",
    "\n",
    "Q1. Mahkeme salonunda 5 jüri üyesi var. Herbiri bağımsız olarak sanığın \n",
    "suçlu olup olmadığını yüzde 70 olasılıkla doğru tahmin ediyor. Eğer son karar \n",
    "çoğunluk oyuyla belirlenirse doğru karar verme olasılığı nedir?\n",
    "\n",
    "    a. 70.00%\n",
    "    b. 83.20%\n",
    "    c. 83.70%\n",
    "    d. 87.50%\n",
    "\n",
    "Teorem ile ilgili başlığa buradan ulaşabilirsiniz. \n",
    "Condorcet's jury theorem https://en.wikipedia.org/wiki/Condorcet%27s_jury_theorem"
   ]
  },
  {
   "cell_type": "code",
   "execution_count": null,
   "metadata": {
    "collapsed": true
   },
   "outputs": [],
   "source": [
    "Doğru kararın çıkması için çoğunluğun sağlanması gerekiyor. O sebeple \n",
    "(5 3) (5 4) (5 5) kombinasyonlarını inceliyoruz. \n",
    "\n",
    "(5 3) * ((0.7)**3) * (((0.3)**2)) + (5 4) * ((0.7)**4) * (((0.3)**1)) + (5 5) * ((0.7)**5), 3))"
   ]
  },
  {
   "cell_type": "code",
   "execution_count": 1,
   "metadata": {},
   "outputs": [
    {
     "name": "stdout",
     "output_type": "stream",
     "text": [
      "0.837\n"
     ]
    }
   ],
   "source": [
    "print(round(10 * ((0.7)**3) * (((0.3)**2)) + 5 * ((0.7)**4) * (((0.3)**1)) + 1 * ((0.7)**5), 3))"
   ]
  },
  {
   "cell_type": "code",
   "execution_count": 10,
   "metadata": {},
   "outputs": [
    {
     "data": {
      "text/plain": [
       "SeriousDlqin2yrs                          int64\n",
       "age                                       int64\n",
       "NumberOfTime30-59DaysPastDueNotWorse      int64\n",
       "DebtRatio                               float64\n",
       "NumberOfTimes90DaysLate                   int64\n",
       "NumberOfTime60-89DaysPastDueNotWorse      int64\n",
       "MonthlyIncome                           float64\n",
       "NumberOfDependents                      float64\n",
       "dtype: object"
      ]
     },
     "execution_count": 10,
     "metadata": {},
     "output_type": "execute_result"
    }
   ],
   "source": [
    "#ortam hazırlıklarını yapıyoruz\n",
    "import numpy as np\n",
    "import pandas as pd\n",
    "%matplotlib inline\n",
    "import matplotlib.pyplot as plt\n",
    "import seaborn as sns\n",
    "sns.set()\n",
    "\n",
    "from matplotlib import rcParams\n",
    "rcParams['figure.figsize'] = 11,8\n",
    "\n",
    "data = pd.read_csv('https://raw.githubusercontent.com/HakkiKaanSimsek/mlcourse_open/master/data/credit_scoring_sample.csv', sep = ';')\n",
    "\n",
    "#NaN değerleri o kategorinin medyan değerleriyle değiştirecek bir fonksiyon yazıyoruz.\n",
    "def fill_nan(table):\n",
    "    for col in table.columns:\n",
    "        table[col] = table[col].fillna(table[col].median())\n",
    "    return table\n",
    "  \n",
    "#Veri tiplerine bi bakalım.\n",
    "data.dtypes"
   ]
  },
  {
   "cell_type": "code",
   "execution_count": 11,
   "metadata": {},
   "outputs": [
    {
     "data": {
      "text/html": [
       "<div>\n",
       "<style scoped>\n",
       "    .dataframe tbody tr th:only-of-type {\n",
       "        vertical-align: middle;\n",
       "    }\n",
       "\n",
       "    .dataframe tbody tr th {\n",
       "        vertical-align: top;\n",
       "    }\n",
       "\n",
       "    .dataframe thead th {\n",
       "        text-align: right;\n",
       "    }\n",
       "</style>\n",
       "<table border=\"1\" class=\"dataframe\">\n",
       "  <thead>\n",
       "    <tr style=\"text-align: right;\">\n",
       "      <th></th>\n",
       "      <th>SeriousDlqin2yrs</th>\n",
       "      <th>age</th>\n",
       "      <th>NumberOfTime30-59DaysPastDueNotWorse</th>\n",
       "      <th>DebtRatio</th>\n",
       "      <th>NumberOfTimes90DaysLate</th>\n",
       "      <th>NumberOfTime60-89DaysPastDueNotWorse</th>\n",
       "      <th>MonthlyIncome</th>\n",
       "      <th>NumberOfDependents</th>\n",
       "    </tr>\n",
       "  </thead>\n",
       "  <tbody>\n",
       "    <tr>\n",
       "      <th>0</th>\n",
       "      <td>0</td>\n",
       "      <td>64</td>\n",
       "      <td>0</td>\n",
       "      <td>0.249908</td>\n",
       "      <td>0</td>\n",
       "      <td>0</td>\n",
       "      <td>8158.0</td>\n",
       "      <td>0.0</td>\n",
       "    </tr>\n",
       "    <tr>\n",
       "      <th>1</th>\n",
       "      <td>0</td>\n",
       "      <td>58</td>\n",
       "      <td>0</td>\n",
       "      <td>3870.000000</td>\n",
       "      <td>0</td>\n",
       "      <td>0</td>\n",
       "      <td>NaN</td>\n",
       "      <td>0.0</td>\n",
       "    </tr>\n",
       "    <tr>\n",
       "      <th>2</th>\n",
       "      <td>0</td>\n",
       "      <td>41</td>\n",
       "      <td>0</td>\n",
       "      <td>0.456127</td>\n",
       "      <td>0</td>\n",
       "      <td>0</td>\n",
       "      <td>6666.0</td>\n",
       "      <td>0.0</td>\n",
       "    </tr>\n",
       "    <tr>\n",
       "      <th>3</th>\n",
       "      <td>0</td>\n",
       "      <td>43</td>\n",
       "      <td>0</td>\n",
       "      <td>0.000190</td>\n",
       "      <td>0</td>\n",
       "      <td>0</td>\n",
       "      <td>10500.0</td>\n",
       "      <td>2.0</td>\n",
       "    </tr>\n",
       "    <tr>\n",
       "      <th>4</th>\n",
       "      <td>1</td>\n",
       "      <td>49</td>\n",
       "      <td>0</td>\n",
       "      <td>0.271820</td>\n",
       "      <td>0</td>\n",
       "      <td>0</td>\n",
       "      <td>400.0</td>\n",
       "      <td>0.0</td>\n",
       "    </tr>\n",
       "  </tbody>\n",
       "</table>\n",
       "</div>"
      ],
      "text/plain": [
       "   SeriousDlqin2yrs  age  NumberOfTime30-59DaysPastDueNotWorse    DebtRatio  \\\n",
       "0                 0   64                                     0     0.249908   \n",
       "1                 0   58                                     0  3870.000000   \n",
       "2                 0   41                                     0     0.456127   \n",
       "3                 0   43                                     0     0.000190   \n",
       "4                 1   49                                     0     0.271820   \n",
       "\n",
       "   NumberOfTimes90DaysLate  NumberOfTime60-89DaysPastDueNotWorse  \\\n",
       "0                        0                                     0   \n",
       "1                        0                                     0   \n",
       "2                        0                                     0   \n",
       "3                        0                                     0   \n",
       "4                        0                                     0   \n",
       "\n",
       "   MonthlyIncome  NumberOfDependents  \n",
       "0         8158.0                 0.0  \n",
       "1            NaN                 0.0  \n",
       "2         6666.0                 0.0  \n",
       "3        10500.0                 2.0  \n",
       "4          400.0                 0.0  "
      ]
     },
     "execution_count": 11,
     "metadata": {},
     "output_type": "execute_result"
    }
   ],
   "source": [
    "data.head()"
   ]
  },
  {
   "cell_type": "code",
   "execution_count": 12,
   "metadata": {},
   "outputs": [
    {
     "name": "stdout",
     "output_type": "stream",
     "text": [
      "Distribution of the target:\n"
     ]
    },
    {
     "data": {
      "text/plain": [
       "0    0.777511\n",
       "1    0.222489\n",
       "Name: SeriousDlqin2yrs, dtype: float64"
      ]
     },
     "execution_count": 12,
     "metadata": {},
     "output_type": "execute_result"
    },
    {
     "data": {
      "image/png": "[encoded data removed]",
      "text/plain": [
       "<matplotlib.figure.Figure at 0x7f9c76de4b38>"
      ]
     },
     "metadata": {},
     "output_type": "display_data"
    }
   ],
   "source": [
    "#Şimdi de hedef değişkenimiz SeriousDlqin2yrs dağılımına bakalım. \n",
    "#Hedef değişkenimiz müşteri 90 gün içerisinde kredisini \n",
    "#ödemişse 0 ödememişse 1 değerini alıyor.\n",
    "\n",
    "ax = data['SeriousDlqin2yrs'].hist(orientation = 'horizontal', color = 'navy')\n",
    "ax.set_xlabel('number_of_observations')\n",
    "ax.set_ylabel('unique_value')\n",
    "ax.set_title('Target distribution')\n",
    "\n",
    "print('Distribution of the target:')\n",
    "data['SeriousDlqin2yrs'].value_counts()/data.shape[0]"
   ]
  },
  {
   "cell_type": "code",
   "execution_count": 17,
   "metadata": {
    "collapsed": true
   },
   "outputs": [],
   "source": [
    "#LOGISTIC REGRESYON\n",
    "\n",
    "from sklearn.linear_model import LogisticRegression\n",
    "from sklearn.model_selection import GridSearchCV, StratifiedKFold\n",
    "lr = LogisticRegression(random_state = 5, class_weight = 'balanced')"
   ]
  },
  {
   "cell_type": "markdown",
   "metadata": {},
   "source": [
    "Dengesiz bir veri setimiz olduğu için class_weight='balanced' kullanarak\n",
    "bir regresyon modeli oluşturuyoruz.\n",
    "\n",
    "Q3. C parametreleri için Grid Search yapıldığında optimal C değeri nedir?\n",
    "\n",
    "    a. 0.0001\n",
    "    b. 0.001\n",
    "    c. 0.01\n",
    "    d. 0.1\n",
    "    e. 1\n",
    "    f. 10"
   ]
  },
  {
   "cell_type": "code",
   "execution_count": 18,
   "metadata": {},
   "outputs": [
    {
     "name": "stdout",
     "output_type": "stream",
     "text": [
      "Gecikmeli ödeme yapan kişilerin: yaş aralığı [45.71379414 46.12700479]\n"
     ]
    }
   ],
   "source": [
    "#NaN değerleri dolduran fonksiyonumuzu kullanıyoruz şimdi de.\n",
    "table = fill_nan(data)\n",
    "\n",
    "# Tahmin etmek istediğimiz değişkenleri ve diğerlerini ayırıyoruz.\n",
    "X = table.drop('SeriousDlqin2yrs', axis = 1)\n",
    "y = table['SeriousDlqin2yrs']\n",
    "\n",
    "#Bootstrapping\n",
    "\n",
    "#Q2. Ödemesini geciktiren kullancıların yaş ortalamarı için \n",
    "#yüzde 90 güven aralığında tahmin yapmamız isteniyor.\n",
    "\n",
    "def get_bootstrap_samples(data_set, n_samples):\n",
    "    indices = np.random.randint(0, len(data_set), (n_samples, len(data_set)))\n",
    "    samples = data_set[indices]\n",
    "    return samples\n",
    "def stat_intervals(stat, alpha):\n",
    "    boundaries = np.percentile(stat, [100 * alpha / 2., 100 * (1 - alpha / 2.)])\n",
    "    return boundaries\n",
    "\n",
    "delayed_people = data[data['SeriousDlqin2yrs'] == 1]['age'].values\n",
    "\n",
    "# Sonuçların tekrar tekrar üretilmesi için bir seed değeri belirliyoruz.\n",
    "np.random.seed(0)\n",
    "\n",
    "#Bootstrapping ile yeni örneklemler üretiyoruz ve her biri için ortalamalarını hesaplıyoruz.\n",
    "delayed_mean_age = [np.mean(sample) \n",
    "                       for sample in get_bootstrap_samples(delayed_people, 1000)]\n",
    "\n",
    "\n",
    "print(\"Gecikmeli ödeme yapan kişilerin: yaş aralığı\", \n",
    "stat_intervals(delayed_mean_age, 0.10))"
   ]
  },
  {
   "cell_type": "code",
   "execution_count": 19,
   "metadata": {},
   "outputs": [
    {
     "name": "stdout",
     "output_type": "stream",
     "text": [
      "Best roc_auc: 0.7955, with best C: {'C': 0.001}\n"
     ]
    }
   ],
   "source": [
    "#Logistic regresyon modelimiz için en iyi düzenlileştirme (regularization) parametresini bulmaya çalışacağız.\n",
    "parameters = {'C': (0.0001, 0.001, 0.01, 0.1, 1, 10)}\n",
    "\n",
    "#C'nin optimal değerini bulmak için 5-fold validation (5 katlamalı çarpraz doğrulama) \n",
    "#uyguluyoruz ve farklı C değerleri için ROC AUC sonuçlarını kıyaslıyoruz.\n",
    "\n",
    "#Modelin kalitesini gösteren en iyi metriklerden biri Curve Altında Kalan Alan (AUC)'dır. \n",
    "#ROC AUC 1'e yaklaştıkça sınıflandırma modelinin kalitesi artıyor demektir.\n",
    "\n",
    "clf = GridSearchCV(lr,parameters,scoring='roc_auc',refit=True,cv=5)\n",
    "clf.fit(X,y)\n",
    "print('Best roc_auc: {:.4}, with best C: {}'.format(clf.best_score_, clf.best_params_))"
   ]
  },
  {
   "cell_type": "markdown",
   "metadata": {},
   "source": [
    "Q4.En iyi modeli sabit olarak kabul edebilir miyiz? \n",
    "(cross-validation skorlarının standart sapmasının 5∗10−3 değerinden az olması.)\n",
    "- !En iyi modelin ROC AUC değerini kaydedin, bundan sonraki sorular için önemli."
   ]
  },
  {
   "cell_type": "code",
   "execution_count": 20,
   "metadata": {},
   "outputs": [
    {
     "name": "stderr",
     "output_type": "stream",
     "text": [
      "/home/dockeruser/anaconda3/lib/python3.6/site-packages/sklearn/model_selection/_search.py:761: DeprecationWarning: The grid_scores_ attribute was deprecated in version 0.18 in favor of the more elaborate cv_results_ attribute. The grid_scores_ attribute will not be available from 0.20\n",
      "  DeprecationWarning)\n"
     ]
    },
    {
     "data": {
      "text/plain": [
       "[mean: 0.79018, std: 0.00595, params: {'C': 0.0001},\n",
       " mean: 0.79548, std: 0.00534, params: {'C': 0.001},\n",
       " mean: 0.79109, std: 0.00475, params: {'C': 0.01},\n",
       " mean: 0.78870, std: 0.00453, params: {'C': 0.1},\n",
       " mean: 0.78821, std: 0.00446, params: {'C': 1},\n",
       " mean: 0.78799, std: 0.00434, params: {'C': 10}]"
      ]
     },
     "execution_count": 20,
     "metadata": {},
     "output_type": "execute_result"
    }
   ],
   "source": [
    "clf.grid_scores_"
   ]
  },
  {
   "cell_type": "code",
   "execution_count": 21,
   "metadata": {},
   "outputs": [
    {
     "name": "stdout",
     "output_type": "stream",
     "text": [
      "Cross-validation skorlarının standart sapması 0.002573\n"
     ]
    }
   ],
   "source": [
    "print('Cross-validation skorlarının standart sapması {0}'. format(round(np.std([0.79018, 0.79548, \n",
    "                                                           0.79109, 0.78870, 0.78821, 0.78799]), 6)))"
   ]
  },
  {
   "cell_type": "markdown",
   "metadata": {},
   "source": [
    "Q5. Bir özniteliğin önemi ilgili özniteliğin katsayısının mutlak değeri olarak tanımlanır. \n",
    "Karşılaştırma yapabilmemiz için bütün öznitelik değerlerini normalize etmeliyiz. \n",
    "Regresyon modeli için en önemli öznitelik nedir?\n",
    "\n",
    "    a. age\n",
    "    b. NumberOfTime30-59DaysPastDueNotWorse\n",
    "    c. DebtRatio\n",
    "    d. NumberOfTimes90DaysLate\n",
    "    e. NumberOfTime60-89DaysPastDueNotWorse\n",
    "    f. MonthlyIncome\n",
    "    g. NumberOfDependents"
   ]
  },
  {
   "cell_type": "code",
   "execution_count": 22,
   "metadata": {
    "collapsed": true
   },
   "outputs": [],
   "source": [
    "from sklearn.preprocessing import StandardScaler\n",
    "X = StandardScaler().fit_transform(X)"
   ]
  },
  {
   "cell_type": "markdown",
   "metadata": {},
   "source": [
    "Şimdi normalize edilmiş yeni değerlerle tekrar bir model kurmalıyız. \n",
    "Bu model için öcelikle en ideal regularization (C) parametresini bulalım.\n",
    "\n",
    "C'nin optimal değerini bulmak için GridSearchCV uyguluyoruz \n",
    "ve farklı C değerleri için ROC AUC sonuçlarını kıyaslıyoruz."
   ]
  },
  {
   "cell_type": "code",
   "execution_count": 23,
   "metadata": {},
   "outputs": [
    {
     "name": "stdout",
     "output_type": "stream",
     "text": [
      "Best roc_auc: 0.7878, with best C: {'C': 10}\n"
     ]
    }
   ],
   "source": [
    "clf = GridSearchCV(lr,parameters,scoring='roc_auc',refit=True,cv=5)\n",
    "clf.fit(X,y)\n",
    "print('Best roc_auc: {:.4}, with best C: {}'.format(clf.best_score_, clf.best_params_))"
   ]
  },
  {
   "cell_type": "code",
   "execution_count": 24,
   "metadata": {
    "collapsed": true
   },
   "outputs": [],
   "source": [
    "#ROC_AUC değerimizi maksimum yapan C parametresi 10, modeli buna göre tekrar kuralım.\n",
    "lr = LogisticRegression(C=10, random_state=5, class_weight = 'balanced').fit(X, y)"
   ]
  },
  {
   "cell_type": "code",
   "execution_count": 25,
   "metadata": {},
   "outputs": [
    {
     "name": "stdout",
     "output_type": "stream",
     "text": [
      "[[-0.4364889   3.27729131 -0.04235577  3.06538284  0.07658622 -0.20397173\n",
      "   0.08526854]]\n",
      "Regresyon modeli için en önemli öznitelik NumberOfTime30-59DaysPastDueNotWorse\n"
     ]
    }
   ],
   "source": [
    "#Özniteliklerin katsayılarına bakalım şimdi de.\n",
    "print(lr.coef_)\n",
    "print('Regresyon modeli için en önemli öznitelik NumberOfTime30-59DaysPastDueNotWorse')"
   ]
  },
  {
   "cell_type": "markdown",
   "metadata": {},
   "source": [
    "Q6. Logistik Regresyon modelinde DebtRatio özniteliğinin etkisi nedir? Softmax fonksiyonuyla hesaplayın.\n",
    "   - a. 0.38\n",
    "   - b.-0.02\n",
    "   - c. 0.11\n",
    "   - d. 0.24"
   ]
  },
  {
   "cell_type": "code",
   "execution_count": 26,
   "metadata": {},
   "outputs": [
    {
     "name": "stdout",
     "output_type": "stream",
     "text": [
      "[0.0287, 0.4914, 0.0193, 0.3976, 0.02, 0.0227, 0.0202]\n"
     ]
    }
   ],
   "source": [
    "#Özniteliklerimizin katsayılarını bulmuştuk, şimdi bu değerlere softmax fonksiyonunu uyguluyoruz.\n",
    "#Softmax fonksiyonu negatif değer kabul etmiyor, aman dikkat.\n",
    "\n",
    "import math\n",
    "z = [0.4364889 ,  3.27729131, 0.04235577,  3.06538284,  0.07658622,\n",
    "        0.20397173,  0.08526854]\n",
    "z_exp = [math.exp(i) for i in z]\n",
    "sum_z_exp = sum(z_exp)\n",
    "softmax = [roundDate:   Fri Mar 30 10:18:51 2018 -0700\n",
    "\n",
    "    dosyalar eklendi.\n",
    "\n",
    "commit ac3b1ad99a6e32ec4cd4d706df1443563e6ce581\n",
    "Author: HakkiKaanSimsek <hkaansimsek@gmail.com>\n",
    "Date:   Fri Mar 30 10:14:45 2018 -0700\n",
    "\n",
    "Date:   Fri Mar 30 10:18:51 2018 -0700\n",
    "\n",
    "    dosyalar eklendi.\n",
    "\n",
    "commit ac3b1ad99a6e32ec4cd4d706df1443563e6ce581\n",
    "Author: HakkiKaanSimsek <hkaansimsek@gmail.com>\n",
    "Date:   Fri Mar 30 10:14:45 2018 -0700\n",
    "\n",
    "d(i / sum_z_exp, 4) for i in z_exp]\n",
    "print(softmax)"
   ]
  },
  {
   "cell_type": "markdown",
   "metadata": {},
   "source": [
    "DebtRatio özniteliğinin etkisi 0.0193 olarak gözüküyor, katsayısı negatif olduğu için yuvarlanmış cevap -0.02"
   ]
  },
  {
   "cell_type": "markdown",
   "metadata": {},
   "source": [
    "Q7. Lojistik regresyonu scale edilmemiş orjinal özniteliklerle tekrar eğitelim. \n",
    "Sonrasında diğer öznitelikleri sabit tutup her müşterinin yaşına 20 ekleyelim. \n",
    "Orjinal ve 20 yıl sonraki yaşların olduğu iki modelle tahminler yapıp oranlayalım. (2. model/1. model)\n",
    "\n",
    "    a. -0.01\n",
    "    b. 0.70\n",
    "    c. 8.32\n",
    "    d. 0.66"
   ]
  },
  {
   "cell_type": "code",
   "execution_count": 28,
   "metadata": {},
   "outputs": [
    {
     "data": {
      "text/plain": [
       "array([[-1.81852819e-02,  4.82349233e-01, -1.07983115e-05,\n",
       "         4.30314156e-01,  6.59578704e-02, -1.14476586e-05,\n",
       "         1.15356249e-01]])"
      ]
     },
     "execution_count": 28,
     "metadata": {},
     "output_type": "execute_result"
    }
   ],
   "source": [
    "X = table.drop('SeriousDlqin2yrs', axis = 1)\n",
    "y = table['SeriousDlqin2yrs']\n",
    "\n",
    "#ilk başta bulduğumuz C parametresiyle modelimizi kurup katsayıları hesaplıyoruz.\n",
    "lr = LogisticRegression(C=0.001, random_state=5, class_weight = 'balanced')\n",
    "lr.fit(X,y)\n",
    "lr.coef_"
   ]
  },
  {
   "cell_type": "code",
   "execution_count": 29,
   "metadata": {},
   "outputs": [
    {
     "data": {
      "text/plain": [
       "0.7"
      ]
     },
     "execution_count": 29,
     "metadata": {},
     "output_type": "execute_result"
    }
   ],
   "source": [
    "#yaş özniteliğinin katsayısı -1.81852819e-02, tahmin edilen olasılık değişimi \n",
    "#özniteliğin katsayısıyla değişim miktarının çarpılmasıyla bulunur.\n",
    "from math import exp\n",
    "round(exp(-1.81852819e-02*20), 2)"
   ]
  },
  {
   "cell_type": "markdown",
   "metadata": {},
   "source": [
    "RANDOM FOREST\n",
    "\n",
    "Q8. En iyi Random Forest modelinin ROC AUC değeriyle en iyi Lojistik \n",
    "Regresyon modelinin ROC AUC değeri arasındaki fark nedir?\n",
    "\n",
    "    a.0.04\n",
    "    b.0.03\n",
    "    c.0.02\n",
    "    d.0.01"
   ]
  },
  {
   "cell_type": "code",
   "execution_count": 30,
   "metadata": {},
   "outputs": [
    {
     "name": "stdout",
     "output_type": "stream",
     "text": [
      "Best roc_auc: 0.8355, with best C: {'max_depth': 10, 'max_features': 2, 'min_samples_leaf': 9}\n"
     ]
    }
   ],
   "source": [
    "from sklearn.ensemble import RandomForestClassifier\n",
    "rf = RandomForestClassifier(n_estimators=100, n_jobs=-1, random_state=42, \n",
    "                            class_weight='balanced')\n",
    "parameters = {'max_features': [1, 2, 4], \n",
    "              'min_samples_leaf': [3, 5, 7, 9], \n",
    "              'max_depth': [5,10,15]}\n",
    "\n",
    "clf = GridSearchCV(rf,parameters,scoring='roc_auc',refit=True,cv=5)\n",
    "clf.fit(X,y)\n",
    "print('Best roc_auc: {:.4}, with best C: {}'.format(clf.best_score_, clf.best_params_))"
   ]
  },
  {
   "cell_type": "code",
   "execution_count": 31,
   "metadata": {},
   "outputs": [
    {
     "data": {
      "text/plain": [
       "0.04"
      ]
     },
     "execution_count": 31,
     "metadata": {},
     "output_type": "execute_result"
    }
   ],
   "source": [
    "round(0.8355 - 0.7955, 4)"
   ]
  },
  {
   "cell_type": "markdown",
   "metadata": {},
   "source": [
    "Q9. Random Forest Modelinde en az etkiye sahip öznitelik hangisidir?\n",
    "\n",
    "    a. age\n",
    "    b. NumberOfTime30-59DaysPastDueNotWorse\n",
    "    c. DebtRatio\n",
    "    d. NumberOfTimes90DaysLate\n",
    "    e. NumberOfTime60-89DaysPastDueNotWorse\n",
    "    f. MonthlyIncome\n",
    "    g. NumberOfDependents"
   ]
  },
  {
   "cell_type": "code",
   "execution_count": 32,
   "metadata": {},
   "outputs": [
    {
     "data": {
      "text/plain": [
       "array([0.11695037, 0.30141858, 0.0761897 , 0.27886218, 0.15358594,\n",
       "       0.05853629, 0.01445693])"
      ]
     },
     "execution_count": 32,
     "metadata": {},
     "output_type": "execute_result"
    }
   ],
   "source": [
    "rf = RandomForestClassifier(n_estimators=100, n_jobs=-1, random_state=42, \n",
    "                            class_weight='balanced', max_depth= 10, \n",
    "                            max_features= 2, min_samples_leaf = 9)\n",
    "rf.fit(X,y)\n",
    "rf.feature_importances_"
   ]
  },
  {
   "cell_type": "markdown",
   "metadata": {},
   "source": [
    "Random Forest Modelinde en az etkiye sahip öznitelik NumberOfDependents"
   ]
  },
  {
   "cell_type": "markdown",
   "metadata": {},
   "source": [
    "Q10. Bu çalışmada Lojistik Regresyon modelinin Random Forest modeline göre en büyük avantajı nedir?\n",
    "\n",
    "    a. Modeli fit etmek için daha az zaman harcanması\n",
    "    b. Daha az hiper-parametre arasında arama yapılması\n",
    "    c. Özniteliklerin okunabilirliği\n",
    "    d. Algoritmanın lineer özellikleri\n",
    "\n",
    "Yaş probleminde gözlemlediğimiz gibi LR'nin RF'ye göre en büyük avantajı \n",
    "özniteliklerin/değişimlerin kolaylıkla açıklanabilir olması."
   ]
  },
  {
   "cell_type": "markdown",
   "metadata": {},
   "source": [
    "BAGGING\n",
    "\n",
    "Q11. Random_state = 42, Base classifier 100 lojistik regresyon olacak şekilde Bagging Classifier fit edin. \n",
    "Bu problemde GridSearchCV yerine RandomizedSearchCV kullanın. \n",
    "Aşağıdaki bütün parametreler için 54 deneme yapması gerekecek bu çok uzun zaman alacağı için \n",
    "n_iter = 20 yapın. En iyi ROC AUC değeri kaçtır?\n",
    "\n",
    "    a. 80.75%\n",
    "    b. 80.12%\n",
    "    c. 79.62%\n",
    "    d. 76.50%\n",
    "    \n",
    "Q12. Baggindeki en iyi max_features ve max_samples parametreleri yorumlayın, niye bu değerler seçildi?\n",
    "\n",
    "    a. Bagging için ne kadar az öznitelik olursa o kadar iyidir.\n",
    "    b. Bagging küçük örneklemlerde daha iyi çalışır.\n",
    "    c. Tek modellerin arasında daha az korelasyon vardır.\n",
    "    d. Öznitelik sayısı ne kadar fazlaysa bilgi kaybı o kadar az olur."
   ]
  },
  {
   "cell_type": "code",
   "execution_count": null,
   "metadata": {
    "collapsed": true
   },
   "outputs": [],
   "source": [
    "from sklearn.ensemble import BaggingClassifier\n",
    "from sklearn.model_selection import cross_val_score, RandomizedSearchCV\n",
    "\n",
    "parameters = {'max_features': [2, 3, 4], 'max_samples': [0.5, 0.7, 0.9], \n",
    "              'base_estimator__C': [0.0001, 0.001, 0.01, 1, 10, 100]}\n",
    "\n",
    "lr = LogisticRegression(class_weight = 'balanced')\n",
    "lr.fit(X,y)\n",
    "bc = BaggingClassifier(random_state=42, base_estimator=lr, n_estimators= 100)\n",
    "\n",
    "clf = RandomizedSearchCV(bc,parameters,scoring='roc_auc',cv = 5, n_iter=20, random_state = 1)\n",
    "clf.fit(X,y)\n",
    "print('Best roc_auc: {:.4}, with best C: {}'.format(clf.best_score_, clf.best_params_))"
   ]
  },
  {
   "cell_type": "markdown",
   "metadata": {},
   "source": [
    "Bu hafta öğrendiklerimiz:\n",
    "\n",
    "- Condorcet’s jury teoremi\n",
    "- Bootstrapping\n",
    "- GridSearchCV\n",
    "- RandomizedSearchCV\n",
    "- Ölçeklendirme (Scaling)\n",
    "- Softmax Fonksiyonu\n",
    "- Random Forest\n",
    "- Feature Importance\n",
    "- Bagging\n",
    "\n",
    "### Zor bir hafta olduğunun farkındayım, açık olmayan bir yer varsa mutlaka yazın. Bu derse en az 1–2 saat ayırmanızı ve kendinizi biraz zorlamanızı tavsiye ederim.\n",
    "\n",
    "# “A ship in harbor is safe — but that is not what ships are built for.”"
   ]
  }
 ],
 "metadata": {
  "kernelspec": {
   "display_name": "Python 3",
   "language": "python",
   "name": "python3"
  },
  "language_info": {
   "codemirror_mode": {
    "name": "ipython",
    "version": 3
   },
   "file_extension": ".py",
   "mimetype": "text/x-python",
   "name": "python",
   "nbconvert_exporter": "python",
   "pygments_lexer": "ipython3",
   "version": "3.6.3"
  }
 },
 "nbformat": 4,
 "nbformat_minor": 2
}
