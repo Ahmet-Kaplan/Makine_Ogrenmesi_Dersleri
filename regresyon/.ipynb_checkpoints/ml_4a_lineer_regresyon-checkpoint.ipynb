{
 "cells": [
  {
   "cell_type": "markdown",
   "metadata": {},
   "source": [
    "## Makine Öğrenmesi Dersleri 4a: Lineer Regresyon"
   ]
  },
  {
   "cell_type": "markdown",
   "metadata": {},
   "source": [
    "Gözetimli makine öğrenmesi (supervised machine learning) ve istatistik modelleri temel olarak iki problemi çözmeye çalışır:\n",
    "\n",
    "- Regresyon\n",
    "- Sınıflandırma\n",
    "\n",
    "Makine öğrenmesi derslerinin 3. serisinde karar ağaçlarıyla nasıl regresyon ve sınıflandırma yaptığımızdan bahsetmiştik.\n",
    "\n",
    "Bu yazıda en temel regresyon modeli olan lineer regresyondan bahsedip Bay Area ev fiyatları hakkında tahminde bulunacağız.\n",
    "\n",
    "Lineer regresyon tahmin etmek istediğimiz y değişkeni (ev fiyatları) ve veri setindeki x öznitelikleri (enlem, boylam, oda sayısı, evin yaşı, okyanusa uzaklığı vs.) arasındaki ilişkiyi anlamamıza yardımcı olur. Günün sonunda amacımız bir değişkendeki artışın veya azalışın ev fiyatını nasıl etkilediğini doğru olarak anlamak ve yeni evler gördüğümüzde tutarlı tahminlerde bulunmak.\n",
    "\n",
    "![image.png](https://cdn-images-1.medium.com/max/880/1*-N98-9lrYGcvUNuRjobFOQ.png)\n",
    "\n",
    "- y: ev fiyatı\n",
    "- x1: oda sayısı\n",
    "- x2:evin yaşı\n",
    "- ...\n",
    "- xn: okyanusa uzaklık gibi düşünebilirsiniz.\n",
    "\n",
    "Modelimizin kalitesini belirleyen ölçüt yaptığımız tahminlerle gerçek değer arasındaki fark: hata (residuals), diğer bir deyişle modelimizin açıklamakta yetersiz kaldığı kısım. Lineer regresyonda amacımız bu hatalarla ilgili maliyet fonksiyonlarını (MAE, SE, RMSE vs.) minimize eden en iyi denklemi bulmak. Modelimizdeki hata terimlerinde yapısal bir bilginin örüntünün kalmasını istemiyoruz.\n",
    "\n",
    "![image.png](https://cdn-images-1.medium.com/max/880/1*A71zTD6_QqUzLhMKj1Rgiw.png)\n",
    "\n",
    "İlk derste olduğu gibi bu dersi takip etmek için de bilgisayarınıza Python kurmanıza veya veri setini indirmenize gerek yok. İhtiyacınız olan tek şey internet ve bu yazıyı okuduğunuza göre o konuda da bir sorunumuz yok. İzlemeniz gereken adımlar sırasıyla şöyle:\n",
    "\n",
    "- Google hesabınızı açın.\n",
    "- https://colab.research.google.com/ adresine gidin.\n",
    "- NEW PYTHON 3 NOTEBOOK'a tıklayın.\n",
    "- Oradaki satıra aşağıdaki kodu yapıştırın ve play tuşuna basın."
   ]
  },
  {
   "cell_type": "code",
   "execution_count": 1,
   "metadata": {},
   "outputs": [
    {
     "name": "stdout",
     "output_type": "stream",
     "text": [
      "<class 'pandas.core.frame.DataFrame'>\n",
      "RangeIndex: 20640 entries, 0 to 20639\n",
      "Data columns (total 10 columns):\n",
      "longitude             20640 non-null float64\n",
      "latitude              20640 non-null float64\n",
      "housing_median_age    20640 non-null float64\n",
      "total_rooms           20640 non-null float64\n",
      "total_bedrooms        20433 non-null float64\n",
      "population            20640 non-null float64\n",
      "households            20640 non-null float64\n",
      "median_income         20640 non-null float64\n",
      "median_house_value    20640 non-null float64\n",
      "ocean_proximity       20640 non-null object\n",
      "dtypes: float64(9), object(1)\n",
      "memory usage: 1.6+ MB\n"
     ]
    },
    {
     "data": {
      "text/html": [
       "<div>\n",
       "<style scoped>\n",
       "    .dataframe tbody tr th:only-of-type {\n",
       "        vertical-align: middle;\n",
       "    }\n",
       "\n",
       "    .dataframe tbody tr th {\n",
       "        vertical-align: top;\n",
       "    }\n",
       "\n",
       "    .dataframe thead th {\n",
       "        text-align: right;\n",
       "    }\n",
       "</style>\n",
       "<table border=\"1\" class=\"dataframe\">\n",
       "  <thead>\n",
       "    <tr style=\"text-align: right;\">\n",
       "      <th></th>\n",
       "      <th>longitude</th>\n",
       "      <th>latitude</th>\n",
       "      <th>housing_median_age</th>\n",
       "      <th>total_rooms</th>\n",
       "      <th>total_bedrooms</th>\n",
       "      <th>population</th>\n",
       "      <th>households</th>\n",
       "      <th>median_income</th>\n",
       "      <th>median_house_value</th>\n",
       "      <th>ocean_proximity</th>\n",
       "    </tr>\n",
       "  </thead>\n",
       "  <tbody>\n",
       "    <tr>\n",
       "      <th>0</th>\n",
       "      <td>-122.23</td>\n",
       "      <td>37.88</td>\n",
       "      <td>41.0</td>\n",
       "      <td>880.0</td>\n",
       "      <td>129.0</td>\n",
       "      <td>322.0</td>\n",
       "      <td>126.0</td>\n",
       "      <td>8.3252</td>\n",
       "      <td>452600.0</td>\n",
       "      <td>NEAR BAY</td>\n",
       "    </tr>\n",
       "    <tr>\n",
       "      <th>1</th>\n",
       "      <td>-122.22</td>\n",
       "      <td>37.86</td>\n",
       "      <td>21.0</td>\n",
       "      <td>7099.0</td>\n",
       "      <td>1106.0</td>\n",
       "      <td>2401.0</td>\n",
       "      <td>1138.0</td>\n",
       "      <td>8.3014</td>\n",
       "      <td>358500.0</td>\n",
       "      <td>NEAR BAY</td>\n",
       "    </tr>\n",
       "    <tr>\n",
       "      <th>2</th>\n",
       "      <td>-122.24</td>\n",
       "      <td>37.85</td>\n",
       "      <td>52.0</td>\n",
       "      <td>1467.0</td>\n",
       "      <td>190.0</td>\n",
       "      <td>496.0</td>\n",
       "      <td>177.0</td>\n",
       "      <td>7.2574</td>\n",
       "      <td>352100.0</td>\n",
       "      <td>NEAR BAY</td>\n",
       "    </tr>\n",
       "    <tr>\n",
       "      <th>3</th>\n",
       "      <td>-122.25</td>\n",
       "      <td>37.85</td>\n",
       "      <td>52.0</td>\n",
       "      <td>1274.0</td>\n",
       "      <td>235.0</td>\n",
       "      <td>558.0</td>\n",
       "      <td>219.0</td>\n",
       "      <td>5.6431</td>\n",
       "      <td>341300.0</td>\n",
       "      <td>NEAR BAY</td>\n",
       "    </tr>\n",
       "    <tr>\n",
       "      <th>4</th>\n",
       "      <td>-122.25</td>\n",
       "      <td>37.85</td>\n",
       "      <td>52.0</td>\n",
       "      <td>1627.0</td>\n",
       "      <td>280.0</td>\n",
       "      <td>565.0</td>\n",
       "      <td>259.0</td>\n",
       "      <td>3.8462</td>\n",
       "      <td>342200.0</td>\n",
       "      <td>NEAR BAY</td>\n",
       "    </tr>\n",
       "  </tbody>\n",
       "</table>\n",
       "</div>"
      ],
      "text/plain": [
       "   longitude  latitude  housing_median_age  total_rooms  total_bedrooms  \\\n",
       "0    -122.23     37.88                41.0        880.0           129.0   \n",
       "1    -122.22     37.86                21.0       7099.0          1106.0   \n",
       "2    -122.24     37.85                52.0       1467.0           190.0   \n",
       "3    -122.25     37.85                52.0       1274.0           235.0   \n",
       "4    -122.25     37.85                52.0       1627.0           280.0   \n",
       "\n",
       "   population  households  median_income  median_house_value ocean_proximity  \n",
       "0       322.0       126.0         8.3252            452600.0        NEAR BAY  \n",
       "1      2401.0      1138.0         8.3014            358500.0        NEAR BAY  \n",
       "2       496.0       177.0         7.2574            352100.0        NEAR BAY  \n",
       "3       558.0       219.0         5.6431            341300.0        NEAR BAY  \n",
       "4       565.0       259.0         3.8462            342200.0        NEAR BAY  "
      ]
     },
     "execution_count": 1,
     "metadata": {},
     "output_type": "execute_result"
    }
   ],
   "source": [
    "import pandas as pd\n",
    "import numpy as np\n",
    "import matplotlib.pyplot as plt\n",
    "import seaborn as sns\n",
    "import warnings\n",
    "warnings.filterwarnings(\"ignore\")\n",
    "%matplotlib inline \n",
    "\n",
    "data = pd.read_csv('https://raw.githubusercontent.com/HakkiKaanSimsek/Makine_Ogrenmesi_Dersleri/master/karar_agaclari/data/housing.csv')\n",
    "data.info()\n",
    "data.head()"
   ]
  },
  {
   "cell_type": "markdown",
   "metadata": {},
   "source": [
    "Modelimizdeki hedef değişken 'median_house_value' olduğu için onun dağılımına bakıyoruz ve veri setinin geri kalanından ayırıyoruz."
   ]
  },
  {
   "cell_type": "code",
   "execution_count": 2,
   "metadata": {},
   "outputs": [
    {
     "data": {
      "image/png": "[encoded data removed]",
      "text/plain": [
       "<Figure size 864x576 with 1 Axes>"
      ]
     },
     "metadata": {},
     "output_type": "display_data"
    }
   ],
   "source": [
    "plt.figure(figsize=(12,8))\n",
    "X = data.drop(['median_house_value'], axis=1)\n",
    "y = data['median_house_value']\n",
    "sns.distplot(y)\n",
    "plt.show()"
   ]
  },
  {
   "cell_type": "markdown",
   "metadata": {},
   "source": [
    "Makine öğrenmesi modelleri kategorik değişkenleri algılayamadığı için 'object' tipindeki değişkenleri one-hot-encoding yöntemiyle 0 ve 1'lere ayırıyoruz. Ayrıca 'total_bedroom' değişkenindeki eksik değerleri doldurmamız gerekiyor. \n",
    "\n",
    "Yapmamız gerekenler sırasıyla şöyle:\n",
    "\n",
    "- cean_proximity değişkeni pd.get_dummies() fonksiyonuyla zenginleştirilir. \n",
    "- Bu değişken veri setinden atılır.\n",
    "- total_bedroom değişkeni yine o sütunun median() değeriyle doldurulur."
   ]
  },
  {
   "cell_type": "code",
   "execution_count": 3,
   "metadata": {},
   "outputs": [],
   "source": [
    "X = pd.concat([X, pd.get_dummies(X.ocean_proximity)], axis=1)\n",
    "X = X.drop(['ocean_proximity'],axis=1)\n",
    "X['total_bedrooms'] = X['total_bedrooms'].fillna(X['total_bedrooms'].median())"
   ]
  },
  {
   "cell_type": "markdown",
   "metadata": {},
   "source": [
    "Modelimizi kurmaya hazırız şimdi standart modelleme süreçlerini uygulayacağız.\n",
    "\n",
    "1. Veriyi eğitim ve test alt-veri setlerine ayırma.\n",
    "2. Karar ağacı modeli oluşturma.\n",
    "3. Modeli eğitim verisine 'fit' etme.\n",
    "4. R score hesaplama\n",
    "5. Intercept ve coefficient hesaplama."
   ]
  },
  {
   "cell_type": "code",
   "execution_count": 4,
   "metadata": {},
   "outputs": [
    {
     "name": "stdout",
     "output_type": "stream",
     "text": [
      "R score: 0.65\n",
      "Intercept: -2235604.0\n"
     ]
    },
    {
     "data": {
      "text/html": [
       "<div>\n",
       "<style scoped>\n",
       "    .dataframe tbody tr th:only-of-type {\n",
       "        vertical-align: middle;\n",
       "    }\n",
       "\n",
       "    .dataframe tbody tr th {\n",
       "        vertical-align: top;\n",
       "    }\n",
       "\n",
       "    .dataframe thead th {\n",
       "        text-align: right;\n",
       "    }\n",
       "</style>\n",
       "<table border=\"1\" class=\"dataframe\">\n",
       "  <thead>\n",
       "    <tr style=\"text-align: right;\">\n",
       "      <th></th>\n",
       "      <th>feature</th>\n",
       "      <th>coef</th>\n",
       "    </tr>\n",
       "  </thead>\n",
       "  <tbody>\n",
       "    <tr>\n",
       "      <th>0</th>\n",
       "      <td>longitude</td>\n",
       "      <td>-26502.202398</td>\n",
       "    </tr>\n",
       "    <tr>\n",
       "      <th>1</th>\n",
       "      <td>latitude</td>\n",
       "      <td>-24915.560492</td>\n",
       "    </tr>\n",
       "    <tr>\n",
       "      <th>2</th>\n",
       "      <td>housing_median_age</td>\n",
       "      <td>1105.974805</td>\n",
       "    </tr>\n",
       "    <tr>\n",
       "      <th>3</th>\n",
       "      <td>total_rooms</td>\n",
       "      <td>-5.872325</td>\n",
       "    </tr>\n",
       "    <tr>\n",
       "      <th>4</th>\n",
       "      <td>total_bedrooms</td>\n",
       "      <td>105.721352</td>\n",
       "    </tr>\n",
       "    <tr>\n",
       "      <th>5</th>\n",
       "      <td>population</td>\n",
       "      <td>-37.326969</td>\n",
       "    </tr>\n",
       "    <tr>\n",
       "      <th>6</th>\n",
       "      <td>households</td>\n",
       "      <td>42.313211</td>\n",
       "    </tr>\n",
       "    <tr>\n",
       "      <th>7</th>\n",
       "      <td>median_income</td>\n",
       "      <td>39269.682428</td>\n",
       "    </tr>\n",
       "    <tr>\n",
       "      <th>8</th>\n",
       "      <td>&lt;1H OCEAN</td>\n",
       "      <td>-18383.890550</td>\n",
       "    </tr>\n",
       "    <tr>\n",
       "      <th>9</th>\n",
       "      <td>INLAND</td>\n",
       "      <td>-59459.949854</td>\n",
       "    </tr>\n",
       "    <tr>\n",
       "      <th>10</th>\n",
       "      <td>ISLAND</td>\n",
       "      <td>117504.655241</td>\n",
       "    </tr>\n",
       "    <tr>\n",
       "      <th>11</th>\n",
       "      <td>NEAR BAY</td>\n",
       "      <td>-24449.937239</td>\n",
       "    </tr>\n",
       "    <tr>\n",
       "      <th>12</th>\n",
       "      <td>NEAR OCEAN</td>\n",
       "      <td>-15210.877598</td>\n",
       "    </tr>\n",
       "  </tbody>\n",
       "</table>\n",
       "</div>"
      ],
      "text/plain": [
       "               feature           coef\n",
       "0            longitude  -26502.202398\n",
       "1             latitude  -24915.560492\n",
       "2   housing_median_age    1105.974805\n",
       "3          total_rooms      -5.872325\n",
       "4       total_bedrooms     105.721352\n",
       "5           population     -37.326969\n",
       "6           households      42.313211\n",
       "7        median_income   39269.682428\n",
       "8            <1H OCEAN  -18383.890550\n",
       "9               INLAND  -59459.949854\n",
       "10              ISLAND  117504.655241\n",
       "11            NEAR BAY  -24449.937239\n",
       "12          NEAR OCEAN  -15210.877598"
      ]
     },
     "execution_count": 4,
     "metadata": {},
     "output_type": "execute_result"
    }
   ],
   "source": [
    "from sklearn.model_selection import train_test_split\n",
    "from sklearn.linear_model import LinearRegression\n",
    "\n",
    "X_train, X_test, y_train, y_test = train_test_split(X, y, test_size=0.3, random_state=42)\n",
    "lm = LinearRegression()\n",
    "lm.fit(X_train, y_train)\n",
    "print(\"R score: {0}\".format(round(lm.score(X_train, y_train),2)))\n",
    "print(\"Intercept: {0}\".format(round(lm.intercept_),))\n",
    "pd.DataFrame({'feature':X.columns, 'coef':lm.coef_})"
   ]
  },
  {
   "cell_type": "markdown",
   "metadata": {},
   "source": [
    "6. Görmediğimiz test verisini modele verip tahminde bulunma.\n",
    "7. Gerçek değerlerle tahmin değerleri arasındaki ilişkiye bakmak için scatter plot kullanma."
   ]
  },
  {
   "cell_type": "code",
   "execution_count": 5,
   "metadata": {},
   "outputs": [
    {
     "data": {
      "image/png": "[encoded data removed]",
      "text/plain": [
       "<Figure size 864x576 with 1 Axes>"
      ]
     },
     "metadata": {},
     "output_type": "display_data"
    }
   ],
   "source": [
    "plt.figure(figsize=(12,8))\n",
    "plt.scatter(y_test, lm.predict(X_test), color='r')\n",
    "plt.xlabel(\"Actual Values: $Y_i$\")\n",
    "plt.ylabel(\"Predicted Valuess: $\\hat{Y}_i$\")\n",
    "plt.title(\"Actual vs Predicted Values: $Y_i$ vs $\\hat{Y}_i$\")\n",
    "plt.show()"
   ]
  },
  {
   "cell_type": "markdown",
   "metadata": {},
   "source": [
    "8. Tahmin edilen değerlerle hata terimleri arasında ilişkisel bir yapı olup olmadığını kontrol etmek için scatter plot kullanma."
   ]
  },
  {
   "cell_type": "code",
   "execution_count": 6,
   "metadata": {},
   "outputs": [
    {
     "data": {
      "image/png": "[encoded data removed]",
      "text/plain": [
       "<Figure size 864x576 with 1 Axes>"
      ]
     },
     "metadata": {},
     "output_type": "display_data"
    }
   ],
   "source": [
    "plt.figure(figsize=(12,8))\n",
    "plt.scatter(lm.predict(X_test), lm.predict(X_test) - y_test, c = 'navy')\n",
    "plt.xlabel('Predicted Values')\n",
    "plt.ylabel('Residual')\n",
    "plt.title('Predicted Values vs Residuals')\n",
    "plt.show()"
   ]
  },
  {
   "cell_type": "markdown",
   "metadata": {},
   "source": [
    "9. Gerçek değerle tahmin arasındaki benzerliğe göre mean absolute error, mean squared error ve root mean squared error hesaplama. "
   ]
  },
  {
   "cell_type": "code",
   "execution_count": 7,
   "metadata": {},
   "outputs": [
    {
     "name": "stdout",
     "output_type": "stream",
     "text": [
      "Mean Absolute Error (MAE): 50078.10\n",
      "Mean Squared Error (MSE): 4733529273.09\n",
      "Root Mean Squared Error (RMSE): 68800.65\n"
     ]
    }
   ],
   "source": [
    "from sklearn.metrics import mean_squared_error\n",
    "from sklearn.metrics import mean_absolute_error\n",
    "\n",
    "mae = mean_absolute_error(lm.predict(X_test), y_test)\n",
    "mse = mean_squared_error(lm.predict(X_test), y_test)\n",
    "rmse = np.sqrt(mse)\n",
    "\n",
    "print('Mean Absolute Error (MAE): %.2f' % mae)\n",
    "print('Mean Squared Error (MSE): %.2f' % mse)\n",
    "print('Root Mean Squared Error (RMSE): %.2f' % rmse)"
   ]
  },
  {
   "cell_type": "markdown",
   "metadata": {},
   "source": [
    "10. Yukarıda scikit-learn ile yapılan çalışmayı statsmodels.api kullarak da hızlıca yapabiliriz."
   ]
  },
  {
   "cell_type": "code",
   "execution_count": 8,
   "metadata": {},
   "outputs": [
    {
     "name": "stdout",
     "output_type": "stream",
     "text": [
      "Mean Absolute Error (MAE): 50078.10\n",
      "Mean Squared Error (MSE): 4733529273.09\n",
      "Root Mean Squared Error (RMSE): 68800.65\n"
     ]
    },
    {
     "data": {
      "text/html": [
       "<table class=\"simpletable\">\n",
       "<caption>OLS Regression Results</caption>\n",
       "<tr>\n",
       "  <th>Dep. Variable:</th>    <td>median_house_value</td> <th>  R-squared:         </th>  <td>   0.647</td>  \n",
       "</tr>\n",
       "<tr>\n",
       "  <th>Model:</th>                    <td>OLS</td>        <th>  Adj. R-squared:    </th>  <td>   0.647</td>  \n",
       "</tr>\n",
       "<tr>\n",
       "  <th>Method:</th>              <td>Least Squares</td>   <th>  F-statistic:       </th>  <td>   2205.</td>  \n",
       "</tr>\n",
       "<tr>\n",
       "  <th>Date:</th>              <td>Wed, 29 Aug 2018</td>  <th>  Prob (F-statistic):</th>   <td>  0.00</td>   \n",
       "</tr>\n",
       "<tr>\n",
       "  <th>Time:</th>                  <td>17:54:25</td>      <th>  Log-Likelihood:    </th> <td>-1.8143e+05</td>\n",
       "</tr>\n",
       "<tr>\n",
       "  <th>No. Observations:</th>       <td> 14448</td>       <th>  AIC:               </th>  <td>3.629e+05</td> \n",
       "</tr>\n",
       "<tr>\n",
       "  <th>Df Residuals:</th>           <td> 14435</td>       <th>  BIC:               </th>  <td>3.630e+05</td> \n",
       "</tr>\n",
       "<tr>\n",
       "  <th>Df Model:</th>               <td>    12</td>       <th>                     </th>      <td> </td>     \n",
       "</tr>\n",
       "<tr>\n",
       "  <th>Covariance Type:</th>       <td>nonrobust</td>     <th>                     </th>      <td> </td>     \n",
       "</tr>\n",
       "</table>\n",
       "<table class=\"simpletable\">\n",
       "<tr>\n",
       "           <td></td>             <th>coef</th>     <th>std err</th>      <th>t</th>      <th>P>|t|</th>  <th>[0.025</th>    <th>0.975]</th>  \n",
       "</tr>\n",
       "<tr>\n",
       "  <th>longitude</th>          <td> -2.65e+04</td> <td> 1205.776</td> <td>  -21.979</td> <td> 0.000</td> <td>-2.89e+04</td> <td>-2.41e+04</td>\n",
       "</tr>\n",
       "<tr>\n",
       "  <th>latitude</th>           <td>-2.492e+04</td> <td> 1187.339</td> <td>  -20.984</td> <td> 0.000</td> <td>-2.72e+04</td> <td>-2.26e+04</td>\n",
       "</tr>\n",
       "<tr>\n",
       "  <th>housing_median_age</th> <td> 1105.9748</td> <td>   52.234</td> <td>   21.173</td> <td> 0.000</td> <td> 1003.589</td> <td> 1208.360</td>\n",
       "</tr>\n",
       "<tr>\n",
       "  <th>total_rooms</th>        <td>   -5.8723</td> <td>    0.949</td> <td>   -6.186</td> <td> 0.000</td> <td>   -7.733</td> <td>   -4.012</td>\n",
       "</tr>\n",
       "<tr>\n",
       "  <th>total_bedrooms</th>     <td>  105.7214</td> <td>    8.274</td> <td>   12.778</td> <td> 0.000</td> <td>   89.504</td> <td>  121.939</td>\n",
       "</tr>\n",
       "<tr>\n",
       "  <th>population</th>         <td>  -37.3270</td> <td>    1.253</td> <td>  -29.780</td> <td> 0.000</td> <td>  -39.784</td> <td>  -34.870</td>\n",
       "</tr>\n",
       "<tr>\n",
       "  <th>households</th>         <td>   42.3132</td> <td>    9.018</td> <td>    4.692</td> <td> 0.000</td> <td>   24.637</td> <td>   59.989</td>\n",
       "</tr>\n",
       "<tr>\n",
       "  <th>median_income</th>      <td> 3.927e+04</td> <td>  401.730</td> <td>   97.751</td> <td> 0.000</td> <td> 3.85e+04</td> <td> 4.01e+04</td>\n",
       "</tr>\n",
       "<tr>\n",
       "  <th><1H OCEAN</th>          <td>-2.254e+06</td> <td> 1.04e+05</td> <td>  -21.641</td> <td> 0.000</td> <td>-2.46e+06</td> <td>-2.05e+06</td>\n",
       "</tr>\n",
       "<tr>\n",
       "  <th>INLAND</th>             <td>-2.295e+06</td> <td> 1.03e+05</td> <td>  -22.297</td> <td> 0.000</td> <td> -2.5e+06</td> <td>-2.09e+06</td>\n",
       "</tr>\n",
       "<tr>\n",
       "  <th>ISLAND</th>             <td>-2.118e+06</td> <td> 1.11e+05</td> <td>  -19.156</td> <td> 0.000</td> <td>-2.33e+06</td> <td> -1.9e+06</td>\n",
       "</tr>\n",
       "<tr>\n",
       "  <th>NEAR BAY</th>           <td> -2.26e+06</td> <td> 1.05e+05</td> <td>  -21.591</td> <td> 0.000</td> <td>-2.47e+06</td> <td>-2.05e+06</td>\n",
       "</tr>\n",
       "<tr>\n",
       "  <th>NEAR OCEAN</th>         <td>-2.251e+06</td> <td> 1.05e+05</td> <td>  -21.525</td> <td> 0.000</td> <td>-2.46e+06</td> <td>-2.05e+06</td>\n",
       "</tr>\n",
       "</table>\n",
       "<table class=\"simpletable\">\n",
       "<tr>\n",
       "  <th>Omnibus:</th>       <td>3686.550</td> <th>  Durbin-Watson:     </th> <td>   1.972</td> \n",
       "</tr>\n",
       "<tr>\n",
       "  <th>Prob(Omnibus):</th>  <td> 0.000</td>  <th>  Jarque-Bera (JB):  </th> <td>15157.085</td>\n",
       "</tr>\n",
       "<tr>\n",
       "  <th>Skew:</th>           <td> 1.208</td>  <th>  Prob(JB):          </th> <td>    0.00</td> \n",
       "</tr>\n",
       "<tr>\n",
       "  <th>Kurtosis:</th>       <td> 7.398</td>  <th>  Cond. No.          </th> <td>1.61e+06</td> \n",
       "</tr>\n",
       "</table>"
      ],
      "text/plain": [
       "<class 'statsmodels.iolib.summary.Summary'>\n",
       "\"\"\"\n",
       "                            OLS Regression Results                            \n",
       "==============================================================================\n",
       "Dep. Variable:     median_house_value   R-squared:                       0.647\n",
       "Model:                            OLS   Adj. R-squared:                  0.647\n",
       "Method:                 Least Squares   F-statistic:                     2205.\n",
       "Date:                Wed, 29 Aug 2018   Prob (F-statistic):               0.00\n",
       "Time:                        17:54:25   Log-Likelihood:            -1.8143e+05\n",
       "No. Observations:               14448   AIC:                         3.629e+05\n",
       "Df Residuals:                   14435   BIC:                         3.630e+05\n",
       "Df Model:                          12                                         \n",
       "Covariance Type:            nonrobust                                         \n",
       "======================================================================================\n",
       "                         coef    std err          t      P>|t|      [0.025      0.975]\n",
       "--------------------------------------------------------------------------------------\n",
       "longitude           -2.65e+04   1205.776    -21.979      0.000   -2.89e+04   -2.41e+04\n",
       "latitude           -2.492e+04   1187.339    -20.984      0.000   -2.72e+04   -2.26e+04\n",
       "housing_median_age  1105.9748     52.234     21.173      0.000    1003.589    1208.360\n",
       "total_rooms           -5.8723      0.949     -6.186      0.000      -7.733      -4.012\n",
       "total_bedrooms       105.7214      8.274     12.778      0.000      89.504     121.939\n",
       "population           -37.3270      1.253    -29.780      0.000     -39.784     -34.870\n",
       "households            42.3132      9.018      4.692      0.000      24.637      59.989\n",
       "median_income       3.927e+04    401.730     97.751      0.000    3.85e+04    4.01e+04\n",
       "<1H OCEAN          -2.254e+06   1.04e+05    -21.641      0.000   -2.46e+06   -2.05e+06\n",
       "INLAND             -2.295e+06   1.03e+05    -22.297      0.000    -2.5e+06   -2.09e+06\n",
       "ISLAND             -2.118e+06   1.11e+05    -19.156      0.000   -2.33e+06    -1.9e+06\n",
       "NEAR BAY            -2.26e+06   1.05e+05    -21.591      0.000   -2.47e+06   -2.05e+06\n",
       "NEAR OCEAN         -2.251e+06   1.05e+05    -21.525      0.000   -2.46e+06   -2.05e+06\n",
       "==============================================================================\n",
       "Omnibus:                     3686.550   Durbin-Watson:                   1.972\n",
       "Prob(Omnibus):                  0.000   Jarque-Bera (JB):            15157.085\n",
       "Skew:                           1.208   Prob(JB):                         0.00\n",
       "Kurtosis:                       7.398   Cond. No.                     1.61e+06\n",
       "==============================================================================\n",
       "\n",
       "Warnings:\n",
       "[1] Standard Errors assume that the covariance matrix of the errors is correctly specified.\n",
       "[2] The condition number is large, 1.61e+06. This might indicate that there are\n",
       "strong multicollinearity or other numerical problems.\n",
       "\"\"\""
      ]
     },
     "execution_count": 8,
     "metadata": {},
     "output_type": "execute_result"
    }
   ],
   "source": [
    "import statsmodels.api as sm\n",
    "\n",
    "model = sm.OLS(y_train, X_train).fit()\n",
    "print('Mean Absolute Error (MAE): %.2f' % mae)\n",
    "print('Mean Squared Error (MSE): %.2f' % mse)\n",
    "print('Root Mean Squared Error (RMSE): %.2f' % rmse)\n",
    "\n",
    "model.summary()"
   ]
  },
  {
   "cell_type": "markdown",
   "metadata": {},
   "source": [
    "Bu tabloyu nasıl okuyacağımıza 'total_bedrooms' yatak odası üzerinden bakalım. Modele göre evdeki yatak odası sayısı bir arttığında bölgedeki medyan ev fiyatı 105.72 dolar artıyor.\n",
    "\n",
    "Ayrıca tablodaki R-squared değeri de önemli, anlamı: Modelin y değişkenindeki varyansın ne kadarını açıkladığı, bizim modelimizde %67'sini açıklıyor."
   ]
  },
  {
   "cell_type": "markdown",
   "metadata": {},
   "source": [
    "Bu çalışma standart bir veri bilimi projesinin en basit hali olarak düşünülebilir. \n",
    "\n",
    "Yaptıklarımızı tekrarlayalım:\n",
    "\n",
    "- Veri tiplerini kontrol etme/düzeltme.\n",
    "- Açıklayıcı veri analizi ve görselleştirme.\n",
    "- Eksik verileri tahmin etme/veri atama.\n",
    "- Veri setini eğitim ve test veri-setlerine ayırma.\n",
    "- Modeli eğitme ve test verisi üzerinde tahmin yapma.\n",
    "- Gerçek değerlerle tahmin edilen değerler arasındaki ilişkiye bakma.\n",
    "- Tahmin edilen değerlerle hata terimleri arasındaki ilişkiye bakma.\n",
    "- Regresyon başarı metriklerine bakma."
   ]
  }
 ],
 "metadata": {
  "kernelspec": {
   "display_name": "Python 3",
   "language": "python",
   "name": "python3"
  },
  "language_info": {
   "codemirror_mode": {
    "name": "ipython",
    "version": 3
   },
   "file_extension": ".py",
   "mimetype": "text/x-python",
   "name": "python",
   "nbconvert_exporter": "python",
   "pygments_lexer": "ipython3",
   "version": "3.6.4"
  }
 },
 "nbformat": 4,
 "nbformat_minor": 2
}
