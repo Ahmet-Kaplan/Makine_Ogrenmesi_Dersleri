{
 "cells": [
  {
   "cell_type": "markdown",
   "metadata": {},
   "source": [
    "4.haftadayız ve şimdiye kadar makine öğrenmesi adına en yoğun ders bu olacak. Kaggle anket sonuçlarını incelediğimiz yazıda söylediğim gibi piyasada en çok kulanılan yöntem hala Lojistik Regresyon, tanımı şöyle:\n",
    "\n",
    "# Lojistik Regresyon (Logistic Regression)\n",
    "\n",
    "“In statistics, logistic regression, or logit regression, or logit model[1] is a regression model where the dependent variable (DV) is categorical.”\n",
    "\n",
    "Bağımlı değişkenimizin, modelini kurmak istediğimiz, tahmin etmek istediğimiz değişkenimizin tipi kategori ise Logistik Regresyon tekniğini kullanırız. Örneğin bir kişinin hasta olup olmayacağı (0–1), bir futbol maçının sonucu (0–1–2), yeni doğacak bebeğin cinsiyeti (E:0, K:1) gibi bağımlı değişkenlerimizi modellemek istiyorsak lineer regresyon bize yardım edemez.\n",
    "\n",
    "Seyrek matris (Sparse matris)\n",
    "\n",
    "Seyrek matrisler (Sparse matris), matristeki veri tutulan kısmın tüm matrise oranının küçük olduğu özel matrislerdir.\n",
    "\n",
    "Bizim örneğimizde 336358x48371'lik bir matriste (16.2 milyar) değer varken sadece 3195430 değerde veri tutuluyor.\n",
    "\n",
    "Seyrek matrislerin avantajı daha az yer kapladığı için verilerin hafızada kolayca tutulması.\n",
    "\n",
    "Eğer bu derse ciddi bir mesai ayırırsanız Loijstik Regresyona ve seyrek matrislere ek olarak aşağıdakileri öğreneceksiniz.\n",
    "\n",
    "-Nasıl yeni öznitelikler oluşturacağınızı\n",
    "\n",
    "-Onlar arasından en iyilerini nasıl seçeceğinizi\n",
    "\n",
    "-Niye ölçeklendirmeye (scaling) ihtiyaç duyduğunuzu\n",
    "\n",
    "-Nasıl hiper-parametre seçimi yapacağınızı\n",
    "\n",
    "-Nasıl Kaggle yarışmalarına katılacağınızı\n",
    "\n",
    "Eğer hazırsak başlayabiliriz."
   ]
  },
  {
   "cell_type": "code",
   "execution_count": 1,
   "metadata": {},
   "outputs": [],
   "source": [
    "import warnings\n",
    "warnings.filterwarnings('ignore')\n",
    "\n",
    "%matplotlib inline\n",
    "from matplotlib import pyplot as plt\n",
    "import seaborn as sns\n",
    "\n",
    "import pickle\n",
    "import numpy as np\n",
    "import pandas as pd\n",
    "from scipy.sparse import csr_matrix\n",
    "from scipy.sparse import hstack\n",
    "from sklearn.preprocessing import StandardScaler\n",
    "from sklearn.metrics import roc_auc_score\n",
    "from sklearn.linear_model import LogisticRegression"
   ]
  },
  {
   "cell_type": "markdown",
   "metadata": {},
   "source": [
    "Probleme Yaklaşım\n",
    "\n",
    "Kişilerin internetteki davranışlarını analiz ederek izinsiz giriş problemlerini (intrusion detection problem) çözeceğiz. Bu problem veri analizi ve davranışsal psikolojinin kesiştiği karmaşık ve ilginç bir alanın konusu.\n",
    "\n",
    "Yarışmada da benzer bir problemi çözeceğiz. Algoritmamız belirli bir kişi tarafından ziyaret edilen web sitelerini analiz edecek ve bu kişinin Ali mi yoksa izinsiz giren kişi mi olduğunu tahmin edecek. Bu tahminlerin başarı oranı için ROC AUC metriğini hesaplayacağız.\n",
    "\n",
    "1.Veri İndirme ve Dönüşüm İşlemleri\n",
    "\n",
    "Eğer kayıtlı değilseniz buradan Kaggle’a erişebilirsiniz. Sonrasında yarışma sayfasına buradan girip veriyi lokalinize indirebilirsiniz."
   ]
  },
  {
   "cell_type": "code",
   "execution_count": 2,
   "metadata": {
    "scrolled": true
   },
   "outputs": [
    {
     "data": {
      "text/html": [
       "<div>\n",
       "<style scoped>\n",
       "    .dataframe tbody tr th:only-of-type {\n",
       "        vertical-align: middle;\n",
       "    }\n",
       "\n",
       "    .dataframe tbody tr th {\n",
       "        vertical-align: top;\n",
       "    }\n",
       "\n",
       "    .dataframe thead th {\n",
       "        text-align: right;\n",
       "    }\n",
       "</style>\n",
       "<table border=\"1\" class=\"dataframe\">\n",
       "  <thead>\n",
       "    <tr style=\"text-align: right;\">\n",
       "      <th></th>\n",
       "      <th>site1</th>\n",
       "      <th>time1</th>\n",
       "      <th>site2</th>\n",
       "      <th>time2</th>\n",
       "      <th>site3</th>\n",
       "      <th>time3</th>\n",
       "      <th>site4</th>\n",
       "      <th>time4</th>\n",
       "      <th>site5</th>\n",
       "      <th>time5</th>\n",
       "      <th>...</th>\n",
       "      <th>time6</th>\n",
       "      <th>site7</th>\n",
       "      <th>time7</th>\n",
       "      <th>site8</th>\n",
       "      <th>time8</th>\n",
       "      <th>site9</th>\n",
       "      <th>time9</th>\n",
       "      <th>site10</th>\n",
       "      <th>time10</th>\n",
       "      <th>target</th>\n",
       "    </tr>\n",
       "    <tr>\n",
       "      <th>session_id</th>\n",
       "      <th></th>\n",
       "      <th></th>\n",
       "      <th></th>\n",
       "      <th></th>\n",
       "      <th></th>\n",
       "      <th></th>\n",
       "      <th></th>\n",
       "      <th></th>\n",
       "      <th></th>\n",
       "      <th></th>\n",
       "      <th></th>\n",
       "      <th></th>\n",
       "      <th></th>\n",
       "      <th></th>\n",
       "      <th></th>\n",
       "      <th></th>\n",
       "      <th></th>\n",
       "      <th></th>\n",
       "      <th></th>\n",
       "      <th></th>\n",
       "      <th></th>\n",
       "    </tr>\n",
       "  </thead>\n",
       "  <tbody>\n",
       "    <tr>\n",
       "      <th>21669</th>\n",
       "      <td>56</td>\n",
       "      <td>2013-01-12 08:05:57</td>\n",
       "      <td>55.0</td>\n",
       "      <td>2013-01-12 08:05:57</td>\n",
       "      <td>NaN</td>\n",
       "      <td>NaT</td>\n",
       "      <td>NaN</td>\n",
       "      <td>NaT</td>\n",
       "      <td>NaN</td>\n",
       "      <td>NaT</td>\n",
       "      <td>...</td>\n",
       "      <td>NaT</td>\n",
       "      <td>NaN</td>\n",
       "      <td>NaT</td>\n",
       "      <td>NaN</td>\n",
       "      <td>NaT</td>\n",
       "      <td>NaN</td>\n",
       "      <td>NaT</td>\n",
       "      <td>NaN</td>\n",
       "      <td>NaT</td>\n",
       "      <td>0</td>\n",
       "    </tr>\n",
       "    <tr>\n",
       "      <th>54843</th>\n",
       "      <td>56</td>\n",
       "      <td>2013-01-12 08:37:23</td>\n",
       "      <td>55.0</td>\n",
       "      <td>2013-01-12 08:37:23</td>\n",
       "      <td>56.0</td>\n",
       "      <td>2013-01-12 09:07:07</td>\n",
       "      <td>55.0</td>\n",
       "      <td>2013-01-12 09:07:09</td>\n",
       "      <td>NaN</td>\n",
       "      <td>NaT</td>\n",
       "      <td>...</td>\n",
       "      <td>NaT</td>\n",
       "      <td>NaN</td>\n",
       "      <td>NaT</td>\n",
       "      <td>NaN</td>\n",
       "      <td>NaT</td>\n",
       "      <td>NaN</td>\n",
       "      <td>NaT</td>\n",
       "      <td>NaN</td>\n",
       "      <td>NaT</td>\n",
       "      <td>0</td>\n",
       "    </tr>\n",
       "    <tr>\n",
       "      <th>77292</th>\n",
       "      <td>946</td>\n",
       "      <td>2013-01-12 08:50:13</td>\n",
       "      <td>946.0</td>\n",
       "      <td>2013-01-12 08:50:14</td>\n",
       "      <td>951.0</td>\n",
       "      <td>2013-01-12 08:50:15</td>\n",
       "      <td>946.0</td>\n",
       "      <td>2013-01-12 08:50:15</td>\n",
       "      <td>946.0</td>\n",
       "      <td>2013-01-12 08:50:16</td>\n",
       "      <td>...</td>\n",
       "      <td>2013-01-12 08:50:16</td>\n",
       "      <td>948.0</td>\n",
       "      <td>2013-01-12 08:50:16</td>\n",
       "      <td>784.0</td>\n",
       "      <td>2013-01-12 08:50:16</td>\n",
       "      <td>949.0</td>\n",
       "      <td>2013-01-12 08:50:17</td>\n",
       "      <td>946.0</td>\n",
       "      <td>2013-01-12 08:50:17</td>\n",
       "      <td>0</td>\n",
       "    </tr>\n",
       "    <tr>\n",
       "      <th>114021</th>\n",
       "      <td>945</td>\n",
       "      <td>2013-01-12 08:50:17</td>\n",
       "      <td>948.0</td>\n",
       "      <td>2013-01-12 08:50:17</td>\n",
       "      <td>949.0</td>\n",
       "      <td>2013-01-12 08:50:18</td>\n",
       "      <td>948.0</td>\n",
       "      <td>2013-01-12 08:50:18</td>\n",
       "      <td>945.0</td>\n",
       "      <td>2013-01-12 08:50:18</td>\n",
       "      <td>...</td>\n",
       "      <td>2013-01-12 08:50:18</td>\n",
       "      <td>947.0</td>\n",
       "      <td>2013-01-12 08:50:19</td>\n",
       "      <td>945.0</td>\n",
       "      <td>2013-01-12 08:50:19</td>\n",
       "      <td>946.0</td>\n",
       "      <td>2013-01-12 08:50:19</td>\n",
       "      <td>946.0</td>\n",
       "      <td>2013-01-12 08:50:20</td>\n",
       "      <td>0</td>\n",
       "    </tr>\n",
       "    <tr>\n",
       "      <th>146670</th>\n",
       "      <td>947</td>\n",
       "      <td>2013-01-12 08:50:20</td>\n",
       "      <td>950.0</td>\n",
       "      <td>2013-01-12 08:50:20</td>\n",
       "      <td>948.0</td>\n",
       "      <td>2013-01-12 08:50:20</td>\n",
       "      <td>947.0</td>\n",
       "      <td>2013-01-12 08:50:21</td>\n",
       "      <td>950.0</td>\n",
       "      <td>2013-01-12 08:50:21</td>\n",
       "      <td>...</td>\n",
       "      <td>2013-01-12 08:50:21</td>\n",
       "      <td>946.0</td>\n",
       "      <td>2013-01-12 08:50:21</td>\n",
       "      <td>951.0</td>\n",
       "      <td>2013-01-12 08:50:22</td>\n",
       "      <td>946.0</td>\n",
       "      <td>2013-01-12 08:50:22</td>\n",
       "      <td>947.0</td>\n",
       "      <td>2013-01-12 08:50:22</td>\n",
       "      <td>0</td>\n",
       "    </tr>\n",
       "  </tbody>\n",
       "</table>\n",
       "<p>5 rows × 21 columns</p>\n",
       "</div>"
      ],
      "text/plain": [
       "            site1               time1  site2               time2  site3  \\\n",
       "session_id                                                                \n",
       "21669          56 2013-01-12 08:05:57   55.0 2013-01-12 08:05:57    NaN   \n",
       "54843          56 2013-01-12 08:37:23   55.0 2013-01-12 08:37:23   56.0   \n",
       "77292         946 2013-01-12 08:50:13  946.0 2013-01-12 08:50:14  951.0   \n",
       "114021        945 2013-01-12 08:50:17  948.0 2013-01-12 08:50:17  949.0   \n",
       "146670        947 2013-01-12 08:50:20  950.0 2013-01-12 08:50:20  948.0   \n",
       "\n",
       "                         time3  site4               time4  site5  \\\n",
       "session_id                                                         \n",
       "21669                      NaT    NaN                 NaT    NaN   \n",
       "54843      2013-01-12 09:07:07   55.0 2013-01-12 09:07:09    NaN   \n",
       "77292      2013-01-12 08:50:15  946.0 2013-01-12 08:50:15  946.0   \n",
       "114021     2013-01-12 08:50:18  948.0 2013-01-12 08:50:18  945.0   \n",
       "146670     2013-01-12 08:50:20  947.0 2013-01-12 08:50:21  950.0   \n",
       "\n",
       "                         time5  ...                 time6  site7  \\\n",
       "session_id                      ...                                \n",
       "21669                      NaT  ...                   NaT    NaN   \n",
       "54843                      NaT  ...                   NaT    NaN   \n",
       "77292      2013-01-12 08:50:16  ...   2013-01-12 08:50:16  948.0   \n",
       "114021     2013-01-12 08:50:18  ...   2013-01-12 08:50:18  947.0   \n",
       "146670     2013-01-12 08:50:21  ...   2013-01-12 08:50:21  946.0   \n",
       "\n",
       "                         time7  site8               time8  site9  \\\n",
       "session_id                                                         \n",
       "21669                      NaT    NaN                 NaT    NaN   \n",
       "54843                      NaT    NaN                 NaT    NaN   \n",
       "77292      2013-01-12 08:50:16  784.0 2013-01-12 08:50:16  949.0   \n",
       "114021     2013-01-12 08:50:19  945.0 2013-01-12 08:50:19  946.0   \n",
       "146670     2013-01-12 08:50:21  951.0 2013-01-12 08:50:22  946.0   \n",
       "\n",
       "                         time9 site10              time10 target  \n",
       "session_id                                                        \n",
       "21669                      NaT    NaN                 NaT      0  \n",
       "54843                      NaT    NaN                 NaT      0  \n",
       "77292      2013-01-12 08:50:17  946.0 2013-01-12 08:50:17      0  \n",
       "114021     2013-01-12 08:50:19  946.0 2013-01-12 08:50:20      0  \n",
       "146670     2013-01-12 08:50:22  947.0 2013-01-12 08:50:22      0  \n",
       "\n",
       "[5 rows x 21 columns]"
      ]
     },
     "execution_count": 2,
     "metadata": {},
     "output_type": "execute_result"
    }
   ],
   "source": [
    "#Eğitim ve test verilerimizi çağırıyoruz öncelikle.\n",
    "train_df = pd.read_csv('data/train_intrusion.csv',\n",
    "                       index_col='session_id')\n",
    "test_df = pd.read_csv('data/test_intrusion.csv',\n",
    "                      index_col='session_id')\n",
    "\n",
    "#time1, ....., time10 sütunun tipini zamansal analizler için datetime yapıyoruz. \n",
    "#Aşağıdaki ilk gösterim daha önce alışık olmadığınız bir gösterim olabilir %s yerine range'de atanan sayıların geldiği bir seri \n",
    "#oluşturuluyor. apply() fonksiyonu geçen derslerden bildiğimiz bir fonksiyon, pd.to_datetime dönüşümünü bütün time sütunları için\n",
    "#yapmamıza olanak sağlıyor.\n",
    "\n",
    "times = ['time%s' % i for i in range(1, 11)]\n",
    "train_df[times] = train_df[times].apply(pd.to_datetime)\n",
    "test_df[times] = test_df[times].apply(pd.to_datetime)\n",
    "#Zamana göre sıralıyoruz.\n",
    "train_df = train_df.sort_values(by='time1')\n",
    "\n",
    "train_df.head()"
   ]
  },
  {
   "cell_type": "markdown",
   "metadata": {},
   "source": [
    "Eğitim setimizdeki öznitelikler aşağıdaki gibi:\n",
    "\n",
    " - site1 — oturumda ilk ziyaret edilen web sitesi\n",
    " - time1 — oturumda ilk ziyaret edilen web sitesinde ne kadar zaman geçirildiği (sn)\n",
    " - …\n",
    " - …\n",
    " - …\n",
    " - site10 — oturumda onuncu ziyaret edilen web sitesi\n",
    " - time10 — oturumda onuncu ziyaret edilen web sitesinde ne kadar zaman geçirildiği (sn)\n",
    " - target — hedef değişkenimiz hesapta Alice varsa 1 başkası varsa 0\n",
    "\n",
    "Kullanıcı oturumları eğer oturum yarım saatten fazla sürdüyse veya ondan fazla web sitesine giriş olmuşsa kesiliyor ve o haliyle kaydediliyor.\n",
    "\n",
    "Tablodaki boş değerler(NaN) 10'dan az web sitesine girildiği anlamına geliyor. Bu boş değerleri 0'la değiştirip sütunların tiplerini ‘integer’ yapıyoruz."
   ]
  },
  {
   "cell_type": "code",
   "execution_count": 5,
   "metadata": {},
   "outputs": [
    {
     "name": "stdout",
     "output_type": "stream",
     "text": [
      "Websites total: 48371\n"
     ]
    },
    {
     "data": {
      "text/html": [
       "<div>\n",
       "<style scoped>\n",
       "    .dataframe tbody tr th:only-of-type {\n",
       "        vertical-align: middle;\n",
       "    }\n",
       "\n",
       "    .dataframe tbody tr th {\n",
       "        vertical-align: top;\n",
       "    }\n",
       "\n",
       "    .dataframe thead th {\n",
       "        text-align: right;\n",
       "    }\n",
       "</style>\n",
       "<table border=\"1\" class=\"dataframe\">\n",
       "  <thead>\n",
       "    <tr style=\"text-align: right;\">\n",
       "      <th></th>\n",
       "      <th>site</th>\n",
       "    </tr>\n",
       "  </thead>\n",
       "  <tbody>\n",
       "    <tr>\n",
       "      <th>25075</th>\n",
       "      <td>www.abmecatronique.com</td>\n",
       "    </tr>\n",
       "    <tr>\n",
       "      <th>13997</th>\n",
       "      <td>groups.live.com</td>\n",
       "    </tr>\n",
       "    <tr>\n",
       "      <th>42436</th>\n",
       "      <td>majeureliguefootball.wordpress.com</td>\n",
       "    </tr>\n",
       "    <tr>\n",
       "      <th>30911</th>\n",
       "      <td>cdt46.media.tourinsoft.eu</td>\n",
       "    </tr>\n",
       "    <tr>\n",
       "      <th>8104</th>\n",
       "      <td>www.hdwallpapers.eu</td>\n",
       "    </tr>\n",
       "  </tbody>\n",
       "</table>\n",
       "</div>"
      ],
      "text/plain": [
       "                                     site\n",
       "25075              www.abmecatronique.com\n",
       "13997                     groups.live.com\n",
       "42436  majeureliguefootball.wordpress.com\n",
       "30911           cdt46.media.tourinsoft.eu\n",
       "8104                  www.hdwallpapers.eu"
      ]
     },
     "execution_count": 5,
     "metadata": {},
     "output_type": "execute_result"
    }
   ],
   "source": [
    "#Yukarıda yaptığımız dönüşümün bir benzerini burada yapıyoruz. \n",
    "#Yine sitelerden oluşan bir sites dizisi oluşturduk. Sonrasında \n",
    "#sadece sites sütunları üzerindeki NaN değerleri 0 ile değiştiriyoruz \n",
    "#ve öz nitelğin tipini integer yapıyoruz.\n",
    "\n",
    "sites = ['site%s' % i for i in range(1, 11)]\n",
    "train_df[sites] = train_df[sites].fillna(0).astype('int')\n",
    "test_df[sites] = test_df[sites].fillna(0).astype('int')\n",
    "\n",
    "# websitelerin bulunduğu veriyi de açıyoruz.\n",
    "with open(r\"data/site_dic.pkl\", \"rb\") as input_file:\n",
    "    site_dict = pickle.load(input_file)\n",
    "\n",
    "# sonrasında bir data frame oluşturmamız gerekiyor.\n",
    "sites_dict = pd.DataFrame(list(site_dict.keys()), \n",
    "                          index=list(site_dict.values()), columns=['site'])\n",
    "print(u'Websites total:', sites_dict.shape[0])\n",
    "sites_dict.head()"
   ]
  },
  {
   "cell_type": "markdown",
   "metadata": {},
   "source": [
    "1.1. Eğitim ve Test veri setlerinin boyutları nedir?\n",
    "\n",
    "    (82797, 20) and (253561, 20)\n",
    "    (82797, 20) and (253561, 21)\n",
    "    (253561, 21) and (82797, 20)\n",
    "    (253561, 20) and (82797, 20)"
   ]
  },
  {
   "cell_type": "code",
   "execution_count": 6,
   "metadata": {},
   "outputs": [
    {
     "name": "stdout",
     "output_type": "stream",
     "text": [
      "Eğitim veri setinin boyutu (253561, 21) \n",
      "Test veri setinin boyutu (82797, 20) \n"
     ]
    }
   ],
   "source": [
    "print(\"Eğitim veri setinin boyutu {0} \".format(train_df.shape))\n",
    "print(\"Test veri setinin boyutu {0} \".format(test_df.shape))"
   ]
  },
  {
   "cell_type": "markdown",
   "metadata": {},
   "source": [
    "2. Açıklayıcı Veri Analizi\n",
    "2.1. Ali'nin en çok ziyaret ettiği sitelerin türü nedir?\n",
    "\n",
    "   - videohostings\n",
    "   - social networks\n",
    "   - torrent trackers\n",
    "   - news\n",
    "\n",
    "#Eğitim setindeki en çok ziyaret edilen siteleri bulmak için \n",
    "yukarıdaki sorgu işimize yaramayacaktır. \n",
    "#train_df[sites]'ten itibaren bütün adımları tek tek uygulamınızı\n",
    "tavsiye ederim."
   ]
  },
  {
   "cell_type": "code",
   "execution_count": 7,
   "metadata": {},
   "outputs": [
    {
     "name": "stdout",
     "output_type": "stream",
     "text": [
      "21     123776\n",
      "0      122730\n",
      "23      87619\n",
      "782     77055\n",
      "22      58258\n",
      "dtype: int64\n"
     ]
    },
    {
     "data": {
      "text/html": [
       "<div>\n",
       "<style scoped>\n",
       "    .dataframe tbody tr th:only-of-type {\n",
       "        vertical-align: middle;\n",
       "    }\n",
       "\n",
       "    .dataframe tbody tr th {\n",
       "        vertical-align: top;\n",
       "    }\n",
       "\n",
       "    .dataframe thead th {\n",
       "        text-align: right;\n",
       "    }\n",
       "</style>\n",
       "<table border=\"1\" class=\"dataframe\">\n",
       "  <thead>\n",
       "    <tr style=\"text-align: right;\">\n",
       "      <th></th>\n",
       "      <th>site</th>\n",
       "    </tr>\n",
       "  </thead>\n",
       "  <tbody>\n",
       "    <tr>\n",
       "      <th>21</th>\n",
       "      <td>www.google.fr</td>\n",
       "    </tr>\n",
       "    <tr>\n",
       "      <th>0</th>\n",
       "      <td>NaN</td>\n",
       "    </tr>\n",
       "    <tr>\n",
       "      <th>23</th>\n",
       "      <td>www.google.com</td>\n",
       "    </tr>\n",
       "    <tr>\n",
       "      <th>782</th>\n",
       "      <td>annotathon.org</td>\n",
       "    </tr>\n",
       "    <tr>\n",
       "      <th>22</th>\n",
       "      <td>apis.google.com</td>\n",
       "    </tr>\n",
       "  </tbody>\n",
       "</table>\n",
       "</div>"
      ],
      "text/plain": [
       "                site\n",
       "21     www.google.fr\n",
       "0                NaN\n",
       "23    www.google.com\n",
       "782   annotathon.org\n",
       "22   apis.google.com"
      ]
     },
     "execution_count": 7,
     "metadata": {},
     "output_type": "execute_result"
    }
   ],
   "source": [
    "top_sites = pd.Series(train_df[sites].fillna(0).values.flatten()).\\\n",
    "  value_counts().sort_values(ascending=False).head(5)\n",
    "print(top_sites)\n",
    "sites_dict.loc[top_sites.index.tolist()]"
   ]
  },
  {
   "cell_type": "code",
   "execution_count": 8,
   "metadata": {},
   "outputs": [
    {
     "data": {
      "text/html": [
       "<div>\n",
       "<style scoped>\n",
       "    .dataframe tbody tr th:only-of-type {\n",
       "        vertical-align: middle;\n",
       "    }\n",
       "\n",
       "    .dataframe tbody tr th {\n",
       "        vertical-align: top;\n",
       "    }\n",
       "\n",
       "    .dataframe thead th {\n",
       "        text-align: right;\n",
       "    }\n",
       "</style>\n",
       "<table border=\"1\" class=\"dataframe\">\n",
       "  <thead>\n",
       "    <tr style=\"text-align: right;\">\n",
       "      <th></th>\n",
       "      <th>target</th>\n",
       "      <th>min</th>\n",
       "      <th>max</th>\n",
       "      <th>seconds</th>\n",
       "    </tr>\n",
       "    <tr>\n",
       "      <th>session_id</th>\n",
       "      <th></th>\n",
       "      <th></th>\n",
       "      <th></th>\n",
       "      <th></th>\n",
       "    </tr>\n",
       "  </thead>\n",
       "  <tbody>\n",
       "    <tr>\n",
       "      <th>21669</th>\n",
       "      <td>0</td>\n",
       "      <td>2013-01-12 08:05:57</td>\n",
       "      <td>2013-01-12 08:05:57</td>\n",
       "      <td>0.0</td>\n",
       "    </tr>\n",
       "    <tr>\n",
       "      <th>54843</th>\n",
       "      <td>0</td>\n",
       "      <td>2013-01-12 08:37:23</td>\n",
       "      <td>2013-01-12 09:07:09</td>\n",
       "      <td>1786.0</td>\n",
       "    </tr>\n",
       "    <tr>\n",
       "      <th>77292</th>\n",
       "      <td>0</td>\n",
       "      <td>2013-01-12 08:50:13</td>\n",
       "      <td>2013-01-12 08:50:17</td>\n",
       "      <td>4.0</td>\n",
       "    </tr>\n",
       "    <tr>\n",
       "      <th>114021</th>\n",
       "      <td>0</td>\n",
       "      <td>2013-01-12 08:50:17</td>\n",
       "      <td>2013-01-12 08:50:20</td>\n",
       "      <td>3.0</td>\n",
       "    </tr>\n",
       "    <tr>\n",
       "      <th>146670</th>\n",
       "      <td>0</td>\n",
       "      <td>2013-01-12 08:50:20</td>\n",
       "      <td>2013-01-12 08:50:22</td>\n",
       "      <td>2.0</td>\n",
       "    </tr>\n",
       "  </tbody>\n",
       "</table>\n",
       "</div>"
      ],
      "text/plain": [
       "            target                 min                 max  seconds\n",
       "session_id                                                         \n",
       "21669            0 2013-01-12 08:05:57 2013-01-12 08:05:57      0.0\n",
       "54843            0 2013-01-12 08:37:23 2013-01-12 09:07:09   1786.0\n",
       "77292            0 2013-01-12 08:50:13 2013-01-12 08:50:17      4.0\n",
       "114021           0 2013-01-12 08:50:17 2013-01-12 08:50:20      3.0\n",
       "146670           0 2013-01-12 08:50:20 2013-01-12 08:50:22      2.0"
      ]
     },
     "execution_count": 8,
     "metadata": {},
     "output_type": "execute_result"
    }
   ],
   "source": [
    "# Eğitim setimizde her bir sitede ne kadar zaman geçirdiğimiz vardı. \n",
    "#Şimdi ise her bir oturumda ne kadar zaman geçirildiğini\n",
    "#bulmak için yeni bir data frame oluşturuyoruz.\n",
    "time_df = pd.DataFrame(index=train_df.index)\n",
    "time_df['target'] = train_df['target']\n",
    "\n",
    "time_df['min'] = train_df[times].min(axis=1)\n",
    "time_df['max'] = train_df[times].max(axis=1)\n",
    "\n",
    "#np.timedelta64 içindeki 's' saniyeyi gösteriyor, dakika cinsinden \n",
    "#hesap yapmak istersek 'm'(minute) yazabiliriz.\n",
    "time_df['seconds'] = (time_df['max'] - time_df['min']) / np.timedelta64(1, 's')\n",
    "\n",
    "time_df.head()"
   ]
  },
  {
   "cell_type": "markdown",
   "metadata": {},
   "source": [
    "2.2. Aşağıdaki ifadelerden doğru olanları seçiniz:\n",
    "\n",
    "- Ali'nin ortalama oturum süresi diğer kullanıcıların ortalama oturum süresinden kısadır.\n",
    "- Veri setindeki oturumların %1'inden fazlası Ali'ye aittir.\n",
    "- Ali'nin ve diğer kullanıcıların oturumlarda harcadıkları minimum ve maksimum süre yaklaşık olarak aynıdır.\n",
    "- Bütün kullanıcılar için ortalama oturum süresinin değişkenliği aynıdır.\n",
    "- Ali'nin %25'lik quartile değeri 40 saniyeye eşit veya fazladır.\n"
   ]
  },
  {
   "cell_type": "code",
   "execution_count": 9,
   "metadata": {},
   "outputs": [
    {
     "name": "stdout",
     "output_type": "stream",
     "text": [
      "True\n",
      "False\n",
      "0.0\n",
      "0.0\n",
      "1763.0\n",
      "1800.0\n",
      "295.7811587477903\n",
      "False\n"
     ]
    }
   ],
   "source": [
    "print(time_df[time_df['target'] == 1].seconds.mean() < time_df[time_df['target'] == 0].seconds.mean())\n",
    "print(len(time_df[time_df['target'] == 1]) / len(time_df) > 0.01)\n",
    "print(time_df[time_df['target'] == 1].seconds.min())\n",
    "print(time_df[time_df['target'] == 0].seconds.min())\n",
    "print(time_df[time_df['target'] == 1].seconds.max())\n",
    "print(time_df[time_df['target'] == 0].seconds.max())\n",
    "print(np.std(time_df.seconds, axis=0))\n",
    "print(time_df[time_df['target'] == 1].seconds.quantile(0.25) > 40)"
   ]
  },
  {
   "cell_type": "code",
   "execution_count": 10,
   "metadata": {},
   "outputs": [
    {
     "data": {
      "text/html": [
       "<div>\n",
       "<style scoped>\n",
       "    .dataframe tbody tr th:only-of-type {\n",
       "        vertical-align: middle;\n",
       "    }\n",
       "\n",
       "    .dataframe tbody tr th {\n",
       "        vertical-align: top;\n",
       "    }\n",
       "\n",
       "    .dataframe thead th {\n",
       "        text-align: right;\n",
       "    }\n",
       "</style>\n",
       "<table border=\"1\" class=\"dataframe\">\n",
       "  <thead>\n",
       "    <tr style=\"text-align: right;\">\n",
       "      <th></th>\n",
       "      <th>site1</th>\n",
       "      <th>site2</th>\n",
       "      <th>site3</th>\n",
       "      <th>site4</th>\n",
       "      <th>site5</th>\n",
       "      <th>site6</th>\n",
       "      <th>site7</th>\n",
       "      <th>site8</th>\n",
       "      <th>site9</th>\n",
       "      <th>site10</th>\n",
       "    </tr>\n",
       "    <tr>\n",
       "      <th>session_id</th>\n",
       "      <th></th>\n",
       "      <th></th>\n",
       "      <th></th>\n",
       "      <th></th>\n",
       "      <th></th>\n",
       "      <th></th>\n",
       "      <th></th>\n",
       "      <th></th>\n",
       "      <th></th>\n",
       "      <th></th>\n",
       "    </tr>\n",
       "  </thead>\n",
       "  <tbody>\n",
       "    <tr>\n",
       "      <th>82793</th>\n",
       "      <td>812</td>\n",
       "      <td>1039</td>\n",
       "      <td>676</td>\n",
       "      <td>0</td>\n",
       "      <td>0</td>\n",
       "      <td>0</td>\n",
       "      <td>0</td>\n",
       "      <td>0</td>\n",
       "      <td>0</td>\n",
       "      <td>0</td>\n",
       "    </tr>\n",
       "    <tr>\n",
       "      <th>82794</th>\n",
       "      <td>300</td>\n",
       "      <td>302</td>\n",
       "      <td>302</td>\n",
       "      <td>300</td>\n",
       "      <td>300</td>\n",
       "      <td>1222</td>\n",
       "      <td>302</td>\n",
       "      <td>1218</td>\n",
       "      <td>1221</td>\n",
       "      <td>1216</td>\n",
       "    </tr>\n",
       "    <tr>\n",
       "      <th>82795</th>\n",
       "      <td>29</td>\n",
       "      <td>33</td>\n",
       "      <td>35</td>\n",
       "      <td>22</td>\n",
       "      <td>37</td>\n",
       "      <td>6779</td>\n",
       "      <td>30</td>\n",
       "      <td>21</td>\n",
       "      <td>23</td>\n",
       "      <td>6780</td>\n",
       "    </tr>\n",
       "    <tr>\n",
       "      <th>82796</th>\n",
       "      <td>5828</td>\n",
       "      <td>23</td>\n",
       "      <td>21</td>\n",
       "      <td>804</td>\n",
       "      <td>21</td>\n",
       "      <td>3350</td>\n",
       "      <td>23</td>\n",
       "      <td>894</td>\n",
       "      <td>21</td>\n",
       "      <td>961</td>\n",
       "    </tr>\n",
       "    <tr>\n",
       "      <th>82797</th>\n",
       "      <td>21</td>\n",
       "      <td>1098</td>\n",
       "      <td>1098</td>\n",
       "      <td>1098</td>\n",
       "      <td>1098</td>\n",
       "      <td>1098</td>\n",
       "      <td>1098</td>\n",
       "      <td>1098</td>\n",
       "      <td>1098</td>\n",
       "      <td>1098</td>\n",
       "    </tr>\n",
       "  </tbody>\n",
       "</table>\n",
       "</div>"
      ],
      "text/plain": [
       "            site1  site2  site3  site4  site5  site6  site7  site8  site9  \\\n",
       "session_id                                                                  \n",
       "82793         812   1039    676      0      0      0      0      0      0   \n",
       "82794         300    302    302    300    300   1222    302   1218   1221   \n",
       "82795          29     33     35     22     37   6779     30     21     23   \n",
       "82796        5828     23     21    804     21   3350     23    894     21   \n",
       "82797          21   1098   1098   1098   1098   1098   1098   1098   1098   \n",
       "\n",
       "            site10  \n",
       "session_id          \n",
       "82793            0  \n",
       "82794         1216  \n",
       "82795         6780  \n",
       "82796          961  \n",
       "82797         1098  "
      ]
     },
     "execution_count": 10,
     "metadata": {},
     "output_type": "execute_result"
    }
   ],
   "source": [
    "#İlk modelimizi eğitmek için öncelikle verimizi modele uygun olarak hazırlamalıyız. \n",
    "#İlk olarak eğitim setimizden hedef değişkenimizi çıkarıyoruz. \n",
    "#Böylelikle eğitim ve test setlerimiz eşit sayıda sütun içerecek ve bütün dönüşüm \n",
    "#işlemleri tek bir data frame'da yapılıyor gibi eş zamanlı olarak eğitim ve test \n",
    "#verilerine etki edecek.\n",
    "\n",
    "y_train = train_df['target']\n",
    "\n",
    "#concat fonksiyonu iki veriyi birleştiriyor. drop fonksiyonu ailk olarak atılacak sütun değerini alıyor.\n",
    "#Atılacak değer satırda ise axis = 0, sütunda ise axis = 1 olarak seçiyoruz.\n",
    "\n",
    "full_df = pd.concat([train_df.drop('target', axis=1), test_df])\n",
    "\n",
    "#Sonraki adımlar için train sınırını kaydediyoruz.\n",
    "idx_split = train_df.shape[0]\n",
    "\n",
    "#Temel modelimiz için sadece oturum boyunca ziyaret edilen web sitelerinin \n",
    "#bulunduğu sütunları kullanacağız, süreler kullanılmayacak. \n",
    "#Diğer bir deyişle oturum boyunca Ali'nin favori sitelerine ne sıklıkla \n",
    "#girdiğini modelleme çalışıyoruz.\n",
    "\n",
    "full_sites = full_df[sites]\n",
    "full_sites.tail()"
   ]
  },
  {
   "cell_type": "code",
   "execution_count": 11,
   "metadata": {},
   "outputs": [
    {
     "data": {
      "text/plain": [
       "<336358x48371 sparse matrix of type '<class 'numpy.int64'>'\n",
       "\twith 3195430 stored elements in Compressed Sparse Row format>"
      ]
     },
     "execution_count": 11,
     "metadata": {},
     "output_type": "execute_result"
    }
   ],
   "source": [
    "#Yukarıdaki gösterim lineer methodlar için uygun değil, dolayısıyla \n",
    "#her web sitesinin bir özniteliğe (sütun), sitelerin belirli bir \n",
    "#oturumda ziyaret edilme sayısının da değere (value) denk geldiği \n",
    "#bir dönüşüm yapmamız gerekiyor.\n",
    "\n",
    "sites_flatten = full_sites.values.flatten()\n",
    "\n",
    "full_sites_sparse = csr_matrix(([1] * sites_flatten.shape[0],\n",
    "                                sites_flatten,\n",
    "                                range(0, sites_flatten.shape[0]  + 10, 10)))[:, 1:]\n",
    "full_sites_sparse\n"
   ]
  },
  {
   "cell_type": "markdown",
   "metadata": {},
   "source": [
    "Seyrek Matris (Sparse Matrix)\n",
    "\n",
    "Seyrek matrisler, matristeki veri tutulan kısmın tüm matrise oranının küçük olduğu özel matrislerdir. Bizim örneğimizde 336358x48371'lik bir matriste (16.2 milyar) değer varken sadece 3195430 değerde veri tutuluyor. Seyrek matrislerin avantajı daha az yer kapladığı için verilerin hafızada kolayca tutulması."
   ]
  },
  {
   "cell_type": "code",
   "execution_count": 12,
   "metadata": {},
   "outputs": [
    {
     "name": "stdout",
     "output_type": "stream",
     "text": [
      "1866898 elements * 8 bytes = 14935184 bytes\n",
      "sparse_matrix_size = 14935184 bytes\n"
     ]
    }
   ],
   "source": [
    "# Sparse matrisler matrimizin ne kadar hafıza kapladığını iki farklı yolla bulabiliriz.\n",
    "print('{0} elements * {1} bytes = {2} bytes'.format(full_sites_sparse.count_nonzero(), 8, \n",
    "                                                    full_sites_sparse.count_nonzero() * 8))\n",
    "\n",
    "print('sparse_matrix_size = {0} bytes'.format(full_sites_sparse.data.nbytes))"
   ]
  },
  {
   "cell_type": "code",
   "execution_count": 13,
   "metadata": {},
   "outputs": [
    {
     "data": {
      "text/plain": [
       "matrix([[2, 1, 0, 0, 0],\n",
       "        [0, 2, 0, 1, 0],\n",
       "        [0, 0, 1, 1, 1]])"
      ]
     },
     "execution_count": 13,
     "metadata": {},
     "output_type": "execute_result"
    }
   ],
   "source": [
    "data = [1] * 9\n",
    "\n",
    "indices = [1, 0, 0, 1, 3, 1, 2, 3, 4]\n",
    "\n",
    "indptr = [0, 3, 6, 9]\n",
    "\n",
    "matris = csr_matrix((data, indices, indptr)).todense()\n",
    "matris"
   ]
  },
  {
   "cell_type": "code",
   "execution_count": 14,
   "metadata": {},
   "outputs": [
    {
     "data": {
      "text/plain": [
       "matrix([[1, 0, 0, 0],\n",
       "        [2, 0, 1, 0],\n",
       "        [0, 1, 1, 1]])"
      ]
     },
     "execution_count": 14,
     "metadata": {},
     "output_type": "execute_result"
    }
   ],
   "source": [
    "#İlk sütun fazla olduğu için atmalıyız.\n",
    "matris = np.delete(matris, 0, 1)\n",
    "matris"
   ]
  },
  {
   "cell_type": "markdown",
   "metadata": {},
   "source": [
    "4.4. Matrisimizin sparness değeri kaçtır?\n",
    "\n",
    "    42%\n",
    "    47%\n",
    "    50%\n",
    "    53%\n",
    "\n",
    "Matristeki sıfır olmayan değerlerin sayısının toplam \n",
    "değerlerin sayısına bölerek matrisin sparness'ini buluyoruz."
   ]
  },
  {
   "cell_type": "code",
   "execution_count": 15,
   "metadata": {},
   "outputs": [
    {
     "data": {
      "text/plain": [
       "0.5"
      ]
     },
     "execution_count": 15,
     "metadata": {},
     "output_type": "execute_result"
    }
   ],
   "source": [
    "np.count_nonzero(matris) / 12"
   ]
  },
  {
   "cell_type": "markdown",
   "metadata": {},
   "source": [
    "3.İlk modelimizi eğitme\n",
    "\n",
    "İlk modelimiz için sklearn default değerleriyle lojistik regresyon kullanıyoruz.Verimizin %90'ını eğitim %10'unu validasyon için kullanıyoruz."
   ]
  },
  {
   "cell_type": "code",
   "execution_count": 16,
   "metadata": {},
   "outputs": [],
   "source": [
    "def get_auc_lr_valid(X, y, C=1.0, seed=17, ratio = 0.9):\n",
    "    \n",
    "    #NOT: X herhangi bir değer olabilir örneğimizde X_train kullanacağımız \n",
    "    #için şimdiden açıklamaları öyle yazdım.\n",
    "    \n",
    "    #X_train verisinin satır sayısıyla 0.9 sınır değerimizi çarpıp idx \n",
    "    #sınır değerini buluyoruz.\n",
    "    idx = int(round(X.shape[0] * ratio))\n",
    "    \n",
    "    #X_train verimizin yukarıda koyduğumuz %90'luk kısmıyla verimizi eğitiyoruz. \n",
    "    lr = LogisticRegression(C=C, random_state=seed).fit(X[:idx, :], y[:idx])\n",
    "    \n",
    "    #kalan %10'lık veri setiyle tahminde bulunuyoruz.\n",
    "    y_pred = lr.predict_proba(X[idx:, :])[:, 1]\n",
    "    \n",
    "    #tahmin ettiğimiz değerlerle gerçek y değerlerinin başarı oranına bakmak \n",
    "    #için roc auc skorunu kullanıyoruz.\n",
    "    score = roc_auc_score(y[idx:], y_pred)\n",
    "    \n",
    "    return score"
   ]
  },
  {
   "cell_type": "code",
   "execution_count": 17,
   "metadata": {},
   "outputs": [
    {
     "name": "stdout",
     "output_type": "stream",
     "text": [
      "0.919523954876358\n",
      "CPU times: user 1min 16s, sys: 4.71 s, total: 1min 21s\n",
      "Wall time: 4.28 s\n"
     ]
    }
   ],
   "source": [
    "%%time\n",
    "\n",
    "#X_train matrisini bulmak için sparse matrimizi dersin başiındaki \n",
    "#idx_split sınırıyla bölüyoruz. \n",
    "X_train = full_sites_sparse[:idx_split, :]\n",
    "\n",
    "print(get_auc_lr_valid(X_train, y_train))"
   ]
  },
  {
   "cell_type": "markdown",
   "metadata": {},
   "source": [
    "İlk modelimiz validasyon seti üzerinde 0.91952 doğruluk oranınına sahip oldu. \n",
    "Burası daha bizim başlangıç noktamız. Test veri seti üzerinde tahmin yapmak \n",
    "için modelimizi tüm eğitim seti üzerinde tekrar eğitmemiz gerekiyor. \n",
    "Şimdiye kadar modelimiz eğitim için verinin sadece bir kısmını kullandı, \n",
    "hepsini kullandığımızda modelimizin gücü artacak."
   ]
  },
  {
   "cell_type": "code",
   "execution_count": 18,
   "metadata": {},
   "outputs": [],
   "source": [
    "# Tahminleri bir dosyaya yazmak için aşağıdaki fonksiyonu kullanabiliriz.\n",
    "def write_to_submission_file(predicted_labels, out_file,\n",
    "                             target='target', index_label=\"session_id\"):\n",
    "    predicted_df = pd.DataFrame(predicted_labels,\n",
    "                                index = np.arange(1, predicted_labels.shape[0] + 1),\n",
    "                                columns=[target])\n",
    "    predicted_df.to_csv(out_file, index_label=index_label)\n",
    "    \n",
    "# Modeli bütün eğitim setini kullanarak eğitiyoruz.\n",
    "# Tekrar kullanımlara imkan sağlamak için  random_state=17 seçiyoruz.\n",
    "# Parameter C=1 default olarak veriliyor, biz burada sadece görünür yaptık.\n",
    "\n",
    "lr = LogisticRegression(C=1.0, random_state=17).fit(X_train, y_train)\n",
    "\n",
    "# Test veri seti için tahmin yapıyoruz.\n",
    "X_test = full_sites_sparse[idx_split:,:]\n",
    "y_test = lr.predict_proba(X_test)[:, 1]\n",
    "\n",
    "# Sonuçları bir csv dosyasına yazdırıyoruz.\n",
    "write_to_submission_file(y_test, 'baseline_1.csv')\n",
    "\n",
    "#Yukarıdaki adımları takip edip csv dosyasını yarışma sayfasına \n",
    "#yüklediyseniz ROC AUC = 0.90812 olmalı."
   ]
  },
  {
   "cell_type": "markdown",
   "metadata": {},
   "source": [
    "## 4.Modeli Geliştirme: Öznitelik Mühendisliği\n",
    "- 4.1.Eğitim ve test veri setlerinde hangi yıllardaki veriler bulunmaktadır?\n",
    "\n",
    "   - 13 and 14\n",
    "   - 2012 and 2013\n",
    "   - 2013 and 2014\n",
    "   - 2014 and 2015"
   ]
  },
  {
   "cell_type": "code",
   "execution_count": 19,
   "metadata": {},
   "outputs": [
    {
     "data": {
      "text/html": [
       "<div>\n",
       "<style scoped>\n",
       "    .dataframe tbody tr th:only-of-type {\n",
       "        vertical-align: middle;\n",
       "    }\n",
       "\n",
       "    .dataframe tbody tr th {\n",
       "        vertical-align: top;\n",
       "    }\n",
       "\n",
       "    .dataframe thead th {\n",
       "        text-align: right;\n",
       "    }\n",
       "</style>\n",
       "<table border=\"1\" class=\"dataframe\">\n",
       "  <thead>\n",
       "    <tr style=\"text-align: right;\">\n",
       "      <th></th>\n",
       "      <th>site1</th>\n",
       "      <th>time1</th>\n",
       "      <th>site2</th>\n",
       "      <th>time2</th>\n",
       "      <th>site3</th>\n",
       "      <th>time3</th>\n",
       "      <th>site4</th>\n",
       "      <th>time4</th>\n",
       "      <th>site5</th>\n",
       "      <th>time5</th>\n",
       "      <th>site6</th>\n",
       "      <th>time6</th>\n",
       "      <th>site7</th>\n",
       "      <th>time7</th>\n",
       "      <th>site8</th>\n",
       "      <th>time8</th>\n",
       "      <th>site9</th>\n",
       "      <th>time9</th>\n",
       "      <th>site10</th>\n",
       "      <th>time10</th>\n",
       "    </tr>\n",
       "    <tr>\n",
       "      <th>session_id</th>\n",
       "      <th></th>\n",
       "      <th></th>\n",
       "      <th></th>\n",
       "      <th></th>\n",
       "      <th></th>\n",
       "      <th></th>\n",
       "      <th></th>\n",
       "      <th></th>\n",
       "      <th></th>\n",
       "      <th></th>\n",
       "      <th></th>\n",
       "      <th></th>\n",
       "      <th></th>\n",
       "      <th></th>\n",
       "      <th></th>\n",
       "      <th></th>\n",
       "      <th></th>\n",
       "      <th></th>\n",
       "      <th></th>\n",
       "      <th></th>\n",
       "    </tr>\n",
       "  </thead>\n",
       "  <tbody>\n",
       "    <tr>\n",
       "      <th>21669</th>\n",
       "      <td>56</td>\n",
       "      <td>2013-01-12 08:05:57</td>\n",
       "      <td>55</td>\n",
       "      <td>2013-01-12 08:05:57</td>\n",
       "      <td>0</td>\n",
       "      <td>NaT</td>\n",
       "      <td>0</td>\n",
       "      <td>NaT</td>\n",
       "      <td>0</td>\n",
       "      <td>NaT</td>\n",
       "      <td>0</td>\n",
       "      <td>NaT</td>\n",
       "      <td>0</td>\n",
       "      <td>NaT</td>\n",
       "      <td>0</td>\n",
       "      <td>NaT</td>\n",
       "      <td>0</td>\n",
       "      <td>NaT</td>\n",
       "      <td>0</td>\n",
       "      <td>NaT</td>\n",
       "    </tr>\n",
       "    <tr>\n",
       "      <th>54843</th>\n",
       "      <td>56</td>\n",
       "      <td>2013-01-12 08:37:23</td>\n",
       "      <td>55</td>\n",
       "      <td>2013-01-12 08:37:23</td>\n",
       "      <td>56</td>\n",
       "      <td>2013-01-12 09:07:07</td>\n",
       "      <td>55</td>\n",
       "      <td>2013-01-12 09:07:09</td>\n",
       "      <td>0</td>\n",
       "      <td>NaT</td>\n",
       "      <td>0</td>\n",
       "      <td>NaT</td>\n",
       "      <td>0</td>\n",
       "      <td>NaT</td>\n",
       "      <td>0</td>\n",
       "      <td>NaT</td>\n",
       "      <td>0</td>\n",
       "      <td>NaT</td>\n",
       "      <td>0</td>\n",
       "      <td>NaT</td>\n",
       "    </tr>\n",
       "  </tbody>\n",
       "</table>\n",
       "</div>"
      ],
      "text/plain": [
       "            site1               time1  site2               time2  site3  \\\n",
       "session_id                                                                \n",
       "21669          56 2013-01-12 08:05:57     55 2013-01-12 08:05:57      0   \n",
       "54843          56 2013-01-12 08:37:23     55 2013-01-12 08:37:23     56   \n",
       "\n",
       "                         time3  site4               time4  site5 time5  site6  \\\n",
       "session_id                                                                      \n",
       "21669                      NaT      0                 NaT      0   NaT      0   \n",
       "54843      2013-01-12 09:07:07     55 2013-01-12 09:07:09      0   NaT      0   \n",
       "\n",
       "           time6  site7 time7  site8 time8  site9 time9  site10 time10  \n",
       "session_id                                                              \n",
       "21669        NaT      0   NaT      0   NaT      0   NaT       0    NaT  \n",
       "54843        NaT      0   NaT      0   NaT      0   NaT       0    NaT  "
      ]
     },
     "execution_count": 19,
     "metadata": {},
     "output_type": "execute_result"
    }
   ],
   "source": [
    "full_df[:idx_split].head(2)"
   ]
  },
  {
   "cell_type": "code",
   "execution_count": 20,
   "metadata": {},
   "outputs": [
    {
     "data": {
      "text/html": [
       "<div>\n",
       "<style scoped>\n",
       "    .dataframe tbody tr th:only-of-type {\n",
       "        vertical-align: middle;\n",
       "    }\n",
       "\n",
       "    .dataframe tbody tr th {\n",
       "        vertical-align: top;\n",
       "    }\n",
       "\n",
       "    .dataframe thead th {\n",
       "        text-align: right;\n",
       "    }\n",
       "</style>\n",
       "<table border=\"1\" class=\"dataframe\">\n",
       "  <thead>\n",
       "    <tr style=\"text-align: right;\">\n",
       "      <th></th>\n",
       "      <th>site1</th>\n",
       "      <th>time1</th>\n",
       "      <th>site2</th>\n",
       "      <th>time2</th>\n",
       "      <th>site3</th>\n",
       "      <th>time3</th>\n",
       "      <th>site4</th>\n",
       "      <th>time4</th>\n",
       "      <th>site5</th>\n",
       "      <th>time5</th>\n",
       "      <th>site6</th>\n",
       "      <th>time6</th>\n",
       "      <th>site7</th>\n",
       "      <th>time7</th>\n",
       "      <th>site8</th>\n",
       "      <th>time8</th>\n",
       "      <th>site9</th>\n",
       "      <th>time9</th>\n",
       "      <th>site10</th>\n",
       "      <th>time10</th>\n",
       "    </tr>\n",
       "    <tr>\n",
       "      <th>session_id</th>\n",
       "      <th></th>\n",
       "      <th></th>\n",
       "      <th></th>\n",
       "      <th></th>\n",
       "      <th></th>\n",
       "      <th></th>\n",
       "      <th></th>\n",
       "      <th></th>\n",
       "      <th></th>\n",
       "      <th></th>\n",
       "      <th></th>\n",
       "      <th></th>\n",
       "      <th></th>\n",
       "      <th></th>\n",
       "      <th></th>\n",
       "      <th></th>\n",
       "      <th></th>\n",
       "      <th></th>\n",
       "      <th></th>\n",
       "      <th></th>\n",
       "    </tr>\n",
       "  </thead>\n",
       "  <tbody>\n",
       "    <tr>\n",
       "      <th>82796</th>\n",
       "      <td>5828</td>\n",
       "      <td>2014-05-03 10:05:25</td>\n",
       "      <td>23</td>\n",
       "      <td>2014-05-03 10:05:27</td>\n",
       "      <td>21</td>\n",
       "      <td>2014-05-03 10:05:27</td>\n",
       "      <td>804</td>\n",
       "      <td>2014-05-03 10:05:27</td>\n",
       "      <td>21</td>\n",
       "      <td>2014-05-03 10:05:36</td>\n",
       "      <td>3350</td>\n",
       "      <td>2014-05-03 10:05:37</td>\n",
       "      <td>23</td>\n",
       "      <td>2014-05-03 10:05:37</td>\n",
       "      <td>894</td>\n",
       "      <td>2014-05-03 10:05:38</td>\n",
       "      <td>21</td>\n",
       "      <td>2014-05-03 10:05:38</td>\n",
       "      <td>961</td>\n",
       "      <td>2014-05-03 10:05:38</td>\n",
       "    </tr>\n",
       "    <tr>\n",
       "      <th>82797</th>\n",
       "      <td>21</td>\n",
       "      <td>2014-11-02 10:46:57</td>\n",
       "      <td>1098</td>\n",
       "      <td>2014-11-02 10:46:57</td>\n",
       "      <td>1098</td>\n",
       "      <td>2014-11-02 10:46:58</td>\n",
       "      <td>1098</td>\n",
       "      <td>2014-11-02 10:47:12</td>\n",
       "      <td>1098</td>\n",
       "      <td>2014-11-02 10:47:13</td>\n",
       "      <td>1098</td>\n",
       "      <td>2014-11-02 10:47:14</td>\n",
       "      <td>1098</td>\n",
       "      <td>2014-11-02 10:47:15</td>\n",
       "      <td>1098</td>\n",
       "      <td>2014-11-02 10:47:18</td>\n",
       "      <td>1098</td>\n",
       "      <td>2014-11-02 10:47:42</td>\n",
       "      <td>1098</td>\n",
       "      <td>2014-11-02 10:47:47</td>\n",
       "    </tr>\n",
       "  </tbody>\n",
       "</table>\n",
       "</div>"
      ],
      "text/plain": [
       "            site1               time1  site2               time2  site3  \\\n",
       "session_id                                                                \n",
       "82796        5828 2014-05-03 10:05:25     23 2014-05-03 10:05:27     21   \n",
       "82797          21 2014-11-02 10:46:57   1098 2014-11-02 10:46:57   1098   \n",
       "\n",
       "                         time3  site4               time4  site5  \\\n",
       "session_id                                                         \n",
       "82796      2014-05-03 10:05:27    804 2014-05-03 10:05:27     21   \n",
       "82797      2014-11-02 10:46:58   1098 2014-11-02 10:47:12   1098   \n",
       "\n",
       "                         time5  site6               time6  site7  \\\n",
       "session_id                                                         \n",
       "82796      2014-05-03 10:05:36   3350 2014-05-03 10:05:37     23   \n",
       "82797      2014-11-02 10:47:13   1098 2014-11-02 10:47:14   1098   \n",
       "\n",
       "                         time7  site8               time8  site9  \\\n",
       "session_id                                                         \n",
       "82796      2014-05-03 10:05:37    894 2014-05-03 10:05:38     21   \n",
       "82797      2014-11-02 10:47:15   1098 2014-11-02 10:47:18   1098   \n",
       "\n",
       "                         time9  site10              time10  \n",
       "session_id                                                  \n",
       "82796      2014-05-03 10:05:38     961 2014-05-03 10:05:38  \n",
       "82797      2014-11-02 10:47:42    1098 2014-11-02 10:47:47  "
      ]
     },
     "execution_count": 20,
     "metadata": {},
     "output_type": "execute_result"
    }
   ],
   "source": [
    "full_df[idx_split:].tail(2)"
   ]
  },
  {
   "cell_type": "code",
   "execution_count": 21,
   "metadata": {},
   "outputs": [],
   "source": [
    "#Şimdi de YYYYMM formatında yeni bir öznitelik çıkaracağız. \n",
    "#Örneğin 2014 yılının 7. ayı 201407 olarak gözükecek.\n",
    "\n",
    "full_new_feat = pd.DataFrame(index=full_df.index)\n",
    "\n",
    "#lambda x (ts) fonksiyonuna aşinayız artık.\n",
    "full_new_feat['start_month'] = full_df['time1'].apply(lambda ts: 100 * ts.year + ts.month)"
   ]
  },
  {
   "cell_type": "markdown",
   "metadata": {},
   "source": [
    "4.2. Ali'nin oturumları ve yeni öznitelik 'start_month' ile \n",
    "ilgili aşağıdaki ifadelerden doğru olanları seçmemiz isteniyor.\n",
    "\n",
    "    Ali her ay online olarak görüldü.\n",
    "    2013 başından 2014 ortasına kadar, Ali aylık oturum sayısı azaldı.\n",
    "    Bütün süreçte Ali'nin aylık oturum sayısı genel olarak sabitti.\n",
    "    2013 başından 2014 ortasına kadar, Ali aylık oturum sayısı arttı."
   ]
  },
  {
   "cell_type": "code",
   "execution_count": 22,
   "metadata": {},
   "outputs": [
    {
     "data": {
      "image/png": "[encoded data removed]",
      "text/plain": [
       "<Figure size 432x288 with 1 Axes>"
      ]
     },
     "metadata": {},
     "output_type": "display_data"
    }
   ],
   "source": [
    "ali_index = time_df[time_df.target == 1].index\n",
    "import seaborn as sns\n",
    "sns.countplot(full_new_feat.loc[ali_index]['start_month'])\n",
    "plt.xticks(rotation=45)\n",
    "plt.show()"
   ]
  },
  {
   "cell_type": "code",
   "execution_count": 23,
   "metadata": {},
   "outputs": [
    {
     "name": "stdout",
     "output_type": "stream",
     "text": [
      "0.7508\n"
     ]
    }
   ],
   "source": [
    "# yeni özniteliğimizi de sparse matrise ekleyelim.\n",
    "month = full_new_feat[['start_month']].as_matrix()\n",
    "X_train = csr_matrix(hstack([full_sites_sparse[:idx_split,:], month[:idx_split,:]]))\n",
    "\n",
    "# Validasyon seti üzerinde tahmin sonuçlarımıza bakalım.\n",
    "print(round(get_auc_lr_valid(X_train, y_train), 4))"
   ]
  },
  {
   "cell_type": "markdown",
   "metadata": {},
   "source": [
    "Modelimizin başarı oranı ciddi bir şekilde düştü. Faydalı bir öznitelik eklediğimizi düşünmemize rağmen modelimiz niye bu kadar kötü bir sonuç verdi?\n",
    "\n",
    "Öznitelikleri ölçeklendirmek (Scaling) gerekli mi?\n",
    "\n",
    "Her oturumda belirli bir web sitesine yapılan ziyaret sayısı 0 ile 10 değerlerini alırken ‘start_month’ özniteliği 201301 ile 201412 arasında değerler alıyor. Bu da demektir ki bu öznitelik modeli diğerlerinden çok daha fazla etkileyecektir. Bu sebeple öznitelikleri aynı aralığa (scale) çekmemiz gerekiyor. Regularization ile ilgili ayrıntılı bilgiye buradan ulaşabilirsiniz.\n",
    "\n",
    "Standartlaştırmanın bir yöntemi şöyle: Her gözlem değerini ait olduğu özniteliğin ortalama değerinden çıkartıp standart sapmasına bölebiliriz.\n",
    "\n",
    "Bazı pratik tavsiyeler:\n",
    "\n",
    "- Eğer özniteliklerimizin değerleri arasındaki fark çok fazlaysa ölçeklendirme mantıklı. (Örneğin, ülke nüfus değerleri milyon cinsindeyken GNP değerleri trilyon cinsindense.)\n",
    "- Eğer özniteliklerden bazılarına fazla ağırlık vermek konusunda herhangi bir nedenimiz veya fikrimiz yoksa ölçeklendirme mantıklı.\n",
    "- Eğer modelimizi açıklamak istiyorsak, modelimizi düzenleştirmeden (regularization) ve ölçeklendirmeden (scaling) yapmanız faydalı.\n",
    "- Ama esas olan modelimizin başarı oranını arttırmak ise farklı seçenekler deneyip en iyi performansı gösteren modeli seçmeliyiz.\n",
    "- Şimdi ‘start_month’ özniteliğini ölçeklendirelim modeli eğitmek için tekrar kullanalım ve başarı oranına bakalım."
   ]
  },
  {
   "cell_type": "code",
   "execution_count": 24,
   "metadata": {},
   "outputs": [
    {
     "name": "stdout",
     "output_type": "stream",
     "text": [
      "0.9197\n"
     ]
    }
   ],
   "source": [
    "# yeni özniteliğimizin standartlaştırılmış halini sparse matrisimize ekliyoruz.\n",
    "tmp = StandardScaler().fit_transform(full_new_feat[['start_month']])\n",
    "X_train = csr_matrix(hstack([full_sites_sparse[:idx_split,:], tmp[:idx_split,:]]))\n",
    "\n",
    "# validasyon seti üzerinde metriğimizi tekrar hesaplıyoruz.\n",
    "print(round(get_auc_lr_valid(X_train, y_train), 4))"
   ]
  },
  {
   "cell_type": "markdown",
   "metadata": {},
   "source": [
    "4.3. Eğitim setimize \"n_unique_sites\" diye bir öznitelik ekleyip \n",
    "validasyon seti üzerinde başarı oranına bakacağız.\n",
    "\"n_unique_sites\" özniteliği bir oturum boyunca girilen unique \n",
    "web-sitelerinin sayısını bize veriyor."
   ]
  },
  {
   "cell_type": "code",
   "execution_count": 25,
   "metadata": {},
   "outputs": [],
   "source": [
    "train_df['unique_count'] = train_df[sites].nunique(axis=1) - 1\n",
    "full_new_feat['unique'] = train_df['unique_count']"
   ]
  },
  {
   "cell_type": "code",
   "execution_count": 26,
   "metadata": {},
   "outputs": [
    {
     "name": "stdout",
     "output_type": "stream",
     "text": [
      "0.9157\n"
     ]
    }
   ],
   "source": [
    "# yeni özniteliğimizin standartlaştırılmış halini sparse matrisimize ekliyoruz.\n",
    "tmp = StandardScaler().fit_transform(full_new_feat[['start_month']])\n",
    "tnw = StandardScaler().fit_transform(full_new_feat[['unique']])\n",
    "X_train = csr_matrix(hstack([full_sites_sparse[:idx_split,:], tmp[:idx_split,:], \n",
    "                             tnw[:idx_split,:]]))\n",
    "\n",
    "# validasyon seti üzerinde metriğimizi tekrar hesaplıyoruz.\n",
    "print(round(get_auc_lr_valid(X_train, y_train), 4))"
   ]
  },
  {
   "cell_type": "markdown",
   "metadata": {},
   "source": [
    "Yeni öznitelik modelimizin başarı metriğini biraz azalttı, \n",
    "bu yüzden son modeli kullanmayacağız ama bu öznitelikleri \n",
    "tamamen atmıyoruz. Sonraki süreçte yeni özniteliklerle bir \n",
    "uyum halinde modelin başarı oranını arttırabilir.\n",
    "4.8. start_hour and morning diye iki öznitelik ekleyip \n",
    "modelimizin başarı oranını arttırıp artırmadığına bakacağız.\n",
    "\n",
    "Saat 0-11(dahil) olduğunda sabah diyoruz."
   ]
  },
  {
   "cell_type": "code",
   "execution_count": 27,
   "metadata": {},
   "outputs": [
    {
     "name": "stdout",
     "output_type": "stream",
     "text": [
      "0.9542\n"
     ]
    }
   ],
   "source": [
    "train_df['Date/Time'] = pd.to_datetime(train_df[times]['time1'], \n",
    "                                       format='%Y-%m-%d %H:%M:%S')\n",
    "train_df['HourofDay'] = train_df['Date/Time'].dt.hour\n",
    "train_df['is_morning'] = np.where(train_df['HourofDay'] >= 11, 1,0)\n",
    "full_new_feat['start_hour'] = train_df['HourofDay']\n",
    "full_new_feat['morning'] = train_df['is_morning']\n",
    "\n",
    "# yeni özniteliğimizin standartlaştırılmış halini sparse matrisimize ekliyoruz.\n",
    "tmp = StandardScaler().fit_transform(full_new_feat[['start_month']])\n",
    "tnw = StandardScaler().fit_transform(full_new_feat[['unique']])\n",
    "tns = StandardScaler().fit_transform(full_new_feat[['start_hour']])\n",
    "tnm = StandardScaler().fit_transform(full_new_feat[['morning']])\n",
    "\n",
    "X_train = csr_matrix(hstack([full_sites_sparse[:idx_split,:], tmp[:idx_split,:], \n",
    "                             tnw[:idx_split,:], \n",
    "                            tns[:idx_split,:], tnm[:idx_split,:]]))\n",
    "# validasyon seti üzerinde metriğimizi tekrar hesaplıyoruz.\n",
    "print(round(get_auc_lr_valid(X_train, y_train), 4))"
   ]
  },
  {
   "cell_type": "code",
   "execution_count": 28,
   "metadata": {},
   "outputs": [
    {
     "name": "stdout",
     "output_type": "stream",
     "text": [
      "0.9585\n"
     ]
    }
   ],
   "source": [
    "# yeni özniteliğimizin standartlaştırılmış halini sparse matrisimize ekliyoruz.\n",
    "tmp = StandardScaler().fit_transform(full_new_feat[['start_month']])\n",
    "tns = StandardScaler().fit_transform(full_new_feat[['start_hour']])\n",
    "tnm = StandardScaler().fit_transform(full_new_feat[['morning']])\n",
    "\n",
    "X_train = csr_matrix(hstack([full_sites_sparse[:idx_split,:], tmp[:idx_split,:], \n",
    "                            tns[:idx_split,:], tnm[:idx_split,:]]))\n",
    "\n",
    "# validasyon seti üzerinde metriğimizi tekrar hesaplıyoruz.\n",
    "print(round(get_auc_lr_valid(X_train, y_train), 4))"
   ]
  },
  {
   "cell_type": "markdown",
   "metadata": {},
   "source": [
    "## 5.Düzenlileştirilmiş (Regularization) Parametre Seçimi (Parameter Tuning)\n",
    "\n",
    "İlk modelimizle kıyasla modelimizin kalitesini arttıracak yeni öznitelikler çıkardık. Peki daha iyisini yapabilir miyiz? Eğitim ve test veri setlerimizi oluşturduktan sonra optimal hiper parametreleri (eğitim süresince değişmeyen model paramatreleri) aramak mantıklı.\n",
    "\n",
    "Örneğin 3. haftada karar ağaçlarına baktığımızda, ağacın derinliği bir hiper parametreydi ama ayrımı oluşturan öznitelikler ve onun sınırı bir hiper parametre değildi.\n",
    "\n",
    "Kullandığımız lojistik regresyonda, her bir özniteliğin ağırlığı değişiyor ve biz eğitme süresince onların optimal değerlerini bulurken düzenlileştirme (regularization) parametreleri sabit kalıyor. Şimdi bu hiper parametreleri optimize edeceğiz.\n",
    "\n",
    "Düzenlileştirme parametresiyle (default değeri 1) birlikte validasyon seti üzerinde modelin kalitesini hesaplayacağız.\n",
    "\n",
    "Düzenlileştirme parametresini optimize ederek yukarıdaki sonuçtan daha iyi bir sonuç elde etme istiyoruz. Bundan dolayı validasyon seti üzerinde C’nin her olası değeri için elde edilen ROC_AUC değerine bakacağız."
   ]
  },
  {
   "cell_type": "code",
   "execution_count": 31,
   "metadata": {},
   "outputs": [
    {
     "name": "stderr",
     "output_type": "stream",
     "text": [
      "100%|██████████| 10/10 [00:29<00:00,  2.99s/it]"
     ]
    },
    {
     "name": "stdout",
     "output_type": "stream",
     "text": [
      "CPU times: user 18min 27s, sys: 1min 4s, total: 19min 31s\n",
      "Wall time: 58.7 s\n"
     ]
    },
    {
     "name": "stderr",
     "output_type": "stream",
     "text": [
      "\n"
     ]
    }
   ],
   "source": [
    "%%time\n",
    "\n",
    "Cs = np.logspace(-3, 1, 10)\n",
    "\n",
    "scores = []\n",
    "    \n",
    "for C in Cs:\n",
    "    scores.append(get_auc_lr_valid(X_train, y_train, C=C))\n",
    "\n",
    "\n",
    "from tqdm import tqdm\n",
    "for C in tqdm(Cs):\n",
    "    scores.append(get_auc_lr_valid(X_train, y_train, C=C))"
   ]
  },
  {
   "cell_type": "markdown",
   "metadata": {},
   "source": [
    "Metriğimiz (AUC-ROC) y ekseninde düzenlileştirme parametremiz (C) x ekseninde \n",
    "olacak şekilde grafiğimizi çiziyoruz. Default olarak gelen C = 1 değerinde \n",
    "modelin AUC-ROC değeri yatay çizgiyle gösteriliyor."
   ]
  },
  {
   "cell_type": "code",
   "execution_count": 32,
   "metadata": {},
   "outputs": [
    {
     "data": {
      "image/png": "[encoded data removed]",
      "text/plain": [
       "<Figure size 432x288 with 1 Axes>"
      ]
     },
     "metadata": {},
     "output_type": "display_data"
    }
   ],
   "source": [
    "score_C_1 = 0.9585\n",
    "plt.plot(Cs, scores[:10], 'ro-')\n",
    "plt.xscale('log')\n",
    "plt.xlabel('C')\n",
    "plt.ylabel('AUC-ROC')\n",
    "plt.title('Regularization Parameter Tuning')\n",
    "plt.axhline(y=score_C_1, linewidth=.5, color = 'b', linestyle='dashed') \n",
    "plt.show()"
   ]
  },
  {
   "cell_type": "markdown",
   "metadata": {},
   "source": [
    "5.1. Modele en yüksek değere ulaştıran C parametresi kaçtır?\n",
    "\n",
    "    0.17\n",
    "    0.46\n",
    "    1.29\n",
    "    3.14"
   ]
  },
  {
   "cell_type": "code",
   "execution_count": 33,
   "metadata": {},
   "outputs": [],
   "source": [
    "C = 0.17\n",
    "\n",
    "# Eğitim ve test setlerimizi hazırlayıp alışkın olduğumuz süreçleri başlatıyoruz.\n",
    "tmp_scaled = StandardScaler().fit_transform(full_new_feat[['start_month', 'start_hour', 'morning']])\n",
    "X_train = csr_matrix(hstack([full_sites_sparse[:idx_split,:], \n",
    "                             tmp_scaled[:idx_split,:]]))\n",
    "X_test = csr_matrix(hstack([full_sites_sparse[idx_split:,:], \n",
    "                            tmp_scaled[idx_split:,:]]))\n",
    "\n",
    "# Modeli bütün eğitim setiyle eğitiyoruz ve bu sefer optimal düzenlileştirme değerlerini kullanıyoruz.\n",
    "lr = LogisticRegression(C=C, random_state=17).fit(X_train, y_train)\n",
    "\n",
    "# Test verisi üzerinde tahmin yapıyoruz.\n",
    "y_test = lr.predict_proba(X_test)[:, 1]\n",
    "\n",
    "# Ve tahminlerimizi kaydediyoruz.\n",
    "write_to_submission_file(y_test, 'baseline_2.csv')"
   ]
  },
  {
   "cell_type": "markdown",
   "metadata": {},
   "source": [
    "Bu ödevde, sparse matrisleri nasıl kullanacağımızı, lojistik regresyon modellerini nasıl eğiteceğimizi, nasıl yeni öznitelikler oluşturup onlar arasından en iyilerini nasıl seçeceğimizi. Ayrıca niye ölçeklendirmeye (scaling) ihtiyaç duyduğumuzu ve nasıl hiper parametre seçimi yapacağımızı öğrendik.\n",
    "\n",
    "Yeni öznitelikler bulmak için birkaç ipucu:\n",
    "\n",
    "- Hali hazırda varolan özniteliklerle ne yapacağınızı düşünün, bunları toplayın, çıkarın, çarpın, bölün vs.\n",
    "- Zaman serisi verilerinden yeni bilgiler çıkarmaya çalışın. (Örneğimizde veriden saati saatten de sabah mı değil mi özniteliğini çıkarıp modeli bu yeni bilgilerle eğittik.\n",
    "- Varolan özniteliklerin logunu, karesini vs. alıp farklı öznitelikler çıkarmaya çalışın.\n",
    "- Sürekli yeni fikirler ve modeller deneyin.\n",
    "- Dersteki kodlara buradan ulaşabilirsiniz, keyifli çalışmalar.\n",
    "\n",
    "# “Models are opinions embedded in mathematics” — Cathy O’Neil"
   ]
  }
 ],
 "metadata": {
  "kernelspec": {
   "display_name": "Python 3",
   "language": "python",
   "name": "python3"
  },
  "language_info": {
   "codemirror_mode": {
    "name": "ipython",
    "version": 3
   },
   "file_extension": ".py",
   "mimetype": "text/x-python",
   "name": "python",
   "nbconvert_exporter": "python",
   "pygments_lexer": "ipython3",
   "version": "3.6.4"
  }
 },
 "nbformat": 4,
 "nbformat_minor": 2
}
